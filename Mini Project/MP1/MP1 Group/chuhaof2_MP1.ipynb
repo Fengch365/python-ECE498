{
 "cells": [
  {
   "cell_type": "markdown",
   "metadata": {},
   "source": [
    "# Mini Project 1: Autonomous Vehicle Safety Analysis"
   ]
  },
  {
   "cell_type": "markdown",
   "metadata": {},
   "source": [
    "$\n",
    "\\textbf{Group members (all registered):}\\\\ \\ \\\\\n",
    "\\text{Boyang Zhou (NetID: boyangz3)}\\\\\n",
    "\\text{Chuhao Feng (NetID: chuhaof2)}\\\\\n",
    "\\text{Mengxuan Yu (NetID: my13)}\\\\ \n",
    "$"
   ]
  },
  {
   "cell_type": "markdown",
   "metadata": {},
   "source": [
    "## Initialization"
   ]
  },
  {
   "cell_type": "code",
   "execution_count": 1,
   "metadata": {},
   "outputs": [],
   "source": [
    "# import necessary package\n",
    "import pandas as pd \n",
    "import seaborn as sns\n",
    "import numpy as np  \n",
    "import datetime\n",
    "import matplotlib.pyplot as plt\n",
    "import matplotlib as mpl\n",
    "from scipy import stats as st"
   ]
  },
  {
   "cell_type": "code",
   "execution_count": 2,
   "metadata": {},
   "outputs": [],
   "source": [
    "# adjust format\n",
    "sns.set()"
   ]
  },
  {
   "cell_type": "markdown",
   "metadata": {},
   "source": [
    "## Task 0"
   ]
  },
  {
   "cell_type": "markdown",
   "metadata": {},
   "source": [
    "### Question 1"
   ]
  },
  {
   "cell_type": "code",
   "execution_count": 3,
   "metadata": {},
   "outputs": [],
   "source": [
    "#import mp1_av_disengagements.csv as dseng\n",
    "dseng = pd.read_csv('mp1_av_disengagements.csv')\n",
    "\n",
    "#import mp1_av_totalmiles.csv as tmile\n",
    "tmile = pd.read_csv('mp1_av_totalmiles.csv')"
   ]
  },
  {
   "cell_type": "code",
   "execution_count": 4,
   "metadata": {
    "scrolled": true
   },
   "outputs": [
    {
     "data": {
      "text/html": [
       "<div>\n",
       "<style scoped>\n",
       "    .dataframe tbody tr th:only-of-type {\n",
       "        vertical-align: middle;\n",
       "    }\n",
       "\n",
       "    .dataframe tbody tr th {\n",
       "        vertical-align: top;\n",
       "    }\n",
       "\n",
       "    .dataframe thead th {\n",
       "        text-align: right;\n",
       "    }\n",
       "</style>\n",
       "<table border=\"1\" class=\"dataframe\">\n",
       "  <thead>\n",
       "    <tr style=\"text-align: right;\">\n",
       "      <th></th>\n",
       "      <th>Month</th>\n",
       "      <th>Car</th>\n",
       "      <th>Location</th>\n",
       "      <th>Weather</th>\n",
       "      <th>TypeOfTrigger</th>\n",
       "      <th>ReactionTime</th>\n",
       "      <th>Cause</th>\n",
       "    </tr>\n",
       "  </thead>\n",
       "  <tbody>\n",
       "    <tr>\n",
       "      <th>0</th>\n",
       "      <td>14-Sep</td>\n",
       "      <td>WDD2221851A001072</td>\n",
       "      <td>urban-street</td>\n",
       "      <td>cloudy</td>\n",
       "      <td>automatic</td>\n",
       "      <td>0.58</td>\n",
       "      <td>Incorrect Traffic Light Detection</td>\n",
       "    </tr>\n",
       "    <tr>\n",
       "      <th>1</th>\n",
       "      <td>14-Sep</td>\n",
       "      <td>WDD2221851A001072</td>\n",
       "      <td>urban-street</td>\n",
       "      <td>cloudy</td>\n",
       "      <td>automatic</td>\n",
       "      <td>0.66</td>\n",
       "      <td>Adverse road surface conditions</td>\n",
       "    </tr>\n",
       "    <tr>\n",
       "      <th>2</th>\n",
       "      <td>14-Sep</td>\n",
       "      <td>WDD2221851A001072</td>\n",
       "      <td>urban-street</td>\n",
       "      <td>cloudy</td>\n",
       "      <td>automatic</td>\n",
       "      <td>1.93</td>\n",
       "      <td>Position Estimation Failure</td>\n",
       "    </tr>\n",
       "    <tr>\n",
       "      <th>3</th>\n",
       "      <td>14-Sep</td>\n",
       "      <td>WDD2221851A001072</td>\n",
       "      <td>urban-street</td>\n",
       "      <td>cloudy</td>\n",
       "      <td>automatic</td>\n",
       "      <td>0.65</td>\n",
       "      <td>Emergency Vehicle</td>\n",
       "    </tr>\n",
       "    <tr>\n",
       "      <th>4</th>\n",
       "      <td>14-Sep</td>\n",
       "      <td>WDD2221851A001072</td>\n",
       "      <td>urban-street</td>\n",
       "      <td>cloudy</td>\n",
       "      <td>automatic</td>\n",
       "      <td>0.64</td>\n",
       "      <td>Adverse road surface conditions</td>\n",
       "    </tr>\n",
       "    <tr>\n",
       "      <th>5</th>\n",
       "      <td>14-Sep</td>\n",
       "      <td>WDD2221851A001072</td>\n",
       "      <td>urban-street</td>\n",
       "      <td>cloudy</td>\n",
       "      <td>automatic</td>\n",
       "      <td>0.88</td>\n",
       "      <td>Incorrect Traffic Light Detection</td>\n",
       "    </tr>\n",
       "    <tr>\n",
       "      <th>6</th>\n",
       "      <td>14-Sep</td>\n",
       "      <td>WDD2221851A001072</td>\n",
       "      <td>urban-street</td>\n",
       "      <td>cloudy</td>\n",
       "      <td>automatic</td>\n",
       "      <td>0.41</td>\n",
       "      <td>Emergency Vehicle</td>\n",
       "    </tr>\n",
       "    <tr>\n",
       "      <th>7</th>\n",
       "      <td>14-Sep</td>\n",
       "      <td>WDD2221851A001072</td>\n",
       "      <td>urban-street</td>\n",
       "      <td>cloudy</td>\n",
       "      <td>automatic</td>\n",
       "      <td>1.45</td>\n",
       "      <td>Emergency Vehicle</td>\n",
       "    </tr>\n",
       "    <tr>\n",
       "      <th>8</th>\n",
       "      <td>14-Sep</td>\n",
       "      <td>WDD2221851A001072</td>\n",
       "      <td>urban-street</td>\n",
       "      <td>cloudy</td>\n",
       "      <td>automatic</td>\n",
       "      <td>0.07</td>\n",
       "      <td>Software Froze</td>\n",
       "    </tr>\n",
       "    <tr>\n",
       "      <th>9</th>\n",
       "      <td>14-Sep</td>\n",
       "      <td>WDD2221851A001072</td>\n",
       "      <td>urban-street</td>\n",
       "      <td>cloudy</td>\n",
       "      <td>automatic</td>\n",
       "      <td>0.37</td>\n",
       "      <td>Hardware Fault</td>\n",
       "    </tr>\n",
       "    <tr>\n",
       "      <th>10</th>\n",
       "      <td>14-Sep</td>\n",
       "      <td>WDD2221851A001072</td>\n",
       "      <td>urban-street</td>\n",
       "      <td>cloudy</td>\n",
       "      <td>automatic</td>\n",
       "      <td>1.55</td>\n",
       "      <td>Emergency Vehicle</td>\n",
       "    </tr>\n",
       "    <tr>\n",
       "      <th>11</th>\n",
       "      <td>14-Sep</td>\n",
       "      <td>WDD2221851A001072</td>\n",
       "      <td>urban-street</td>\n",
       "      <td>cloudy</td>\n",
       "      <td>automatic</td>\n",
       "      <td>0.04</td>\n",
       "      <td>Incorrect Traffic Light Detection</td>\n",
       "    </tr>\n",
       "    <tr>\n",
       "      <th>12</th>\n",
       "      <td>14-Sep</td>\n",
       "      <td>WDD2221851A001072</td>\n",
       "      <td>urban-street</td>\n",
       "      <td>cloudy</td>\n",
       "      <td>automatic</td>\n",
       "      <td>0.40</td>\n",
       "      <td>Incorrect behavior prediction of others</td>\n",
       "    </tr>\n",
       "    <tr>\n",
       "      <th>13</th>\n",
       "      <td>14-Sep</td>\n",
       "      <td>WDD2221851A001072</td>\n",
       "      <td>urban-street</td>\n",
       "      <td>cloudy</td>\n",
       "      <td>automatic</td>\n",
       "      <td>1.86</td>\n",
       "      <td>Emergency Vehicle</td>\n",
       "    </tr>\n",
       "    <tr>\n",
       "      <th>14</th>\n",
       "      <td>14-Sep</td>\n",
       "      <td>WDD2221851A001072</td>\n",
       "      <td>urban-street</td>\n",
       "      <td>cloudy</td>\n",
       "      <td>automatic</td>\n",
       "      <td>0.21</td>\n",
       "      <td>Adverse road surface conditions</td>\n",
       "    </tr>\n",
       "    <tr>\n",
       "      <th>15</th>\n",
       "      <td>14-Sep</td>\n",
       "      <td>WDD2221851A001072</td>\n",
       "      <td>urban-street</td>\n",
       "      <td>cloudy</td>\n",
       "      <td>automatic</td>\n",
       "      <td>0.51</td>\n",
       "      <td>Recklessly behaving agent</td>\n",
       "    </tr>\n",
       "    <tr>\n",
       "      <th>16</th>\n",
       "      <td>14-Sep</td>\n",
       "      <td>WDD2221851A001072</td>\n",
       "      <td>urban-street</td>\n",
       "      <td>cloudy</td>\n",
       "      <td>manual</td>\n",
       "      <td>NaN</td>\n",
       "      <td>Recklessly behaving agent</td>\n",
       "    </tr>\n",
       "    <tr>\n",
       "      <th>17</th>\n",
       "      <td>14-Sep</td>\n",
       "      <td>WDD2221851A001072</td>\n",
       "      <td>urban-street</td>\n",
       "      <td>cloudy</td>\n",
       "      <td>automatic</td>\n",
       "      <td>0.38</td>\n",
       "      <td>System Tuning and Calibration</td>\n",
       "    </tr>\n",
       "    <tr>\n",
       "      <th>18</th>\n",
       "      <td>14-Sep</td>\n",
       "      <td>WDD2221851A001072</td>\n",
       "      <td>urban-street</td>\n",
       "      <td>cloudy</td>\n",
       "      <td>manual</td>\n",
       "      <td>NaN</td>\n",
       "      <td>Unwanted Driver Discomfort</td>\n",
       "    </tr>\n",
       "    <tr>\n",
       "      <th>19</th>\n",
       "      <td>14-Sep</td>\n",
       "      <td>WDD2221851A001072</td>\n",
       "      <td>urban-street</td>\n",
       "      <td>cloudy</td>\n",
       "      <td>automatic</td>\n",
       "      <td>0.22</td>\n",
       "      <td>Incorrect Traffic Light Detection</td>\n",
       "    </tr>\n",
       "    <tr>\n",
       "      <th>20</th>\n",
       "      <td>14-Sep</td>\n",
       "      <td>WDD2221851A001072</td>\n",
       "      <td>urban-street</td>\n",
       "      <td>cloudy</td>\n",
       "      <td>manual</td>\n",
       "      <td>NaN</td>\n",
       "      <td>Unwanted Driver Discomfort</td>\n",
       "    </tr>\n",
       "    <tr>\n",
       "      <th>21</th>\n",
       "      <td>14-Sep</td>\n",
       "      <td>WDD2221851A001072</td>\n",
       "      <td>urban-street</td>\n",
       "      <td>cloudy</td>\n",
       "      <td>manual</td>\n",
       "      <td>NaN</td>\n",
       "      <td>Incorrect behavior prediction of others</td>\n",
       "    </tr>\n",
       "    <tr>\n",
       "      <th>22</th>\n",
       "      <td>14-Sep</td>\n",
       "      <td>WDD2221851A001072</td>\n",
       "      <td>urban-street</td>\n",
       "      <td>cloudy</td>\n",
       "      <td>automatic</td>\n",
       "      <td>1.38</td>\n",
       "      <td>Adverse road surface conditions</td>\n",
       "    </tr>\n",
       "    <tr>\n",
       "      <th>23</th>\n",
       "      <td>14-Sep</td>\n",
       "      <td>WDD2221851A001072</td>\n",
       "      <td>urban-street</td>\n",
       "      <td>cloudy</td>\n",
       "      <td>manual</td>\n",
       "      <td>NaN</td>\n",
       "      <td>Software Froze</td>\n",
       "    </tr>\n",
       "    <tr>\n",
       "      <th>24</th>\n",
       "      <td>14-Sep</td>\n",
       "      <td>WDD2221851A001072</td>\n",
       "      <td>urban-street</td>\n",
       "      <td>cloudy</td>\n",
       "      <td>manual</td>\n",
       "      <td>NaN</td>\n",
       "      <td>Recklessly behaving agent</td>\n",
       "    </tr>\n",
       "    <tr>\n",
       "      <th>25</th>\n",
       "      <td>14-Sep</td>\n",
       "      <td>WDD2221851A001072</td>\n",
       "      <td>urban-street</td>\n",
       "      <td>cloudy</td>\n",
       "      <td>automatic</td>\n",
       "      <td>0.44</td>\n",
       "      <td>Unwanted Driver Discomfort</td>\n",
       "    </tr>\n",
       "    <tr>\n",
       "      <th>26</th>\n",
       "      <td>14-Sep</td>\n",
       "      <td>WDD2221851A001072</td>\n",
       "      <td>urban-street</td>\n",
       "      <td>cloudy</td>\n",
       "      <td>manual</td>\n",
       "      <td>NaN</td>\n",
       "      <td>Software Froze</td>\n",
       "    </tr>\n",
       "    <tr>\n",
       "      <th>27</th>\n",
       "      <td>14-Sep</td>\n",
       "      <td>WDD2221851A001072</td>\n",
       "      <td>urban-street</td>\n",
       "      <td>cloudy</td>\n",
       "      <td>manual</td>\n",
       "      <td>NaN</td>\n",
       "      <td>Hardware Fault</td>\n",
       "    </tr>\n",
       "    <tr>\n",
       "      <th>28</th>\n",
       "      <td>14-Sep</td>\n",
       "      <td>WDD2221851A001072</td>\n",
       "      <td>urban-street</td>\n",
       "      <td>cloudy</td>\n",
       "      <td>automatic</td>\n",
       "      <td>0.04</td>\n",
       "      <td>Unwanted Driver Discomfort</td>\n",
       "    </tr>\n",
       "    <tr>\n",
       "      <th>29</th>\n",
       "      <td>14-Sep</td>\n",
       "      <td>WDD2221851A001072</td>\n",
       "      <td>urban-street</td>\n",
       "      <td>cloudy</td>\n",
       "      <td>manual</td>\n",
       "      <td>NaN</td>\n",
       "      <td>Recklessly behaving agent</td>\n",
       "    </tr>\n",
       "    <tr>\n",
       "      <th>...</th>\n",
       "      <td>...</td>\n",
       "      <td>...</td>\n",
       "      <td>...</td>\n",
       "      <td>...</td>\n",
       "      <td>...</td>\n",
       "      <td>...</td>\n",
       "      <td>...</td>\n",
       "    </tr>\n",
       "    <tr>\n",
       "      <th>994</th>\n",
       "      <td>14-Nov</td>\n",
       "      <td>WDD2221851A000495</td>\n",
       "      <td>urban-street</td>\n",
       "      <td>clear</td>\n",
       "      <td>automatic</td>\n",
       "      <td>0.18</td>\n",
       "      <td>Hardware Fault</td>\n",
       "    </tr>\n",
       "    <tr>\n",
       "      <th>995</th>\n",
       "      <td>14-Nov</td>\n",
       "      <td>WDD2221851A000495</td>\n",
       "      <td>urban-street</td>\n",
       "      <td>clear</td>\n",
       "      <td>automatic</td>\n",
       "      <td>21.00</td>\n",
       "      <td>System Tuning and Calibration</td>\n",
       "    </tr>\n",
       "    <tr>\n",
       "      <th>996</th>\n",
       "      <td>14-Nov</td>\n",
       "      <td>WDD2221851A000495</td>\n",
       "      <td>urban-street</td>\n",
       "      <td>clear</td>\n",
       "      <td>automatic</td>\n",
       "      <td>1.06</td>\n",
       "      <td>System Tuning and Calibration</td>\n",
       "    </tr>\n",
       "    <tr>\n",
       "      <th>997</th>\n",
       "      <td>14-Nov</td>\n",
       "      <td>WDD2221851A000495</td>\n",
       "      <td>urban-street</td>\n",
       "      <td>clear</td>\n",
       "      <td>manual</td>\n",
       "      <td>NaN</td>\n",
       "      <td>System Tuning and Calibration</td>\n",
       "    </tr>\n",
       "    <tr>\n",
       "      <th>998</th>\n",
       "      <td>14-Nov</td>\n",
       "      <td>WDD2221851A000495</td>\n",
       "      <td>urban-street</td>\n",
       "      <td>clear</td>\n",
       "      <td>manual</td>\n",
       "      <td>NaN</td>\n",
       "      <td>Hardware Fault</td>\n",
       "    </tr>\n",
       "    <tr>\n",
       "      <th>999</th>\n",
       "      <td>14-Nov</td>\n",
       "      <td>WDD2221851A000495</td>\n",
       "      <td>urban-street</td>\n",
       "      <td>clear</td>\n",
       "      <td>manual</td>\n",
       "      <td>NaN</td>\n",
       "      <td>Software Froze</td>\n",
       "    </tr>\n",
       "    <tr>\n",
       "      <th>1000</th>\n",
       "      <td>14-Nov</td>\n",
       "      <td>WDD2221851A000495</td>\n",
       "      <td>urban-street</td>\n",
       "      <td>clear</td>\n",
       "      <td>automatic</td>\n",
       "      <td>1.92</td>\n",
       "      <td>System Tuning and Calibration</td>\n",
       "    </tr>\n",
       "    <tr>\n",
       "      <th>1001</th>\n",
       "      <td>14-Nov</td>\n",
       "      <td>WDD2221851A000495</td>\n",
       "      <td>urban-street</td>\n",
       "      <td>clear</td>\n",
       "      <td>automatic</td>\n",
       "      <td>0.20</td>\n",
       "      <td>System Tuning and Calibration</td>\n",
       "    </tr>\n",
       "    <tr>\n",
       "      <th>1002</th>\n",
       "      <td>14-Nov</td>\n",
       "      <td>WDD2221851A000495</td>\n",
       "      <td>urban-street</td>\n",
       "      <td>clear</td>\n",
       "      <td>automatic</td>\n",
       "      <td>1.12</td>\n",
       "      <td>Hardware Fault</td>\n",
       "    </tr>\n",
       "    <tr>\n",
       "      <th>1003</th>\n",
       "      <td>14-Nov</td>\n",
       "      <td>WDD2221851A000495</td>\n",
       "      <td>urban-street</td>\n",
       "      <td>clear</td>\n",
       "      <td>manual</td>\n",
       "      <td>NaN</td>\n",
       "      <td>Recklessly behaving agent</td>\n",
       "    </tr>\n",
       "    <tr>\n",
       "      <th>1004</th>\n",
       "      <td>14-Nov</td>\n",
       "      <td>WDD2221851A000495</td>\n",
       "      <td>urban-street</td>\n",
       "      <td>clear</td>\n",
       "      <td>manual</td>\n",
       "      <td>NaN</td>\n",
       "      <td>System Tuning and Calibration</td>\n",
       "    </tr>\n",
       "    <tr>\n",
       "      <th>1005</th>\n",
       "      <td>14-Nov</td>\n",
       "      <td>WDD2221851A000495</td>\n",
       "      <td>urban-street</td>\n",
       "      <td>clear</td>\n",
       "      <td>manual</td>\n",
       "      <td>NaN</td>\n",
       "      <td>System Tuning and Calibration</td>\n",
       "    </tr>\n",
       "    <tr>\n",
       "      <th>1006</th>\n",
       "      <td>14-Nov</td>\n",
       "      <td>WDD2221851A000495</td>\n",
       "      <td>urban-street</td>\n",
       "      <td>clear</td>\n",
       "      <td>automatic</td>\n",
       "      <td>0.29</td>\n",
       "      <td>Software Froze</td>\n",
       "    </tr>\n",
       "    <tr>\n",
       "      <th>1007</th>\n",
       "      <td>14-Nov</td>\n",
       "      <td>WDD2221851A000495</td>\n",
       "      <td>urban-street</td>\n",
       "      <td>clear</td>\n",
       "      <td>automatic</td>\n",
       "      <td>1.48</td>\n",
       "      <td>System Tuning and Calibration</td>\n",
       "    </tr>\n",
       "    <tr>\n",
       "      <th>1008</th>\n",
       "      <td>14-Nov</td>\n",
       "      <td>WDD2221851A000495</td>\n",
       "      <td>urban-street</td>\n",
       "      <td>clear</td>\n",
       "      <td>automatic</td>\n",
       "      <td>0.45</td>\n",
       "      <td>Software Froze</td>\n",
       "    </tr>\n",
       "    <tr>\n",
       "      <th>1009</th>\n",
       "      <td>14-Nov</td>\n",
       "      <td>WDD2221851A000495</td>\n",
       "      <td>urban-street</td>\n",
       "      <td>clear</td>\n",
       "      <td>manual</td>\n",
       "      <td>NaN</td>\n",
       "      <td>System Tuning and Calibration</td>\n",
       "    </tr>\n",
       "    <tr>\n",
       "      <th>1010</th>\n",
       "      <td>14-Nov</td>\n",
       "      <td>WDD2221851A000495</td>\n",
       "      <td>urban-street</td>\n",
       "      <td>clear</td>\n",
       "      <td>manual</td>\n",
       "      <td>NaN</td>\n",
       "      <td>Software Froze</td>\n",
       "    </tr>\n",
       "    <tr>\n",
       "      <th>1011</th>\n",
       "      <td>14-Nov</td>\n",
       "      <td>WDD2221851A000495</td>\n",
       "      <td>urban-street</td>\n",
       "      <td>clear</td>\n",
       "      <td>manual</td>\n",
       "      <td>NaN</td>\n",
       "      <td>System Tuning and Calibration</td>\n",
       "    </tr>\n",
       "    <tr>\n",
       "      <th>1012</th>\n",
       "      <td>14-Nov</td>\n",
       "      <td>WDD2221851A000495</td>\n",
       "      <td>urban-street</td>\n",
       "      <td>clear</td>\n",
       "      <td>automatic</td>\n",
       "      <td>1.85</td>\n",
       "      <td>System Tuning and Calibration</td>\n",
       "    </tr>\n",
       "    <tr>\n",
       "      <th>1013</th>\n",
       "      <td>14-Nov</td>\n",
       "      <td>WDD2221851A000495</td>\n",
       "      <td>urban-street</td>\n",
       "      <td>clear</td>\n",
       "      <td>automatic</td>\n",
       "      <td>2.11</td>\n",
       "      <td>Hardware Fault</td>\n",
       "    </tr>\n",
       "    <tr>\n",
       "      <th>1014</th>\n",
       "      <td>14-Nov</td>\n",
       "      <td>WDD2221851A000495</td>\n",
       "      <td>urban-street</td>\n",
       "      <td>clear</td>\n",
       "      <td>automatic</td>\n",
       "      <td>0.90</td>\n",
       "      <td>Software Froze</td>\n",
       "    </tr>\n",
       "    <tr>\n",
       "      <th>1015</th>\n",
       "      <td>14-Nov</td>\n",
       "      <td>WDD2221851A000495</td>\n",
       "      <td>urban-street</td>\n",
       "      <td>clear</td>\n",
       "      <td>automatic</td>\n",
       "      <td>1.25</td>\n",
       "      <td>System Tuning and Calibration</td>\n",
       "    </tr>\n",
       "    <tr>\n",
       "      <th>1016</th>\n",
       "      <td>14-Nov</td>\n",
       "      <td>WDD2221851A000495</td>\n",
       "      <td>urban-street</td>\n",
       "      <td>clear</td>\n",
       "      <td>manual</td>\n",
       "      <td>NaN</td>\n",
       "      <td>System Tuning and Calibration</td>\n",
       "    </tr>\n",
       "    <tr>\n",
       "      <th>1017</th>\n",
       "      <td>14-Nov</td>\n",
       "      <td>WDD2221851A000495</td>\n",
       "      <td>urban-street</td>\n",
       "      <td>clear</td>\n",
       "      <td>manual</td>\n",
       "      <td>NaN</td>\n",
       "      <td>Hardware Fault</td>\n",
       "    </tr>\n",
       "    <tr>\n",
       "      <th>1018</th>\n",
       "      <td>14-Nov</td>\n",
       "      <td>WDD2221851A000495</td>\n",
       "      <td>urban-street</td>\n",
       "      <td>clear</td>\n",
       "      <td>manual</td>\n",
       "      <td>NaN</td>\n",
       "      <td>Software Froze</td>\n",
       "    </tr>\n",
       "    <tr>\n",
       "      <th>1019</th>\n",
       "      <td>14-Nov</td>\n",
       "      <td>WDD2221851A000495</td>\n",
       "      <td>urban-street</td>\n",
       "      <td>clear</td>\n",
       "      <td>manual</td>\n",
       "      <td>NaN</td>\n",
       "      <td>Hardware Fault</td>\n",
       "    </tr>\n",
       "    <tr>\n",
       "      <th>1020</th>\n",
       "      <td>14-Nov</td>\n",
       "      <td>WDD2221851A000495</td>\n",
       "      <td>urban-street</td>\n",
       "      <td>clear</td>\n",
       "      <td>manual</td>\n",
       "      <td>NaN</td>\n",
       "      <td>System Tuning and Calibration</td>\n",
       "    </tr>\n",
       "    <tr>\n",
       "      <th>1021</th>\n",
       "      <td>14-Nov</td>\n",
       "      <td>WDD2221851A000495</td>\n",
       "      <td>highway</td>\n",
       "      <td>clear</td>\n",
       "      <td>manual</td>\n",
       "      <td>NaN</td>\n",
       "      <td>System Tuning and Calibration</td>\n",
       "    </tr>\n",
       "    <tr>\n",
       "      <th>1022</th>\n",
       "      <td>14-Nov</td>\n",
       "      <td>WDD2221851A000495</td>\n",
       "      <td>urban-street</td>\n",
       "      <td>clear</td>\n",
       "      <td>manual</td>\n",
       "      <td>NaN</td>\n",
       "      <td>Hardware Fault</td>\n",
       "    </tr>\n",
       "    <tr>\n",
       "      <th>1023</th>\n",
       "      <td>14-Nov</td>\n",
       "      <td>WDD2221851A000495</td>\n",
       "      <td>urban-street</td>\n",
       "      <td>clear</td>\n",
       "      <td>manual</td>\n",
       "      <td>NaN</td>\n",
       "      <td>System Tuning and Calibration</td>\n",
       "    </tr>\n",
       "  </tbody>\n",
       "</table>\n",
       "<p>1024 rows × 7 columns</p>\n",
       "</div>"
      ],
      "text/plain": [
       "       Month                Car      Location Weather TypeOfTrigger  \\\n",
       "0     14-Sep  WDD2221851A001072  urban-street  cloudy     automatic   \n",
       "1     14-Sep  WDD2221851A001072  urban-street  cloudy     automatic   \n",
       "2     14-Sep  WDD2221851A001072  urban-street  cloudy     automatic   \n",
       "3     14-Sep  WDD2221851A001072  urban-street  cloudy     automatic   \n",
       "4     14-Sep  WDD2221851A001072  urban-street  cloudy     automatic   \n",
       "5     14-Sep  WDD2221851A001072  urban-street  cloudy     automatic   \n",
       "6     14-Sep  WDD2221851A001072  urban-street  cloudy     automatic   \n",
       "7     14-Sep  WDD2221851A001072  urban-street  cloudy     automatic   \n",
       "8     14-Sep  WDD2221851A001072  urban-street  cloudy     automatic   \n",
       "9     14-Sep  WDD2221851A001072  urban-street  cloudy     automatic   \n",
       "10    14-Sep  WDD2221851A001072  urban-street  cloudy     automatic   \n",
       "11    14-Sep  WDD2221851A001072  urban-street  cloudy     automatic   \n",
       "12    14-Sep  WDD2221851A001072  urban-street  cloudy     automatic   \n",
       "13    14-Sep  WDD2221851A001072  urban-street  cloudy     automatic   \n",
       "14    14-Sep  WDD2221851A001072  urban-street  cloudy     automatic   \n",
       "15    14-Sep  WDD2221851A001072  urban-street  cloudy     automatic   \n",
       "16    14-Sep  WDD2221851A001072  urban-street  cloudy        manual   \n",
       "17    14-Sep  WDD2221851A001072  urban-street  cloudy     automatic   \n",
       "18    14-Sep  WDD2221851A001072  urban-street  cloudy        manual   \n",
       "19    14-Sep  WDD2221851A001072  urban-street  cloudy     automatic   \n",
       "20    14-Sep  WDD2221851A001072  urban-street  cloudy        manual   \n",
       "21    14-Sep  WDD2221851A001072  urban-street  cloudy        manual   \n",
       "22    14-Sep  WDD2221851A001072  urban-street  cloudy     automatic   \n",
       "23    14-Sep  WDD2221851A001072  urban-street  cloudy        manual   \n",
       "24    14-Sep  WDD2221851A001072  urban-street  cloudy        manual   \n",
       "25    14-Sep  WDD2221851A001072  urban-street  cloudy     automatic   \n",
       "26    14-Sep  WDD2221851A001072  urban-street  cloudy        manual   \n",
       "27    14-Sep  WDD2221851A001072  urban-street  cloudy        manual   \n",
       "28    14-Sep  WDD2221851A001072  urban-street  cloudy     automatic   \n",
       "29    14-Sep  WDD2221851A001072  urban-street  cloudy        manual   \n",
       "...      ...                ...           ...     ...           ...   \n",
       "994   14-Nov  WDD2221851A000495  urban-street   clear     automatic   \n",
       "995   14-Nov  WDD2221851A000495  urban-street   clear     automatic   \n",
       "996   14-Nov  WDD2221851A000495  urban-street   clear     automatic   \n",
       "997   14-Nov  WDD2221851A000495  urban-street   clear        manual   \n",
       "998   14-Nov  WDD2221851A000495  urban-street   clear        manual   \n",
       "999   14-Nov  WDD2221851A000495  urban-street   clear        manual   \n",
       "1000  14-Nov  WDD2221851A000495  urban-street   clear     automatic   \n",
       "1001  14-Nov  WDD2221851A000495  urban-street   clear     automatic   \n",
       "1002  14-Nov  WDD2221851A000495  urban-street   clear     automatic   \n",
       "1003  14-Nov  WDD2221851A000495  urban-street   clear        manual   \n",
       "1004  14-Nov  WDD2221851A000495  urban-street   clear        manual   \n",
       "1005  14-Nov  WDD2221851A000495  urban-street   clear        manual   \n",
       "1006  14-Nov  WDD2221851A000495  urban-street   clear     automatic   \n",
       "1007  14-Nov  WDD2221851A000495  urban-street   clear     automatic   \n",
       "1008  14-Nov  WDD2221851A000495  urban-street   clear     automatic   \n",
       "1009  14-Nov  WDD2221851A000495  urban-street   clear        manual   \n",
       "1010  14-Nov  WDD2221851A000495  urban-street   clear        manual   \n",
       "1011  14-Nov  WDD2221851A000495  urban-street   clear        manual   \n",
       "1012  14-Nov  WDD2221851A000495  urban-street   clear     automatic   \n",
       "1013  14-Nov  WDD2221851A000495  urban-street   clear     automatic   \n",
       "1014  14-Nov  WDD2221851A000495  urban-street   clear     automatic   \n",
       "1015  14-Nov  WDD2221851A000495  urban-street   clear     automatic   \n",
       "1016  14-Nov  WDD2221851A000495  urban-street   clear        manual   \n",
       "1017  14-Nov  WDD2221851A000495  urban-street   clear        manual   \n",
       "1018  14-Nov  WDD2221851A000495  urban-street   clear        manual   \n",
       "1019  14-Nov  WDD2221851A000495  urban-street   clear        manual   \n",
       "1020  14-Nov  WDD2221851A000495  urban-street   clear        manual   \n",
       "1021  14-Nov  WDD2221851A000495       highway   clear        manual   \n",
       "1022  14-Nov  WDD2221851A000495  urban-street   clear        manual   \n",
       "1023  14-Nov  WDD2221851A000495  urban-street   clear        manual   \n",
       "\n",
       "      ReactionTime                                    Cause  \n",
       "0             0.58        Incorrect Traffic Light Detection  \n",
       "1             0.66          Adverse road surface conditions  \n",
       "2             1.93              Position Estimation Failure  \n",
       "3             0.65                        Emergency Vehicle  \n",
       "4             0.64          Adverse road surface conditions  \n",
       "5             0.88        Incorrect Traffic Light Detection  \n",
       "6             0.41                        Emergency Vehicle  \n",
       "7             1.45                        Emergency Vehicle  \n",
       "8             0.07                           Software Froze  \n",
       "9             0.37                           Hardware Fault  \n",
       "10            1.55                        Emergency Vehicle  \n",
       "11            0.04        Incorrect Traffic Light Detection  \n",
       "12            0.40  Incorrect behavior prediction of others  \n",
       "13            1.86                        Emergency Vehicle  \n",
       "14            0.21          Adverse road surface conditions  \n",
       "15            0.51                Recklessly behaving agent  \n",
       "16             NaN                Recklessly behaving agent  \n",
       "17            0.38            System Tuning and Calibration  \n",
       "18             NaN               Unwanted Driver Discomfort  \n",
       "19            0.22        Incorrect Traffic Light Detection  \n",
       "20             NaN               Unwanted Driver Discomfort  \n",
       "21             NaN  Incorrect behavior prediction of others  \n",
       "22            1.38          Adverse road surface conditions  \n",
       "23             NaN                           Software Froze  \n",
       "24             NaN                Recklessly behaving agent  \n",
       "25            0.44               Unwanted Driver Discomfort  \n",
       "26             NaN                           Software Froze  \n",
       "27             NaN                           Hardware Fault  \n",
       "28            0.04               Unwanted Driver Discomfort  \n",
       "29             NaN                Recklessly behaving agent  \n",
       "...            ...                                      ...  \n",
       "994           0.18                           Hardware Fault  \n",
       "995          21.00            System Tuning and Calibration  \n",
       "996           1.06            System Tuning and Calibration  \n",
       "997            NaN            System Tuning and Calibration  \n",
       "998            NaN                           Hardware Fault  \n",
       "999            NaN                           Software Froze  \n",
       "1000          1.92            System Tuning and Calibration  \n",
       "1001          0.20            System Tuning and Calibration  \n",
       "1002          1.12                           Hardware Fault  \n",
       "1003           NaN                Recklessly behaving agent  \n",
       "1004           NaN            System Tuning and Calibration  \n",
       "1005           NaN            System Tuning and Calibration  \n",
       "1006          0.29                           Software Froze  \n",
       "1007          1.48            System Tuning and Calibration  \n",
       "1008          0.45                           Software Froze  \n",
       "1009           NaN            System Tuning and Calibration  \n",
       "1010           NaN                           Software Froze  \n",
       "1011           NaN            System Tuning and Calibration  \n",
       "1012          1.85            System Tuning and Calibration  \n",
       "1013          2.11                           Hardware Fault  \n",
       "1014          0.90                           Software Froze  \n",
       "1015          1.25            System Tuning and Calibration  \n",
       "1016           NaN            System Tuning and Calibration  \n",
       "1017           NaN                           Hardware Fault  \n",
       "1018           NaN                           Software Froze  \n",
       "1019           NaN                           Hardware Fault  \n",
       "1020           NaN            System Tuning and Calibration  \n",
       "1021           NaN            System Tuning and Calibration  \n",
       "1022           NaN                           Hardware Fault  \n",
       "1023           NaN            System Tuning and Calibration  \n",
       "\n",
       "[1024 rows x 7 columns]"
      ]
     },
     "execution_count": 4,
     "metadata": {},
     "output_type": "execute_result"
    }
   ],
   "source": [
    "# inspect dseng dataframe\n",
    "dseng"
   ]
  },
  {
   "cell_type": "code",
   "execution_count": 5,
   "metadata": {
    "scrolled": true
   },
   "outputs": [
    {
     "data": {
      "text/html": [
       "<div>\n",
       "<style scoped>\n",
       "    .dataframe tbody tr th:only-of-type {\n",
       "        vertical-align: middle;\n",
       "    }\n",
       "\n",
       "    .dataframe tbody tr th {\n",
       "        vertical-align: top;\n",
       "    }\n",
       "\n",
       "    .dataframe thead th {\n",
       "        text-align: right;\n",
       "    }\n",
       "</style>\n",
       "<table border=\"1\" class=\"dataframe\">\n",
       "  <thead>\n",
       "    <tr style=\"text-align: right;\">\n",
       "      <th></th>\n",
       "      <th>Month</th>\n",
       "      <th>Car</th>\n",
       "      <th>miles driven in autonomous mode</th>\n",
       "      <th>total number of disengagements</th>\n",
       "      <th>number of automatic disengagements</th>\n",
       "      <th>number of manual disengagements</th>\n",
       "    </tr>\n",
       "  </thead>\n",
       "  <tbody>\n",
       "    <tr>\n",
       "      <th>0</th>\n",
       "      <td>14-Sep</td>\n",
       "      <td>WDD2221851A001072</td>\n",
       "      <td>4207</td>\n",
       "      <td>44</td>\n",
       "      <td>24</td>\n",
       "      <td>20</td>\n",
       "    </tr>\n",
       "    <tr>\n",
       "      <th>1</th>\n",
       "      <td>14-Oct</td>\n",
       "      <td>WDD2221851A001072</td>\n",
       "      <td>23971</td>\n",
       "      <td>228</td>\n",
       "      <td>100</td>\n",
       "      <td>128</td>\n",
       "    </tr>\n",
       "    <tr>\n",
       "      <th>2</th>\n",
       "      <td>14-Nov</td>\n",
       "      <td>WDD2221851A001072</td>\n",
       "      <td>15837</td>\n",
       "      <td>141</td>\n",
       "      <td>66</td>\n",
       "      <td>75</td>\n",
       "    </tr>\n",
       "    <tr>\n",
       "      <th>3</th>\n",
       "      <td>14-Dec</td>\n",
       "      <td>WDD2221851A001072</td>\n",
       "      <td>9413</td>\n",
       "      <td>36</td>\n",
       "      <td>15</td>\n",
       "      <td>21</td>\n",
       "    </tr>\n",
       "    <tr>\n",
       "      <th>4</th>\n",
       "      <td>15-Jan</td>\n",
       "      <td>WDD2221851A001072</td>\n",
       "      <td>18192</td>\n",
       "      <td>48</td>\n",
       "      <td>18</td>\n",
       "      <td>30</td>\n",
       "    </tr>\n",
       "    <tr>\n",
       "      <th>5</th>\n",
       "      <td>15-Feb</td>\n",
       "      <td>WDD2221851A001072</td>\n",
       "      <td>18745</td>\n",
       "      <td>16</td>\n",
       "      <td>8</td>\n",
       "      <td>8</td>\n",
       "    </tr>\n",
       "    <tr>\n",
       "      <th>6</th>\n",
       "      <td>15-Mar</td>\n",
       "      <td>WDD2221851A001072</td>\n",
       "      <td>22204</td>\n",
       "      <td>39</td>\n",
       "      <td>31</td>\n",
       "      <td>8</td>\n",
       "    </tr>\n",
       "    <tr>\n",
       "      <th>7</th>\n",
       "      <td>15-Apr</td>\n",
       "      <td>WDD2221851A001072</td>\n",
       "      <td>31927</td>\n",
       "      <td>72</td>\n",
       "      <td>51</td>\n",
       "      <td>21</td>\n",
       "    </tr>\n",
       "    <tr>\n",
       "      <th>8</th>\n",
       "      <td>15-May</td>\n",
       "      <td>WDD2221851A001072</td>\n",
       "      <td>38017</td>\n",
       "      <td>34</td>\n",
       "      <td>11</td>\n",
       "      <td>23</td>\n",
       "    </tr>\n",
       "    <tr>\n",
       "      <th>9</th>\n",
       "      <td>15-Jun</td>\n",
       "      <td>WDD2221851A001072</td>\n",
       "      <td>42047</td>\n",
       "      <td>127</td>\n",
       "      <td>58</td>\n",
       "      <td>69</td>\n",
       "    </tr>\n",
       "    <tr>\n",
       "      <th>10</th>\n",
       "      <td>15-Jul</td>\n",
       "      <td>WDD2221851A001072</td>\n",
       "      <td>34805</td>\n",
       "      <td>69</td>\n",
       "      <td>30</td>\n",
       "      <td>39</td>\n",
       "    </tr>\n",
       "    <tr>\n",
       "      <th>11</th>\n",
       "      <td>15-Aug</td>\n",
       "      <td>WDD2221851A001072</td>\n",
       "      <td>38220</td>\n",
       "      <td>24</td>\n",
       "      <td>13</td>\n",
       "      <td>11</td>\n",
       "    </tr>\n",
       "    <tr>\n",
       "      <th>12</th>\n",
       "      <td>15-Sep</td>\n",
       "      <td>WDD2221851A001072</td>\n",
       "      <td>36327</td>\n",
       "      <td>43</td>\n",
       "      <td>22</td>\n",
       "      <td>21</td>\n",
       "    </tr>\n",
       "    <tr>\n",
       "      <th>13</th>\n",
       "      <td>15-Oct</td>\n",
       "      <td>WDD2221851A001072</td>\n",
       "      <td>47144</td>\n",
       "      <td>17</td>\n",
       "      <td>5</td>\n",
       "      <td>12</td>\n",
       "    </tr>\n",
       "    <tr>\n",
       "      <th>14</th>\n",
       "      <td>15-Nov</td>\n",
       "      <td>WDD2221851A001072</td>\n",
       "      <td>43276</td>\n",
       "      <td>22</td>\n",
       "      <td>11</td>\n",
       "      <td>11</td>\n",
       "    </tr>\n",
       "    <tr>\n",
       "      <th>15</th>\n",
       "      <td>14-Oct</td>\n",
       "      <td>WDD2221851A000495</td>\n",
       "      <td>37910</td>\n",
       "      <td>16</td>\n",
       "      <td>11</td>\n",
       "      <td>5</td>\n",
       "    </tr>\n",
       "    <tr>\n",
       "      <th>16</th>\n",
       "      <td>14-Nov</td>\n",
       "      <td>WDD2221851A000495</td>\n",
       "      <td>42987</td>\n",
       "      <td>48</td>\n",
       "      <td>19</td>\n",
       "      <td>29</td>\n",
       "    </tr>\n",
       "  </tbody>\n",
       "</table>\n",
       "</div>"
      ],
      "text/plain": [
       "     Month                Car  miles driven in autonomous mode  \\\n",
       "0   14-Sep  WDD2221851A001072                             4207   \n",
       "1   14-Oct  WDD2221851A001072                            23971   \n",
       "2   14-Nov  WDD2221851A001072                            15837   \n",
       "3   14-Dec  WDD2221851A001072                             9413   \n",
       "4   15-Jan  WDD2221851A001072                            18192   \n",
       "5   15-Feb  WDD2221851A001072                            18745   \n",
       "6   15-Mar  WDD2221851A001072                            22204   \n",
       "7   15-Apr  WDD2221851A001072                            31927   \n",
       "8   15-May  WDD2221851A001072                            38017   \n",
       "9   15-Jun  WDD2221851A001072                            42047   \n",
       "10  15-Jul  WDD2221851A001072                            34805   \n",
       "11  15-Aug  WDD2221851A001072                            38220   \n",
       "12  15-Sep  WDD2221851A001072                            36327   \n",
       "13  15-Oct  WDD2221851A001072                            47144   \n",
       "14  15-Nov  WDD2221851A001072                            43276   \n",
       "15  14-Oct  WDD2221851A000495                            37910   \n",
       "16  14-Nov  WDD2221851A000495                            42987   \n",
       "\n",
       "    total number of disengagements  number of automatic disengagements  \\\n",
       "0                               44                                  24   \n",
       "1                              228                                 100   \n",
       "2                              141                                  66   \n",
       "3                               36                                  15   \n",
       "4                               48                                  18   \n",
       "5                               16                                   8   \n",
       "6                               39                                  31   \n",
       "7                               72                                  51   \n",
       "8                               34                                  11   \n",
       "9                              127                                  58   \n",
       "10                              69                                  30   \n",
       "11                              24                                  13   \n",
       "12                              43                                  22   \n",
       "13                              17                                   5   \n",
       "14                              22                                  11   \n",
       "15                              16                                  11   \n",
       "16                              48                                  19   \n",
       "\n",
       "    number of manual disengagements  \n",
       "0                                20  \n",
       "1                               128  \n",
       "2                                75  \n",
       "3                                21  \n",
       "4                                30  \n",
       "5                                 8  \n",
       "6                                 8  \n",
       "7                                21  \n",
       "8                                23  \n",
       "9                                69  \n",
       "10                               39  \n",
       "11                               11  \n",
       "12                               21  \n",
       "13                               12  \n",
       "14                               11  \n",
       "15                                5  \n",
       "16                               29  "
      ]
     },
     "execution_count": 5,
     "metadata": {},
     "output_type": "execute_result"
    }
   ],
   "source": [
    "# inspect tmile dataframe\n",
    "tmile"
   ]
  },
  {
   "cell_type": "markdown",
   "metadata": {},
   "source": [
    "### Question 2\n",
    "#### a."
   ]
  },
  {
   "cell_type": "code",
   "execution_count": 6,
   "metadata": {},
   "outputs": [
    {
     "name": "stdout",
     "output_type": "stream",
     "text": [
      "Total number of AV disengagements is 1024.\n"
     ]
    }
   ],
   "source": [
    "# Calculate total number of AV disengagements over the entire duration of available data\n",
    "n_total_disengagement = len(dseng)\n",
    "print('Total number of AV disengagements is %i.'%n_total_disengagement)"
   ]
  },
  {
   "cell_type": "markdown",
   "metadata": {},
   "source": [
    "#### b."
   ]
  },
  {
   "cell_type": "code",
   "execution_count": 7,
   "metadata": {},
   "outputs": [
    {
     "name": "stdout",
     "output_type": "stream",
     "text": [
      "['14-Sep' '14-Oct' '14-Nov' '14-Dec' '15-Jan' '15-Feb' '15-Mar' '15-Apr'\n",
      " '15-May' '15-Jun' '15-Jul' '15-Aug' '15-Sep' '15-Oct' '15-Nov']\n",
      "['14-Sep' '14-Oct' '14-Nov' '14-Dec' '15-Jan' '15-Feb' '15-Mar' '15-Apr'\n",
      " '15-May' '15-Jun' '15-Jul' '15-Aug' '15-Sep' '15-Oct' '15-Nov']\n",
      "Number of unique months is 15.\n"
     ]
    }
   ],
   "source": [
    "# Calculate number of unique months that have recorded AV disengagements\n",
    "uniq_month_dseng = dseng['Month'].unique()\n",
    "uniq_month_tmile = tmile['Month'].unique()\n",
    "print(uniq_month_dseng)\n",
    "print(uniq_month_tmile)\n",
    "\n",
    "n_uniq_month = len(uniq_month_dseng)\n",
    "print('Number of unique months is %i.' %n_uniq_month)"
   ]
  },
  {
   "cell_type": "markdown",
   "metadata": {},
   "source": [
    "#### c."
   ]
  },
  {
   "cell_type": "code",
   "execution_count": 8,
   "metadata": {},
   "outputs": [
    {
     "name": "stdout",
     "output_type": "stream",
     "text": [
      "['urban-street' 'highway']\n"
     ]
    }
   ],
   "source": [
    "# Derive list of unique locations of AV disengagements\n",
    "location = dseng['Location'].unique()\n",
    "print(location)"
   ]
  },
  {
   "cell_type": "markdown",
   "metadata": {},
   "source": [
    "#### d."
   ]
  },
  {
   "cell_type": "code",
   "execution_count": 9,
   "metadata": {},
   "outputs": [
    {
     "name": "stdout",
     "output_type": "stream",
     "text": [
      "Number of unique causes is 10.\n"
     ]
    }
   ],
   "source": [
    "# Calculate number of unique causes for AV disengagements\n",
    "uniq_cause = dseng['Cause'].unique()\n",
    "n_uniq_cause = len(uniq_cause)\n",
    "print('Number of unique causes is %i.' %n_uniq_cause)"
   ]
  },
  {
   "cell_type": "markdown",
   "metadata": {},
   "source": [
    "#### e."
   ]
  },
  {
   "cell_type": "code",
   "execution_count": 10,
   "metadata": {},
   "outputs": [
    {
     "name": "stdout",
     "output_type": "stream",
     "text": [
      "Month            False\n",
      "Car              False\n",
      "Location         False\n",
      "Weather          False\n",
      "TypeOfTrigger    False\n",
      "ReactionTime      True\n",
      "Cause            False\n",
      "dtype: bool\n",
      "Column 'ReactionTime' in 'mp1_av_disengagements.csv' has missing value.\n",
      "\n",
      "\n",
      "Month                                 False\n",
      "Car                                   False\n",
      "miles driven in autonomous mode       False\n",
      "total number of disengagements        False\n",
      "number of automatic disengagements    False\n",
      "number of manual disengagements       False\n",
      "dtype: bool\n",
      "No column in 'mp1_av_totalmiles.csv' has missing value.\n",
      "\n",
      "\n",
      "Number of missing values in column 'ReactionTime' is 532.\n"
     ]
    }
   ],
   "source": [
    "# Find columns with missing values\n",
    "print(dseng.isnull().any())\n",
    "print(\"Column 'ReactionTime' in 'mp1_av_disengagements.csv' has missing value.\")\n",
    "print('\\n')\n",
    "print(tmile.isnull().any())\n",
    "print(\"No column in 'mp1_av_totalmiles.csv' has missing value.\")\n",
    "print('\\n')\n",
    "print(\"Number of missing values in column 'ReactionTime' is %i.\" %dseng['ReactionTime'].isnull().sum())"
   ]
  },
  {
   "cell_type": "markdown",
   "metadata": {},
   "source": [
    "### Question 3"
   ]
  },
  {
   "cell_type": "code",
   "execution_count": 11,
   "metadata": {},
   "outputs": [
    {
     "data": {
      "image/png": "[encoded data removed]",
      "text/plain": [
       "<Figure size 864x576 with 1 Axes>"
      ]
     },
     "metadata": {},
     "output_type": "display_data"
    },
    {
     "name": "stdout",
     "output_type": "stream",
     "text": [
      "Based on the pie chart, the top two causes are Recklessly behaving agent and Unwanted Driver Discomfort.\n"
     ]
    }
   ],
   "source": [
    "# Plot a pie chart for the causes of AV disengagement\n",
    "mpl.rcParams['figure.figsize'] = [12.0, 8.0]\n",
    "mpl.rcParams['font.size'] = 20.0\n",
    "\n",
    "# Get a dictionary formatted in [cause: repeated times]\n",
    "causes = dseng['Cause'].value_counts()\n",
    "\n",
    "# Draw the pie chart \n",
    "patches, texts, _ = plt.pie(causes, \n",
    "        # grab labels from frame keys\n",
    "        labels=causes.keys(),\n",
    "        # some formatting\n",
    "        autopct='%.0f%%', shadow=True)\n",
    "\n",
    "# plt.legend(patches, labels=causes.keys(), bbox_to_anchor=(0.85,1.025),loc=\"center\")\n",
    "# plt.axis('equal',fontsize=40)\n",
    "\n",
    "plt.title(\"Pie Chart for Causes of AV Disengagement\", fontsize = 20)\n",
    "plt.savefig(\"Pie Chart for Causes of AV Disengagement.svg\")\n",
    "plt.show()\n",
    "\n",
    "print(\"Based on the pie chart, the top two causes are Recklessly behaving agent and Unwanted Driver Discomfort.\")"
   ]
  },
  {
   "cell_type": "markdown",
   "metadata": {},
   "source": [
    "### Question 4"
   ]
  },
  {
   "cell_type": "code",
   "execution_count": 12,
   "metadata": {
    "scrolled": false
   },
   "outputs": [
    {
     "name": "stdout",
     "output_type": "stream",
     "text": [
      "The trend is decreasing. AVs are maturing ove time, because disengagement per mile decreases generally as time goes by.\n"
     ]
    },
    {
     "data": {
      "image/png": "[encoded data removed]",
      "text/plain": [
       "<Figure size 1440x720 with 1 Axes>"
      ]
     },
     "metadata": {},
     "output_type": "display_data"
    }
   ],
   "source": [
    "disen_per_mile_draft=tmile.groupby('Month')['total number of disengagements'].sum()/tmile.groupby('Month')['miles driven in autonomous mode'].sum()\n",
    "mon=tmile['Month'].unique()\n",
    "\n",
    "disen_per_mile = [disen_per_mile_draft[i] for i in mon]\n",
    "\n",
    "plt.figure(figsize=(20,10))\n",
    "plt.plot(mon,disen_per_mile)\n",
    "plt.xlabel('Month',fontsize=20)\n",
    "plt.ylabel('Disengagement / Mile',fontsize=20)\n",
    "plt.title('The Trend of Disengagement per Mile',fontsize=20)\n",
    "plt.savefig(\"The Trend of Disengagement per Mile.svg\")\n",
    "\n",
    "print(\"The trend is decreasing. AVs are maturing ove time, because disengagement per mile decreases generally as time goes by.\")"
   ]
  },
  {
   "cell_type": "markdown",
   "metadata": {},
   "source": [
    "## Task 1"
   ]
  },
  {
   "cell_type": "markdown",
   "metadata": {},
   "source": [
    "### Question 1"
   ]
  },
  {
   "cell_type": "markdown",
   "metadata": {},
   "source": [
    "#### a. Gaussian distribution\n",
    "\n",
    "Gaussian distribution tells us that data near the mean occurs more frequently than data far from the mean."
   ]
  },
  {
   "cell_type": "markdown",
   "metadata": {},
   "source": [
    "#### b. Exponential distribution\n",
    "\n",
    "Exponential distribution tells us that the probability for sample to occur decreases exponentially as time goes by, often used to model the time elapsed between events. "
   ]
  },
  {
   "cell_type": "markdown",
   "metadata": {},
   "source": [
    "#### c. Weibull distribution\n",
    "\n",
    "Weibull distribution is often used to model lifetime of components or time to failure, telling us how the probability for failure behaves as time goes by."
   ]
  },
  {
   "cell_type": "markdown",
   "metadata": {},
   "source": [
    "### Question 2"
   ]
  },
  {
   "cell_type": "code",
   "execution_count": 13,
   "metadata": {},
   "outputs": [
    {
     "data": {
      "image/png": "[encoded data removed]",
      "text/plain": [
       "<Figure size 864x576 with 1 Axes>"
      ]
     },
     "metadata": {},
     "output_type": "display_data"
    }
   ],
   "source": [
    "# Plot the probability distribution of reaction times\n",
    "ax = sns.distplot(dseng['ReactionTime'].dropna(), kde=False, fit=st.expon)#,bins=10)\n",
    "ax.set_ylabel('Probability', fontsize=20)\n",
    "ax.set_xlabel('ReactionTime', fontsize=20)\n",
    "plt.title(\"The Probability Distribution of Reaction Times\", fontsize=20)\n",
    "plt.legend(['Exponential fit', 'Data'])\n",
    "plt.savefig(\"The Probability Distribution of Reaction Times.svg\")\n",
    "plt.show()"
   ]
  },
  {
   "cell_type": "markdown",
   "metadata": {},
   "source": [
    "This distribution fits exponential distribution. The fit distribution signifies that the probability of reaction time decreases exponentially as reaction time goes up. In other words, human driver tends to react immediately."
   ]
  },
  {
   "cell_type": "markdown",
   "metadata": {},
   "source": [
    "### Question 3"
   ]
  },
  {
   "cell_type": "markdown",
   "metadata": {},
   "source": [
    "#### a."
   ]
  },
  {
   "cell_type": "code",
   "execution_count": 14,
   "metadata": {},
   "outputs": [
    {
     "name": "stdout",
     "output_type": "stream",
     "text": [
      "The average reaction time for the entire duration of the dataset is 0.929770.\n"
     ]
    }
   ],
   "source": [
    "# Compute the average reaction time for the entire duration of the dataset\n",
    "avg_react_time_entire = dseng['ReactionTime'].dropna().mean()\n",
    "print(\"The average reaction time for the entire duration of the dataset is %f.\" %avg_react_time_entire)"
   ]
  },
  {
   "cell_type": "markdown",
   "metadata": {},
   "source": [
    "#### b."
   ]
  },
  {
   "cell_type": "code",
   "execution_count": 15,
   "metadata": {},
   "outputs": [
    {
     "name": "stdout",
     "output_type": "stream",
     "text": [
      "The average reaction time for the entire duration of the \n",
      "dataset differentiated by the location of disengagement:\n",
      "\n",
      "Location\n",
      "highway         1.48000\n",
      "urban-street    0.92865\n",
      "Name: ReactionTime, dtype: float64\n"
     ]
    }
   ],
   "source": [
    "# Compute the average reaction time for the entire duration of the dataset differentiated by the location of disengagement\n",
    "print(\"The average reaction time for the entire duration of the \\ndataset differentiated by the location of disengagement:\\n\")\n",
    "avg_react_time_location = dseng.dropna().groupby('Location')['ReactionTime'].mean()\n",
    "print(avg_react_time_location)"
   ]
  },
  {
   "cell_type": "markdown",
   "metadata": {},
   "source": [
    "### Question 4"
   ]
  },
  {
   "cell_type": "code",
   "execution_count": 16,
   "metadata": {},
   "outputs": [
    {
     "name": "stdout",
     "output_type": "stream",
     "text": [
      "Statistic Value = -2.098607967964133\n",
      "Reject null hypothesis\n"
     ]
    }
   ],
   "source": [
    "# Single Sample Hypothesis Z-test\n",
    "\n",
    "# Step 1: establish null and alternative hypothesis\n",
    "# Null hypothesis: The mean reaction time for humans in AV cars is the same as that in non-AV cars, i.e. 𝜇=1.09\n",
    "# Alternate hypothesis: The mean reaction time for humans in AV cars is different from that in non-AV cars, i.e. 𝜇≠1.09.\n",
    "\n",
    "# Step 2: Z test\n",
    "mu = 0.929770 # calculated mean reaction time for humans in AV cars from dataset\n",
    "mu_0 = 1.09 # provided mean reaction time for humans in non-AV cars\n",
    "sigma = dseng['ReactionTime'].dropna().std() # calculated standard deviation of reaction time for humans in AV cars from dataset\n",
    "n = len(dseng['ReactionTime'].dropna()) # sample size\n",
    "\n",
    "alpha = 0.05 # significance level\n",
    "\n",
    "z = (mu - mu_0)/(sigma/(n)**(1/2)) # calculate test statistic\n",
    "print(\"Statistic Value =\", z)\n",
    "\n",
    "# make decision\n",
    "if z < -1.645 or z > 1.645:\n",
    "    print(\"Reject null hypothesis\")\n",
    "else:\n",
    "    print(\"Fail to reject null hypothesis\")"
   ]
  },
  {
   "cell_type": "markdown",
   "metadata": {},
   "source": [
    "### Question 5"
   ]
  },
  {
   "cell_type": "code",
   "execution_count": 17,
   "metadata": {},
   "outputs": [
    {
     "data": {
      "image/png": "[encoded data removed]",
      "text/plain": [
       "<Figure size 864x576 with 1 Axes>"
      ]
     },
     "metadata": {},
     "output_type": "display_data"
    }
   ],
   "source": [
    "# Plot the probability distribution of disengagements/mile with monthly granularity\n",
    "ax = sns.distplot(disen_per_mile, kde=False, fit=st.expon)#,bins=10)\n",
    "ax.set_ylabel('Probability', fontsize=20)\n",
    "ax.set_xlabel('Disengagement / Mile', fontsize=20)\n",
    "plt.title(\"The Probability Distribution of Disengagements/mile with Monthly Granularity\", fontsize=20)\n",
    "plt.legend(['Exponential fit', 'Data'])\n",
    "plt.savefig(\"The Probability Distribution of Disengagements_mile with Monthly Granularity.svg\")\n",
    "plt.show()"
   ]
  },
  {
   "cell_type": "markdown",
   "metadata": {},
   "source": [
    "This distribution fits exponential distribution. The distribution tells us that AVs perform relatively good, and disengagement/mile has higher probability to occur when it is smaller. Besides, high disengagement/mile seems impossible to happen, because probability for higher disengagement/mile decreases exponentially, which is good."
   ]
  },
  {
   "cell_type": "markdown",
   "metadata": {},
   "source": [
    "## Task 2"
   ]
  },
  {
   "cell_type": "markdown",
   "metadata": {},
   "source": [
    "### Question 1"
   ]
  },
  {
   "cell_type": "markdown",
   "metadata": {},
   "source": [
    "#### a."
   ]
  },
  {
   "cell_type": "markdown",
   "metadata": {},
   "source": [
    "Bernoulli distribution"
   ]
  },
  {
   "cell_type": "markdown",
   "metadata": {},
   "source": [
    "#### b."
   ]
  },
  {
   "cell_type": "code",
   "execution_count": 18,
   "metadata": {},
   "outputs": [
    {
     "name": "stdout",
     "output_type": "stream",
     "text": [
      "total miles driving:  505229\n",
      "Weather\n",
      "clear     189\n",
      "cloudy    835\n",
      "dtype: int64\n",
      "p(D|C)= 0.005902556775527249\n"
     ]
    }
   ],
   "source": [
    "print(\"total miles driving: \",tmile['miles driven in autonomous mode'].sum())\n",
    "print( dseng.groupby('Weather').size())\n",
    "print(\"p(D|C)=\",835/(505229*0.28))"
   ]
  },
  {
   "cell_type": "markdown",
   "metadata": {},
   "source": [
    "#### c."
   ]
  },
  {
   "cell_type": "code",
   "execution_count": 19,
   "metadata": {},
   "outputs": [
    {
     "name": "stdout",
     "output_type": "stream",
     "text": [
      "p(D|C')= 0.0005195663748517998\n"
     ]
    }
   ],
   "source": [
    "print(\"p(D|C')=\",189/(505229*0.72))"
   ]
  },
  {
   "cell_type": "markdown",
   "metadata": {},
   "source": [
    "#### d."
   ]
  },
  {
   "cell_type": "code",
   "execution_count": 20,
   "metadata": {},
   "outputs": [
    {
     "name": "stdout",
     "output_type": "stream",
     "text": [
      "Weather  TypeOfTrigger\n",
      "clear    automatic         96\n",
      "         manual            93\n",
      "cloudy   automatic        397\n",
      "         manual           438\n",
      "dtype: int64\n",
      "p(D|A,C)= 0.0028063653172267283\n",
      "p(D|A,C')= 0.00026390673008345393\n"
     ]
    }
   ],
   "source": [
    "print( dseng.groupby(['Weather','TypeOfTrigger']).size())\n",
    "print(\"p(D|A,C)=\",397/(505229*0.28))\n",
    "print(\"p(D|A,C')=\",96/(505229*0.72))"
   ]
  },
  {
   "cell_type": "markdown",
   "metadata": {},
   "source": [
    "#### e."
   ]
  },
  {
   "cell_type": "code",
   "execution_count": 21,
   "metadata": {},
   "outputs": [
    {
     "name": "stdout",
     "output_type": "stream",
     "text": [
      "p(λ=0.0059*12000) (k>=150)= 1.1852253231671502e-12\n"
     ]
    }
   ],
   "source": [
    "su=0\n",
    "for i in range(150,12001):\n",
    "    su+=np.e**(-0.0059*12000)*(0.0059*12000)**150/np.math.factorial(150)\n",
    "\n",
    "print('p(λ=0.0059*12000) (k>=150)=',su)"
   ]
  },
  {
   "cell_type": "markdown",
   "metadata": {},
   "source": [
    "### Question 2"
   ]
  },
  {
   "cell_type": "markdown",
   "metadata": {},
   "source": [
    "Please refer to the slide."
   ]
  },
  {
   "cell_type": "markdown",
   "metadata": {},
   "source": [
    "### Question 3"
   ]
  },
  {
   "cell_type": "code",
   "execution_count": 22,
   "metadata": {},
   "outputs": [
    {
     "name": "stdout",
     "output_type": "stream",
     "text": [
      "H0: p(D|C)-p(D|C')<=0\n",
      "H0: p(D|C)-p(D|C')>0\n",
      "α = 0.05 so Z<-1.645\n",
      "p(D|C)hat= 0.005902556775527249\n",
      "p(D|C')hat= 0.0005195663748517998\n",
      "p hat= 0.002026803687040926\n",
      "Z= -38.1986243877602\n",
      "Z= -38.1986243877602 <1.645\n",
      "Reject at α=0.05\n"
     ]
    }
   ],
   "source": [
    "print(\"H0: p(D|C)-p(D|C')<=0\\nH0: p(D|C)-p(D|C')>0\\nα = 0.05 so Z<-1.645\")\n",
    "p1=0.005902556775527249\n",
    "p2=0.0005195663748517998\n",
    "p=1024/505229\n",
    "#print((p1-p2),(p*(1-p)*(1/505229/0.28+1/505229/0.72))**0.5)\n",
    "print(\"p(D|C)hat=\",p1)\n",
    "print(\"p(D|C')hat=\",p2)\n",
    "print(\"p hat=\",p)\n",
    "print(\"Z=\",(0-(p1-p2))/(p*(1-p)*(1/(505229*0.28)+1/(505229*0.72)))**0.5)\n",
    "print(\"Z=\",-38.1986243877602,\"<1.645\\nReject at α=0.05\")"
   ]
  },
  {
   "cell_type": "markdown",
   "metadata": {},
   "source": [
    "### Question 4"
   ]
  },
  {
   "cell_type": "code",
   "execution_count": 23,
   "metadata": {},
   "outputs": [],
   "source": [
    "data=dseng.dropna()"
   ]
  },
  {
   "cell_type": "code",
   "execution_count": 24,
   "metadata": {},
   "outputs": [],
   "source": [
    "G6_AD_clo=len(dseng.loc[(dseng['TypeOfTrigger']==\"automatic\")&(dseng['Weather']==\"cloudy\")&(dseng['ReactionTime']>0.6)])# the number of automatic disengagements with reaction time greater than 0.6 on cloudy day \n",
    "AD_clo=len(dseng.loc[(dseng['TypeOfTrigger']==\"automatic\")&(dseng['Weather']==\"cloudy\")])      # the number of automatic disengagements on cloudy day\n",
    "G9_AD_ear=len(dseng.loc[(dseng['TypeOfTrigger']==\"automatic\")&(dseng['Weather']==\"clear\")&(dseng['ReactionTime']>0.9)]) #the number of automatic disengagements with reaction time greater than 0.9 on clear d\n",
    "AD_ear=len(dseng.loc[(dseng['TypeOfTrigger']==\"automatic\")&(dseng['Weather']==\"clear\")])        # the number of automatic disengagements on clear day\n",
    "condit_p_cloudy=G6_AD_clo/AD_clo#conditional probability of reaction time greater than 0.6s in cloudy day\n",
    "condit_p_clear=G9_AD_ear/AD_ear#conditional probability of reaction time greater than 0.9s in clear day"
   ]
  },
  {
   "cell_type": "code",
   "execution_count": 25,
   "metadata": {},
   "outputs": [
    {
     "name": "stdout",
     "output_type": "stream",
     "text": [
      "conditional probability of reaction time greater than 0.6s in cloudy day 0.473551637279597\n",
      "conditional probability of reaction time greater than 0.9s in clear day 0.28125\n"
     ]
    }
   ],
   "source": [
    "print('conditional probability of reaction time greater than 0.6s in cloudy day',condit_p_cloudy)\n",
    "print('conditional probability of reaction time greater than 0.9s in clear day',condit_p_clear)"
   ]
  },
  {
   "cell_type": "markdown",
   "metadata": {},
   "source": [
    "### Question 5"
   ]
  },
  {
   "cell_type": "markdown",
   "metadata": {},
   "source": [
    "$\n",
    "\\text{P(A)=P(Accident,Auto,Cloudy)+ P(Accident,Auto,Clear)}\\\\\n",
    "\\ \\ \\ \\ \\text{=(P(Accidnet|Auto,Cloudy)* P(auto,cloudy)+P(Accident|Auto,Clear)* P(auto,clear)}\\\\\n",
    "\\ \\ \\ \\ \\text{=(P(Accidnet|Auto,Cloudy)* (number(auto disengagement,cloudy)/total cloudy miles)}\\\\\n",
    "\\ \\ \\ \\ \\ \\ \\ \\text{+P(Accident|Auto,Clear)*  (number(auto disengagement,clear)/total clear miles)}\n",
    "$"
   ]
  },
  {
   "cell_type": "code",
   "execution_count": 26,
   "metadata": {},
   "outputs": [
    {
     "name": "stdout",
     "output_type": "stream",
     "text": [
      "the probabiity of an accident per mile 0.0014031826586133641\n"
     ]
    }
   ],
   "source": [
    "total_mile=np.array(tmile['miles driven in autonomous mode']).sum()\n",
    "p_acci_g_au_clo=(len(data.loc[(data['ReactionTime']>0.6)&(data['TypeOfTrigger']=='automatic')\n",
    "                                               &(data['Weather']=='cloudy')]))/len(data.loc[(data['TypeOfTrigger']=='automatic')\n",
    "                                               &(data['Weather']=='cloudy')])#prob of accident given auto and cloudy\n",
    "p_acci_g_au_ear=(len(data.loc[(data['ReactionTime']>0.9)&(data['TypeOfTrigger']=='automatic')\n",
    "                                               &(data['Weather']=='clear')]))/len(data.loc[(data['TypeOfTrigger']=='automatic')\n",
    "                                               &(data['Weather']=='clear')])#prob of accident given auto and clear\n",
    "p_auto_g_clo=(len(data.loc[(data['TypeOfTrigger']=='automatic')\n",
    "                                               &(data['Weather']=='cloudy')]))/len(data.loc[(data['Weather']=='cloudy')])#prob of auto given cloudy\n",
    "p_auto_g_ear=(len(data.loc[(data['TypeOfTrigger']=='automatic')\n",
    "                                               &(data['Weather']=='clear')]))/len(data.loc[(data['Weather']=='clear')])#prob of auto given clear\n",
    "p_clo=(1-0.72)#prob of cloudy\n",
    "p_ear=0.72#prob of clear\n",
    "\n",
    "frac_clo_miles=len(data.loc[(data['TypeOfTrigger']=='automatic')\n",
    "                                               &(data['Weather']=='cloudy')])/(total_mile*p_clo)\n",
    "frac_ear_miles=len(data.loc[(data['TypeOfTrigger']=='automatic')\n",
    "                                               &(data['Weather']=='clear')])/(total_mile*p_ear)\n",
    "\n",
    "p_accident=p_acci_g_au_clo*frac_clo_miles+p_acci_g_au_ear*frac_ear_miles\n",
    "\n",
    "print('the probabiity of an accident per mile',p_accident)"
   ]
  },
  {
   "cell_type": "markdown",
   "metadata": {},
   "source": [
    "### Question 6"
   ]
  },
  {
   "cell_type": "markdown",
   "metadata": {},
   "source": [
    "The probability of an accident happens of AV is 0.0014031826586133641 which is much greater than the human driver accident probability 2e-6. \n",
    "This result shows that when AV disengagement happens automaticly it has a very high probability to result in an accident and the AV is not safe for the passengers. This reminds us that we should reduce the chance that an automatic disengagement happens in our development of AV system. Because once it happens, it has a great probability to cause an accident. And it also remind us to design a better system (such as an automatic disengagement  prediction system) which can reduce the reaction time for the drive to take action to the automatic disengagement. "
   ]
  },
  {
   "cell_type": "markdown",
   "metadata": {},
   "source": [
    "### Question 7"
   ]
  },
  {
   "cell_type": "code",
   "execution_count": 27,
   "metadata": {},
   "outputs": [
    {
     "name": "stdout",
     "output_type": "stream",
     "text": [
      "Statistic Value = 0.05171413502109701\n",
      "P value = 0.9835003389445768\n",
      "\n",
      "\n",
      "Fail to reject null hypothesis\n",
      "\n",
      "\n",
      "Conclusion: Distribution of disengagement reaction time when the weather is cloudy is the same as distribution of disengagement\n",
      "reaction time when the weather is clear, i.e. weather conditions have no impact on disengagement reaction time.\n"
     ]
    }
   ],
   "source": [
    "# Null hypothesis: Samples of disengagement reaction time in cloudy days and samples of disengagement reaction time in clear \n",
    "# days are drawn from the same continuous distribution, i.e. distribution of disengagement reaction time when the weather is \n",
    "# cloudy is the same as distribution of disengagement reaction time when the weather is clear.\n",
    "\n",
    "# Alternative hypothesis: Samples of disengagement reaction time in cloudy days and samples of disengagement reaction time in \n",
    "# clear days are drawn from different continuous distributions, i.e. distribution of disengagement reaction time when the weather \n",
    "# is cloudy is different than distribution of disengagement reaction time when the weather is clear.\n",
    "\n",
    "# collect ReactionTime data for cloudy days\n",
    "react_time_cloudy = dseng.dropna().loc[(dseng['Weather']=='cloudy')&(dseng['TypeOfTrigger']=='automatic')]['ReactionTime']\n",
    "react_time_cloudy = np.array(react_time_cloudy)\n",
    "\n",
    "# collect ReactionTime data for clear days\n",
    "react_time_clear = dseng.dropna().loc[(dseng['Weather']=='clear')&(dseng['TypeOfTrigger']=='automatic')]['ReactionTime']\n",
    "react_time_clear = np.array(react_time_clear)\n",
    "\n",
    "# apply Kolmogorov-Smirnov test\n",
    "st_value,p_value = st.ks_2samp(react_time_cloudy, react_time_clear)\n",
    "\n",
    "print(\"Statistic Value =\", st_value)\n",
    "      \n",
    "print(\"P value =\", p_value)     \n",
    "\n",
    "print('\\n')\n",
    "\n",
    "alpha = 0.1\n",
    "if p_value > alpha:\n",
    "    print('Fail to reject null hypothesis')\n",
    "else:\n",
    "    print('Reject null hypothesis')\n",
    "    \n",
    "print('\\n')\n",
    "\n",
    "print('Conclusion: Distribution of disengagement reaction time when the weather is cloudy is the same as distribution of disengagement')\n",
    "print('reaction time when the weather is clear, i.e. weather conditions have no impact on disengagement reaction time.')"
   ]
  },
  {
   "cell_type": "markdown",
   "metadata": {},
   "source": [
    "## Task 3"
   ]
  },
  {
   "cell_type": "markdown",
   "metadata": {},
   "source": [
    "### Question 1"
   ]
  },
  {
   "cell_type": "code",
   "execution_count": 28,
   "metadata": {},
   "outputs": [],
   "source": [
    "# include a 'Class' column\n",
    "dseng['Class']='Null'\n",
    "\n",
    "for i in range(dseng.shape[0]):\n",
    "    if dseng.iloc[i,6] == 'Incorrect behavior prediction of others' or dseng.iloc[i,6] == 'Recklessly behaving agent' or dseng.iloc[i,6] == 'Unwanted Driver Discomfort':\n",
    "        dseng.iloc[i,7] = 'Controller'\n",
    "    elif dseng.iloc[i,6] == 'Adverse road surface conditions' or dseng.iloc[i,6] == 'Emergency Vehicle' or dseng.iloc[i,6] == 'Position Estimation Failure' or dseng.iloc[i,6] == 'Incorrect Traffic Light Detection':\n",
    "        dseng.iloc[i,7] = 'Perception System'\n",
    "    else:\n",
    "        dseng.iloc[i,7] = 'Computer System'\n",
    "        "
   ]
  },
  {
   "cell_type": "markdown",
   "metadata": {},
   "source": [
    "### Question 2"
   ]
  },
  {
   "cell_type": "code",
   "execution_count": 29,
   "metadata": {},
   "outputs": [],
   "source": [
    "# derive the set for NB\n",
    "NB_set = pd.DataFrame(dseng[['Location','Weather','TypeOfTrigger','Class']])"
   ]
  },
  {
   "cell_type": "code",
   "execution_count": 30,
   "metadata": {
    "scrolled": true
   },
   "outputs": [],
   "source": [
    "# split the NB set randomly\n",
    "NB_set = NB_set.sample(frac=1, random_state=100)\n",
    "# 80-20 split\n",
    "NB_train_set = NB_set.iloc[:int(NB_set.shape[0]*0.8),:]\n",
    "NB_test_set = NB_set.iloc[int(NB_set.shape[0]*0.8):,:]"
   ]
  },
  {
   "cell_type": "markdown",
   "metadata": {},
   "source": [
    "### Question 3"
   ]
  },
  {
   "cell_type": "code",
   "execution_count": 31,
   "metadata": {
    "scrolled": true
   },
   "outputs": [
    {
     "name": "stdout",
     "output_type": "stream",
     "text": [
      "The prior for computer system: 0.2844932844932845\n",
      "The prior for controller: 0.35775335775335776\n",
      "The prior for perception system: 0.35775335775335776\n"
     ]
    }
   ],
   "source": [
    "# calculate the priors\n",
    "priors = (NB_train_set.groupby('Class').size() / NB_train_set.shape[0])\n",
    "\n",
    "P_computer_system = priors.iloc[0]\n",
    "P_controller = priors.iloc[1]\n",
    "P_perception_system = priors.iloc[2]\n",
    "\n",
    "print('The prior for computer system:', P_computer_system)\n",
    "print('The prior for controller:', P_controller)\n",
    "print('The prior for perception system:', P_perception_system)"
   ]
  },
  {
   "cell_type": "code",
   "execution_count": 32,
   "metadata": {},
   "outputs": [
    {
     "name": "stdout",
     "output_type": "stream",
     "text": [
      "Class              Location    \n",
      "Computer System    highway          20\n",
      "                   urban-street    284\n",
      "Controller         urban-street    361\n",
      "Perception System  urban-street    359\n",
      "dtype: int64\n",
      "\n",
      "As we can see, controller-class cause and perception-system-class cause only happen in one location, i.e. \"urban-street\".\n"
     ]
    }
   ],
   "source": [
    "# calculate likelihood with feature Location\n",
    "print(dseng.groupby(['Class','Location']).size())\n",
    "print('\\nAs we can see, controller-class cause and perception-system-class cause only happen in one location, i.e. \"urban-street\".')"
   ]
  },
  {
   "cell_type": "code",
   "execution_count": 33,
   "metadata": {},
   "outputs": [
    {
     "name": "stdout",
     "output_type": "stream",
     "text": [
      "P(highway|computer system) = 0.06866952789699571\n",
      "P(urban-street|computer system) = 0.9313304721030042\n",
      "P(highway|controller) = 0.0\n",
      "P(urban-street|controller) = 1.0\n",
      "P(highway|perception system) = 0.0\n",
      "P(urban-street|perception system) = 1.0\n"
     ]
    }
   ],
   "source": [
    "likelihood_loc = (NB_train_set.groupby(['Class','Location']).size() / NB_train_set.groupby(['Class']).size())\n",
    "\n",
    "P_highway_comsystem = likelihood_loc.iloc[0]\n",
    "P_urbstr_comsystem = likelihood_loc.iloc[1]\n",
    "P_highway_control = 1 - likelihood_loc.iloc[2]\n",
    "P_urbstr_control = likelihood_loc.iloc[2]\n",
    "P_highway_persystem = 1 - likelihood_loc.iloc[3]\n",
    "P_urbstr_persystem = likelihood_loc.iloc[3]\n",
    "\n",
    "print('P(highway|computer system) =', P_highway_comsystem)\n",
    "print('P(urban-street|computer system) =', P_urbstr_comsystem)\n",
    "print('P(highway|controller) =', P_highway_control)\n",
    "print('P(urban-street|controller) =', P_urbstr_control)\n",
    "print('P(highway|perception system) =', P_highway_persystem)\n",
    "print('P(urban-street|perception system) =', P_urbstr_persystem)"
   ]
  },
  {
   "cell_type": "code",
   "execution_count": 34,
   "metadata": {},
   "outputs": [
    {
     "name": "stdout",
     "output_type": "stream",
     "text": [
      "Class              Weather\n",
      "Computer System    clear      188\n",
      "                   cloudy     116\n",
      "Controller         clear        1\n",
      "                   cloudy     360\n",
      "Perception System  cloudy     359\n",
      "dtype: int64\n",
      "\n",
      "As we can see, perception-system-class cause only happens in one kind of weather, i.e. \"cloudy\".\n"
     ]
    }
   ],
   "source": [
    "# calculate likelihood with feature Weather\n",
    "print(dseng.groupby(['Class','Weather']).size())\n",
    "print('\\nAs we can see, perception-system-class cause only happens in one kind of weather, i.e. \"cloudy\".')"
   ]
  },
  {
   "cell_type": "code",
   "execution_count": 35,
   "metadata": {
    "scrolled": true
   },
   "outputs": [
    {
     "name": "stdout",
     "output_type": "stream",
     "text": [
      "P(clear|computer system) = 0.6180257510729614\n",
      "P(cloudy|computer system) = 0.38197424892703863\n",
      "P(clear|controller) = 0.0034129692832764505\n",
      "P(cloudy|controller) = 0.9965870307167235\n",
      "P(clear|perception system) = 0.0\n",
      "P(cloudy|perception system) = 1.0\n"
     ]
    }
   ],
   "source": [
    "likelihood_wea = (NB_train_set.groupby(['Class','Weather']).size() / NB_train_set.groupby(['Class']).size())\n",
    "\n",
    "if len(likelihood_wea) == 5:\n",
    "    P_clear_comsystem = likelihood_wea.iloc[0]\n",
    "    P_cloudy_comsystem = likelihood_wea.iloc[1]\n",
    "    P_clear_control = likelihood_wea.iloc[2]\n",
    "    P_cloudy_control = likelihood_wea.iloc[3]\n",
    "    P_clear_persystem = 1 - likelihood_wea.iloc[4]\n",
    "    P_cloudy_persystem = likelihood_wea.iloc[4]\n",
    "else:\n",
    "    P_clear_comsystem = likelihood_wea.iloc[0]\n",
    "    P_cloudy_comsystem = likelihood_wea.iloc[1]\n",
    "    P_clear_control = 1 - likelihood_wea.iloc[2]\n",
    "    P_cloudy_control = likelihood_wea.iloc[2]\n",
    "    P_clear_persystem = 1 - likelihood_wea.iloc[3]\n",
    "    P_cloudy_persystem = likelihood_wea.iloc[3]\n",
    "\n",
    "print('P(clear|computer system) =', P_clear_comsystem)\n",
    "print('P(cloudy|computer system) =', P_cloudy_comsystem)\n",
    "print('P(clear|controller) =', P_clear_control)\n",
    "print('P(cloudy|controller) =', P_cloudy_control)\n",
    "print('P(clear|perception system) =', P_clear_persystem)\n",
    "print('P(cloudy|perception system) =', P_cloudy_persystem)"
   ]
  },
  {
   "cell_type": "code",
   "execution_count": 36,
   "metadata": {},
   "outputs": [
    {
     "name": "stdout",
     "output_type": "stream",
     "text": [
      "Class              TypeOfTrigger\n",
      "Computer System    automatic        147\n",
      "                   manual           157\n",
      "Controller         automatic         48\n",
      "                   manual           313\n",
      "Perception System  automatic        298\n",
      "                   manual            61\n",
      "dtype: int64\n"
     ]
    }
   ],
   "source": [
    "# calculate likelihood with feature TypeOfTrigger\n",
    "print(dseng.groupby(['Class','TypeOfTrigger']).size())"
   ]
  },
  {
   "cell_type": "code",
   "execution_count": 37,
   "metadata": {},
   "outputs": [
    {
     "name": "stdout",
     "output_type": "stream",
     "text": [
      "P(automatic|computer system) = 0.463519313304721\n",
      "P(manual|computer system) = 0.5364806866952789\n",
      "P(automatic|controller) = 0.13310580204778158\n",
      "P(manual|controller) = 0.8668941979522184\n",
      "P(automatic|perception system) = 0.8293515358361775\n",
      "P(manual|perception system) = 0.17064846416382254\n"
     ]
    }
   ],
   "source": [
    "likelihood_tot = (NB_train_set.groupby(['Class','TypeOfTrigger']).size() / NB_train_set.groupby(['Class']).size())\n",
    "\n",
    "P_automatic_comsystem = likelihood_tot.iloc[0]\n",
    "P_manual_comsystem = likelihood_tot.iloc[1]\n",
    "P_automatic_control = likelihood_tot.iloc[2]\n",
    "P_manual_control = likelihood_tot.iloc[3]\n",
    "P_automatic_persystem = likelihood_tot.iloc[4]\n",
    "P_manual_persystem = likelihood_tot.iloc[5]\n",
    "\n",
    "print('P(automatic|computer system) =', P_automatic_comsystem)\n",
    "print('P(manual|computer system) =', P_manual_comsystem)\n",
    "print('P(automatic|controller) =', P_automatic_control)\n",
    "print('P(manual|controller) =', P_manual_control)\n",
    "print('P(automatic|perception system) =', P_automatic_persystem)\n",
    "print('P(manual|perception system) =', P_manual_persystem)"
   ]
  },
  {
   "cell_type": "code",
   "execution_count": 38,
   "metadata": {},
   "outputs": [],
   "source": [
    "# generate conditional probability tables\n",
    "Location = ['highway','highway','highway','urban-street','urban-street','urban-street']\n",
    "Weather = ['Cloudy','Cloudy','Cloudy','Clear','Clear','Clear']\n",
    "TypeOfTrigger = ['automatic','automatic','automatic','manual','manual','manual']\n",
    "Class = ['Computer System','Controller','Perception System','Computer System','Controller','Perception System']\n",
    "P_Location_Class = [P_highway_comsystem, P_highway_control, P_highway_persystem, P_urbstr_comsystem, P_urbstr_control, P_urbstr_persystem]\n",
    "P_Weather_Class = [P_cloudy_comsystem, P_cloudy_control, P_cloudy_persystem, P_clear_comsystem, P_clear_control, P_clear_persystem]\n",
    "P_TypeOfTrigger_Class = [P_automatic_comsystem, P_automatic_control, P_automatic_persystem, P_manual_comsystem, P_manual_control, P_manual_persystem]\n",
    "\n",
    "table_loc_class = pd.DataFrame({'Location': Location, 'Class': Class, 'P(Location|Class)': P_Location_Class})\n",
    "table_wea_class = pd.DataFrame({'Weather': Weather, 'Class': Class, 'P(Weather|Class)': P_Weather_Class})\n",
    "table_tot_class = pd.DataFrame({'TypeOfTrigger': TypeOfTrigger, 'Class': Class, 'P(TypeOfTrigger|Class)': P_TypeOfTrigger_Class})"
   ]
  },
  {
   "cell_type": "code",
   "execution_count": 39,
   "metadata": {},
   "outputs": [
    {
     "data": {
      "text/html": [
       "<div>\n",
       "<style scoped>\n",
       "    .dataframe tbody tr th:only-of-type {\n",
       "        vertical-align: middle;\n",
       "    }\n",
       "\n",
       "    .dataframe tbody tr th {\n",
       "        vertical-align: top;\n",
       "    }\n",
       "\n",
       "    .dataframe thead th {\n",
       "        text-align: right;\n",
       "    }\n",
       "</style>\n",
       "<table border=\"1\" class=\"dataframe\">\n",
       "  <thead>\n",
       "    <tr style=\"text-align: right;\">\n",
       "      <th></th>\n",
       "      <th>Location</th>\n",
       "      <th>Class</th>\n",
       "      <th>P(Location|Class)</th>\n",
       "    </tr>\n",
       "  </thead>\n",
       "  <tbody>\n",
       "    <tr>\n",
       "      <th>0</th>\n",
       "      <td>highway</td>\n",
       "      <td>Computer System</td>\n",
       "      <td>0.06867</td>\n",
       "    </tr>\n",
       "    <tr>\n",
       "      <th>1</th>\n",
       "      <td>highway</td>\n",
       "      <td>Controller</td>\n",
       "      <td>0.00000</td>\n",
       "    </tr>\n",
       "    <tr>\n",
       "      <th>2</th>\n",
       "      <td>highway</td>\n",
       "      <td>Perception System</td>\n",
       "      <td>0.00000</td>\n",
       "    </tr>\n",
       "    <tr>\n",
       "      <th>3</th>\n",
       "      <td>urban-street</td>\n",
       "      <td>Computer System</td>\n",
       "      <td>0.93133</td>\n",
       "    </tr>\n",
       "    <tr>\n",
       "      <th>4</th>\n",
       "      <td>urban-street</td>\n",
       "      <td>Controller</td>\n",
       "      <td>1.00000</td>\n",
       "    </tr>\n",
       "    <tr>\n",
       "      <th>5</th>\n",
       "      <td>urban-street</td>\n",
       "      <td>Perception System</td>\n",
       "      <td>1.00000</td>\n",
       "    </tr>\n",
       "  </tbody>\n",
       "</table>\n",
       "</div>"
      ],
      "text/plain": [
       "       Location              Class  P(Location|Class)\n",
       "0       highway    Computer System            0.06867\n",
       "1       highway         Controller            0.00000\n",
       "2       highway  Perception System            0.00000\n",
       "3  urban-street    Computer System            0.93133\n",
       "4  urban-street         Controller            1.00000\n",
       "5  urban-street  Perception System            1.00000"
      ]
     },
     "execution_count": 39,
     "metadata": {},
     "output_type": "execute_result"
    }
   ],
   "source": [
    "# conditional table for Location\n",
    "table_loc_class"
   ]
  },
  {
   "cell_type": "code",
   "execution_count": 40,
   "metadata": {},
   "outputs": [
    {
     "data": {
      "text/html": [
       "<div>\n",
       "<style scoped>\n",
       "    .dataframe tbody tr th:only-of-type {\n",
       "        vertical-align: middle;\n",
       "    }\n",
       "\n",
       "    .dataframe tbody tr th {\n",
       "        vertical-align: top;\n",
       "    }\n",
       "\n",
       "    .dataframe thead th {\n",
       "        text-align: right;\n",
       "    }\n",
       "</style>\n",
       "<table border=\"1\" class=\"dataframe\">\n",
       "  <thead>\n",
       "    <tr style=\"text-align: right;\">\n",
       "      <th></th>\n",
       "      <th>Weather</th>\n",
       "      <th>Class</th>\n",
       "      <th>P(Weather|Class)</th>\n",
       "    </tr>\n",
       "  </thead>\n",
       "  <tbody>\n",
       "    <tr>\n",
       "      <th>0</th>\n",
       "      <td>Cloudy</td>\n",
       "      <td>Computer System</td>\n",
       "      <td>0.381974</td>\n",
       "    </tr>\n",
       "    <tr>\n",
       "      <th>1</th>\n",
       "      <td>Cloudy</td>\n",
       "      <td>Controller</td>\n",
       "      <td>0.996587</td>\n",
       "    </tr>\n",
       "    <tr>\n",
       "      <th>2</th>\n",
       "      <td>Cloudy</td>\n",
       "      <td>Perception System</td>\n",
       "      <td>1.000000</td>\n",
       "    </tr>\n",
       "    <tr>\n",
       "      <th>3</th>\n",
       "      <td>Clear</td>\n",
       "      <td>Computer System</td>\n",
       "      <td>0.618026</td>\n",
       "    </tr>\n",
       "    <tr>\n",
       "      <th>4</th>\n",
       "      <td>Clear</td>\n",
       "      <td>Controller</td>\n",
       "      <td>0.003413</td>\n",
       "    </tr>\n",
       "    <tr>\n",
       "      <th>5</th>\n",
       "      <td>Clear</td>\n",
       "      <td>Perception System</td>\n",
       "      <td>0.000000</td>\n",
       "    </tr>\n",
       "  </tbody>\n",
       "</table>\n",
       "</div>"
      ],
      "text/plain": [
       "  Weather              Class  P(Weather|Class)\n",
       "0  Cloudy    Computer System          0.381974\n",
       "1  Cloudy         Controller          0.996587\n",
       "2  Cloudy  Perception System          1.000000\n",
       "3   Clear    Computer System          0.618026\n",
       "4   Clear         Controller          0.003413\n",
       "5   Clear  Perception System          0.000000"
      ]
     },
     "execution_count": 40,
     "metadata": {},
     "output_type": "execute_result"
    }
   ],
   "source": [
    "# conditional table for Weather\n",
    "table_wea_class"
   ]
  },
  {
   "cell_type": "code",
   "execution_count": 41,
   "metadata": {},
   "outputs": [
    {
     "data": {
      "text/html": [
       "<div>\n",
       "<style scoped>\n",
       "    .dataframe tbody tr th:only-of-type {\n",
       "        vertical-align: middle;\n",
       "    }\n",
       "\n",
       "    .dataframe tbody tr th {\n",
       "        vertical-align: top;\n",
       "    }\n",
       "\n",
       "    .dataframe thead th {\n",
       "        text-align: right;\n",
       "    }\n",
       "</style>\n",
       "<table border=\"1\" class=\"dataframe\">\n",
       "  <thead>\n",
       "    <tr style=\"text-align: right;\">\n",
       "      <th></th>\n",
       "      <th>TypeOfTrigger</th>\n",
       "      <th>Class</th>\n",
       "      <th>P(TypeOfTrigger|Class)</th>\n",
       "    </tr>\n",
       "  </thead>\n",
       "  <tbody>\n",
       "    <tr>\n",
       "      <th>0</th>\n",
       "      <td>automatic</td>\n",
       "      <td>Computer System</td>\n",
       "      <td>0.463519</td>\n",
       "    </tr>\n",
       "    <tr>\n",
       "      <th>1</th>\n",
       "      <td>automatic</td>\n",
       "      <td>Controller</td>\n",
       "      <td>0.133106</td>\n",
       "    </tr>\n",
       "    <tr>\n",
       "      <th>2</th>\n",
       "      <td>automatic</td>\n",
       "      <td>Perception System</td>\n",
       "      <td>0.829352</td>\n",
       "    </tr>\n",
       "    <tr>\n",
       "      <th>3</th>\n",
       "      <td>manual</td>\n",
       "      <td>Computer System</td>\n",
       "      <td>0.536481</td>\n",
       "    </tr>\n",
       "    <tr>\n",
       "      <th>4</th>\n",
       "      <td>manual</td>\n",
       "      <td>Controller</td>\n",
       "      <td>0.866894</td>\n",
       "    </tr>\n",
       "    <tr>\n",
       "      <th>5</th>\n",
       "      <td>manual</td>\n",
       "      <td>Perception System</td>\n",
       "      <td>0.170648</td>\n",
       "    </tr>\n",
       "  </tbody>\n",
       "</table>\n",
       "</div>"
      ],
      "text/plain": [
       "  TypeOfTrigger              Class  P(TypeOfTrigger|Class)\n",
       "0     automatic    Computer System                0.463519\n",
       "1     automatic         Controller                0.133106\n",
       "2     automatic  Perception System                0.829352\n",
       "3        manual    Computer System                0.536481\n",
       "4        manual         Controller                0.866894\n",
       "5        manual  Perception System                0.170648"
      ]
     },
     "execution_count": 41,
     "metadata": {},
     "output_type": "execute_result"
    }
   ],
   "source": [
    "# conditional table for TypeOfTrigger\n",
    "table_tot_class"
   ]
  },
  {
   "cell_type": "markdown",
   "metadata": {},
   "source": [
    "### Question 4"
   ]
  },
  {
   "cell_type": "code",
   "execution_count": 42,
   "metadata": {},
   "outputs": [],
   "source": [
    "# predict the cause based on features\n",
    "causes = ['Computer System', 'Controller', 'Perception System']\n",
    "\n",
    "# highway, cloudy, automatic 000\n",
    "P_cause_highway_cloudy_auto = [P_computer_system*P_highway_comsystem*P_cloudy_comsystem*P_automatic_comsystem,\n",
    "                               P_controller*P_highway_control*P_cloudy_control*P_automatic_control,\n",
    "                               P_perception_system*P_highway_persystem*P_cloudy_persystem*P_automatic_persystem]\n",
    "cause_highway_cloudy_auto = causes[P_cause_highway_cloudy_auto.index(np.max(P_cause_highway_cloudy_auto))]\n",
    "\n",
    "# highway, cloudy, manual 001\n",
    "P_cause_highway_cloudy_manu = [P_computer_system*P_highway_comsystem*P_cloudy_comsystem*P_manual_comsystem,\n",
    "                               P_controller*P_highway_control*P_cloudy_control*P_manual_control,\n",
    "                               P_perception_system*P_highway_persystem*P_cloudy_persystem*P_manual_persystem]\n",
    "cause_highway_cloudy_manu = causes[P_cause_highway_cloudy_manu.index(np.max(P_cause_highway_cloudy_manu))]\n",
    "\n",
    "# highway, clear, automatic 010\n",
    "P_cause_highway_clear_auto = [P_computer_system*P_highway_comsystem*P_clear_comsystem*P_automatic_comsystem,\n",
    "                              P_controller*P_highway_control*P_clear_control*P_automatic_control,\n",
    "                              P_perception_system*P_highway_persystem*P_clear_persystem*P_automatic_persystem]\n",
    "cause_highway_clear_auto = causes[P_cause_highway_clear_auto.index(np.max(P_cause_highway_clear_auto))]\n",
    "\n",
    "# highway, clear, manual 011\n",
    "P_cause_highway_clear_manu = [P_computer_system*P_highway_comsystem*P_clear_comsystem*P_manual_comsystem,\n",
    "                              P_controller*P_highway_control*P_clear_control*P_manual_control,\n",
    "                              P_perception_system*P_highway_persystem*P_clear_persystem*P_manual_persystem]\n",
    "cause_highway_clear_manu = causes[P_cause_highway_clear_manu.index(np.max(P_cause_highway_clear_manu))]\n",
    "\n",
    "# urban-street, cloudy, automatic 100\n",
    "P_cause_urba_cloudy_auto = [P_computer_system*P_urbstr_comsystem*P_cloudy_comsystem*P_automatic_comsystem,\n",
    "                            P_controller*P_urbstr_control*P_cloudy_control*P_automatic_control,\n",
    "                            P_perception_system*P_urbstr_persystem*P_cloudy_persystem*P_automatic_persystem]\n",
    "cause_urba_cloudy_auto = causes[P_cause_urba_cloudy_auto.index(np.max(P_cause_urba_cloudy_auto))]\n",
    "\n",
    "# urban-street, cloudy, manual 101\n",
    "P_cause_urba_cloudy_manu = [P_computer_system*P_urbstr_comsystem*P_cloudy_comsystem*P_manual_comsystem,\n",
    "                            P_controller*P_urbstr_control*P_cloudy_control*P_manual_control,\n",
    "                            P_perception_system*P_urbstr_persystem*P_cloudy_persystem*P_manual_persystem]\n",
    "cause_urba_cloudy_manu = causes[P_cause_urba_cloudy_manu.index(np.max(P_cause_urba_cloudy_manu))]\n",
    "\n",
    "# urban-street, clear, automatic 110\n",
    "P_cause_urba_clear_auto = [P_computer_system*P_urbstr_comsystem*P_clear_comsystem*P_automatic_comsystem,\n",
    "                           P_controller*P_urbstr_control*P_clear_control*P_automatic_control,\n",
    "                           P_perception_system*P_urbstr_persystem*P_clear_persystem*P_automatic_persystem]\n",
    "cause_urba_clear_auto = causes[P_cause_urba_clear_auto.index(np.max(P_cause_urba_clear_auto))]\n",
    "\n",
    "# urban-street, clear, manual 111\n",
    "P_cause_urba_clear_manu = [P_computer_system*P_urbstr_comsystem*P_clear_comsystem*P_manual_comsystem,\n",
    "                           P_controller*P_urbstr_control*P_clear_control*P_manual_control,\n",
    "                           P_perception_system*P_urbstr_persystem*P_clear_persystem*P_manual_persystem]\n",
    "cause_urba_clear_manu = causes[P_cause_urba_clear_manu.index(np.max(P_cause_urba_clear_manu))]"
   ]
  },
  {
   "cell_type": "code",
   "execution_count": 43,
   "metadata": {},
   "outputs": [
    {
     "name": "stdout",
     "output_type": "stream",
     "text": [
      "The accuracy achieved by our model: 0.7853658536585366\n"
     ]
    }
   ],
   "source": [
    "accuracies = []\n",
    "for i in range(NB_test_set.shape[0]):\n",
    "    case = NB_test_set.iloc[i,:]\n",
    "    \n",
    "    if case[0] == 'highway':\n",
    "        if case[1] == 'cloudy':\n",
    "            if case[2] == 'automatic': # highway, cloudy, automatic\n",
    "                \n",
    "                if case[3] == cause_highway_cloudy_auto:\n",
    "                    accuracies.append(1)\n",
    "                else:\n",
    "                    accuracies.append(0)\n",
    "                \n",
    "            else: # highway, cloudy, manual\n",
    "                \n",
    "                if case[3] == cause_highway_cloudy_manu:\n",
    "                    accuracies.append(1)\n",
    "                else:\n",
    "                    accuracies.append(0)\n",
    "        \n",
    "        else: \n",
    "        \n",
    "            if case[2] == 'automatic': # highway, clear, automatic\n",
    "                \n",
    "                if case[3] == cause_highway_clear_auto:\n",
    "                    accuracies.append(1)\n",
    "                else:\n",
    "                    accuracies.append(0)\n",
    "                \n",
    "            else: # highway, clear, manual \n",
    "                \n",
    "                if case[3] == cause_highway_clear_manu:\n",
    "                    accuracies.append(1)\n",
    "                else:\n",
    "                    accuracies.append(0)            \n",
    "        \n",
    "    else:\n",
    "        if case[1] == 'cloudy':\n",
    "            if case[2] == 'automatic': # urban-street, cloudy, automatic\n",
    "                \n",
    "                if case[3] == cause_urba_cloudy_auto:\n",
    "                    accuracies.append(1)\n",
    "                else:\n",
    "                    accuracies.append(0)\n",
    "                \n",
    "            else: # urban-street, cloudy, manual\n",
    "            \n",
    "                if case[3] == cause_urba_cloudy_manu:\n",
    "                    accuracies.append(1)\n",
    "                else:\n",
    "                    accuracies.append(0)\n",
    "        \n",
    "        else:\n",
    "            \n",
    "            if case[2] == 'automatic': # urban-street, clear, automatic\n",
    "                \n",
    "                if case[3] == cause_urba_clear_auto:\n",
    "                    accuracies.append(1)\n",
    "                else:\n",
    "                    accuracies.append(0)\n",
    "                \n",
    "            else: # urban-street, clear, manual\n",
    "            \n",
    "                if case[3] == cause_urba_clear_manu:\n",
    "                    accuracies.append(1)\n",
    "                else:\n",
    "                    accuracies.append(0)\n",
    "                    \n",
    "accuracy = np.mean(accuracies)\n",
    "print('The accuracy achieved by our model:', accuracy)"
   ]
  },
  {
   "cell_type": "markdown",
   "metadata": {},
   "source": [
    "### Question 5"
   ]
  },
  {
   "cell_type": "code",
   "execution_count": 44,
   "metadata": {},
   "outputs": [
    {
     "name": "stdout",
     "output_type": "stream",
     "text": [
      "The average accuracy achieved by our model (5-time cross-validation): 0.8\n"
     ]
    }
   ],
   "source": [
    "# perform cross-validation\n",
    "cross_valid_accuracy = []\n",
    "repeat_times = 5\n",
    "\n",
    "for j in range(repeat_times):\n",
    "    # question 2\n",
    "    # split the NB set randomly\n",
    "    NB_set = NB_set.sample(frac=1)\n",
    "    # 80-20 split\n",
    "    NB_train_set = NB_set.iloc[:int(NB_set.shape[0]*0.8),:]\n",
    "    NB_test_set = NB_set.iloc[int(NB_set.shape[0]*0.8):,:]\n",
    "    \n",
    "    # question 3\n",
    "    # calculate the priors\n",
    "    priors = (NB_train_set.groupby('Class').size() / NB_train_set.shape[0])\n",
    "\n",
    "    P_computer_system = priors.iloc[0]\n",
    "    P_controller = priors.iloc[1]\n",
    "    P_perception_system = priors.iloc[2]\n",
    "    \n",
    "    #calculate likelihood\n",
    "    likelihood_loc = (NB_train_set.groupby(['Class','Location']).size() / NB_train_set.groupby(['Class']).size())\n",
    "\n",
    "    P_highway_comsystem = likelihood_loc.iloc[0]\n",
    "    P_urbstr_comsystem = likelihood_loc.iloc[1]\n",
    "    P_highway_control = 1 - likelihood_loc.iloc[2]\n",
    "    P_urbstr_control = likelihood_loc.iloc[2]\n",
    "    P_highway_persystem = 1 - likelihood_loc.iloc[3]\n",
    "    P_urbstr_persystem = likelihood_loc.iloc[3]\n",
    "    \n",
    "    likelihood_wea = (NB_train_set.groupby(['Class','Weather']).size() / NB_train_set.groupby(['Class']).size())\n",
    "\n",
    "    if len(likelihood_wea) == 5:\n",
    "        P_clear_comsystem = likelihood_wea.iloc[0]\n",
    "        P_cloudy_comsystem = likelihood_wea.iloc[1]\n",
    "        P_clear_control = likelihood_wea.iloc[2]\n",
    "        P_cloudy_control = likelihood_wea.iloc[3]\n",
    "        P_clear_persystem = 1 - likelihood_wea.iloc[4]\n",
    "        P_cloudy_persystem = likelihood_wea.iloc[4]\n",
    "    else:\n",
    "        P_clear_comsystem = likelihood_wea.iloc[0]\n",
    "        P_cloudy_comsystem = likelihood_wea.iloc[1]\n",
    "        P_clear_control = 1 - likelihood_wea.iloc[2]\n",
    "        P_cloudy_control = likelihood_wea.iloc[2]\n",
    "        P_clear_persystem = 1 - likelihood_wea.iloc[3]\n",
    "        P_cloudy_persystem = likelihood_wea.iloc[3]\n",
    "    \n",
    "    likelihood_tot = (NB_train_set.groupby(['Class','TypeOfTrigger']).size() / NB_train_set.groupby(['Class']).size())\n",
    "\n",
    "    P_automatic_comsystem = likelihood_tot.iloc[0]\n",
    "    P_manual_comsystem = likelihood_tot.iloc[1]\n",
    "    P_automatic_control = likelihood_tot.iloc[2]\n",
    "    P_manual_control = likelihood_tot.iloc[3]\n",
    "    P_automatic_persystem = likelihood_tot.iloc[4]\n",
    "    P_manual_persystem = likelihood_tot.iloc[5]\n",
    "    \n",
    "    # question 4\n",
    "    # predict the cause based on features\n",
    "    causes = ['Computer System', 'Controller', 'Perception System']\n",
    "\n",
    "    # highway, cloudy, automatic 000\n",
    "    P_cause_highway_cloudy_auto = [P_computer_system*P_highway_comsystem*P_cloudy_comsystem*P_automatic_comsystem,\n",
    "                                   P_controller*P_highway_control*P_cloudy_control*P_automatic_control,\n",
    "                                   P_perception_system*P_highway_persystem*P_cloudy_persystem*P_automatic_persystem]\n",
    "    cause_highway_cloudy_auto = causes[P_cause_highway_cloudy_auto.index(np.max(P_cause_highway_cloudy_auto))]\n",
    "\n",
    "    # highway, cloudy, manual 001\n",
    "    P_cause_highway_cloudy_manu = [P_computer_system*P_highway_comsystem*P_cloudy_comsystem*P_manual_comsystem,\n",
    "                                   P_controller*P_highway_control*P_cloudy_control*P_manual_control,\n",
    "                                   P_perception_system*P_highway_persystem*P_cloudy_persystem*P_manual_persystem]\n",
    "    cause_highway_cloudy_manu = causes[P_cause_highway_cloudy_manu.index(np.max(P_cause_highway_cloudy_manu))]\n",
    "\n",
    "    # highway, clear, automatic 010\n",
    "    P_cause_highway_clear_auto = [P_computer_system*P_highway_comsystem*P_clear_comsystem*P_automatic_comsystem,\n",
    "                                   P_controller*P_highway_control*P_clear_control*P_automatic_control,\n",
    "                                   P_perception_system*P_highway_persystem*P_clear_persystem*P_automatic_persystem]\n",
    "    cause_highway_clear_auto = causes[P_cause_highway_clear_auto.index(np.max(P_cause_highway_clear_auto))]\n",
    "\n",
    "    # highway, clear, manual 011\n",
    "    P_cause_highway_clear_manu = [P_computer_system*P_highway_comsystem*P_clear_comsystem*P_manual_comsystem,\n",
    "                                   P_controller*P_highway_control*P_clear_control*P_manual_control,\n",
    "                                   P_perception_system*P_highway_persystem*P_clear_persystem*P_manual_persystem]\n",
    "    cause_highway_clear_manu = causes[P_cause_highway_clear_manu.index(np.max(P_cause_highway_clear_manu))]\n",
    "\n",
    "    # urban-street, cloudy, automatic 100\n",
    "    P_cause_urba_cloudy_auto = [P_computer_system*P_urbstr_comsystem*P_cloudy_comsystem*P_automatic_comsystem,\n",
    "                                   P_controller*P_urbstr_control*P_cloudy_control*P_automatic_control,\n",
    "                                   P_perception_system*P_urbstr_persystem*P_cloudy_persystem*P_automatic_persystem]\n",
    "    cause_urba_cloudy_auto = causes[P_cause_urba_cloudy_auto.index(np.max(P_cause_urba_cloudy_auto))]\n",
    "\n",
    "    # urban-street, cloudy, manual 101\n",
    "    P_cause_urba_cloudy_manu = [P_computer_system*P_urbstr_comsystem*P_cloudy_comsystem*P_manual_comsystem,\n",
    "                                   P_controller*P_urbstr_control*P_cloudy_control*P_manual_control,\n",
    "                                   P_perception_system*P_urbstr_persystem*P_cloudy_persystem*P_manual_persystem]\n",
    "    cause_urba_cloudy_manu = causes[P_cause_urba_cloudy_manu.index(np.max(P_cause_urba_cloudy_manu))]\n",
    "\n",
    "    # urban-street, clear, automatic 110\n",
    "    P_cause_urba_clear_auto = [P_computer_system*P_urbstr_comsystem*P_clear_comsystem*P_automatic_comsystem,\n",
    "                                   P_controller*P_urbstr_control*P_clear_control*P_automatic_control,\n",
    "                                   P_perception_system*P_urbstr_persystem*P_clear_persystem*P_automatic_persystem]\n",
    "    cause_urba_clear_auto = causes[P_cause_urba_clear_auto.index(np.max(P_cause_urba_clear_auto))]\n",
    "\n",
    "    # urban-street, clear, manual 111\n",
    "    P_cause_urba_clear_manu = [P_computer_system*P_urbstr_comsystem*P_clear_comsystem*P_manual_comsystem,\n",
    "                                   P_controller*P_urbstr_control*P_clear_control*P_manual_control,\n",
    "                                   P_perception_system*P_urbstr_persystem*P_clear_persystem*P_manual_persystem]\n",
    "    cause_urba_clear_manu = causes[P_cause_urba_clear_manu.index(np.max(P_cause_urba_clear_manu))]\n",
    "    \n",
    "    accuracies = []\n",
    "    for i in range(NB_test_set.shape[0]):\n",
    "        case = NB_test_set.iloc[i,:]\n",
    "\n",
    "        if case[0] == 'highway':\n",
    "            if case[1] == 'cloudy':\n",
    "                if case[2] == 'automatic': # highway, cloudy, automatic\n",
    "\n",
    "                    if case[3] == cause_highway_cloudy_auto:\n",
    "                        accuracies.append(1)\n",
    "                    else:\n",
    "                        accuracies.append(0)\n",
    "\n",
    "                else: # highway, cloudy, manual\n",
    "\n",
    "                    if case[3] == cause_highway_cloudy_manu:\n",
    "                        accuracies.append(1)\n",
    "                    else:\n",
    "                        accuracies.append(0)\n",
    "\n",
    "            else: \n",
    "\n",
    "                if case[2] == 'automatic': # highway, clear, automatic\n",
    "\n",
    "                    if case[3] == cause_highway_clear_auto:\n",
    "                        accuracies.append(1)\n",
    "                    else:\n",
    "                        accuracies.append(0)\n",
    "\n",
    "                else: # highway, clear, manual \n",
    "\n",
    "                    if case[3] == cause_highway_clear_manu:\n",
    "                        accuracies.append(1)\n",
    "                    else:\n",
    "                        accuracies.append(0)            \n",
    "\n",
    "        else:\n",
    "            if case[1] == 'cloudy':\n",
    "                if case[2] == 'automatic': # urban-street, cloudy, automatic\n",
    "\n",
    "                    if case[3] == cause_urba_cloudy_auto:\n",
    "                        accuracies.append(1)\n",
    "                    else:\n",
    "                        accuracies.append(0)\n",
    "\n",
    "                else: # urban-street, cloudy, manual\n",
    "\n",
    "                    if case[3] == cause_urba_cloudy_manu:\n",
    "                        accuracies.append(1)\n",
    "                    else:\n",
    "                        accuracies.append(0)\n",
    "\n",
    "            else:\n",
    "\n",
    "                if case[2] == 'automatic': # urban-street, clear, automatic\n",
    "\n",
    "                    if case[3] == cause_urba_clear_auto:\n",
    "                        accuracies.append(1)\n",
    "                    else:\n",
    "                        accuracies.append(0)\n",
    "\n",
    "                else: # urban-street, clear, manual\n",
    "\n",
    "                    if case[3] == cause_urba_clear_manu:\n",
    "                        accuracies.append(1)\n",
    "                    else:\n",
    "                        accuracies.append(0)\n",
    "\n",
    "    accuracy = np.mean(accuracies)\n",
    "    cross_valid_accuracy.append(accuracy)\n",
    "\n",
    "avg_accuracy = np.mean(cross_valid_accuracy)\n",
    "print('The average accuracy achieved by our model (5-time cross-validation):', avg_accuracy)"
   ]
  },
  {
   "cell_type": "markdown",
   "metadata": {},
   "source": [
    "### Question 6"
   ]
  },
  {
   "cell_type": "markdown",
   "metadata": {},
   "source": [
    "The NB model is doing better than chance. If the model is doing by chance, the average accuracy should be $\\frac{1}{3}$, because there are three types of class in total. Our NB model reaches an average accuracy that is larger than 0.6, showing that it is doing better than chance."
   ]
  },
  {
   "cell_type": "markdown",
   "metadata": {},
   "source": [
    "### Question 7"
   ]
  },
  {
   "cell_type": "markdown",
   "metadata": {},
   "source": [
    "Generally speaking, NB assumes that the features are class conditionally independent, i.e. independent given/conditioning on the class.\n",
    "In the context of this problem, features, Location, Weather, and TypeOfTrigger, are assumed to be class conditionally independent.\n",
    "\n",
    "Based on the common sense, we do not think the assumptions are realistic. \n",
    "For example, the type of trigger may be affected by the type of location. We think that a manual trigger may have a higer probability to happen when the AV drives on urban streets than when the AV drives on a highway, because many people walk around the urban streets and the human driver may be more nervous about the behavior of the AV, which leads to a higher probability that the human driver takes control of the vehicle manually. "
   ]
  },
  {
   "cell_type": "markdown",
   "metadata": {},
   "source": [
    "### Question 8"
   ]
  },
  {
   "cell_type": "markdown",
   "metadata": {},
   "source": [
    "We think that some improvements can be gained in classification accuracy. \n",
    "\n",
    "For example, we can use local semantics to simplify the conditional probabilities after we apply the chain rule instead of simply assuming all the features are class conditionally independent. Making use of local semantics allows the model to take the relationship between features into account, which may, hopefully, improve the classification accuracy."
   ]
  }
 ],
 "metadata": {
  "kernelspec": {
   "display_name": "Python 3",
   "language": "python",
   "name": "python3"
  },
  "language_info": {
   "codemirror_mode": {
    "name": "ipython",
    "version": 3
   },
   "file_extension": ".py",
   "mimetype": "text/x-python",
   "name": "python",
   "nbconvert_exporter": "python",
   "pygments_lexer": "ipython3",
   "version": "3.7.4"
  }
 },
 "nbformat": 4,
 "nbformat_minor": 2
}
