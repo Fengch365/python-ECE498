{
 "cells": [
  {
   "cell_type": "code",
   "execution_count": 2,
   "metadata": {},
   "outputs": [],
   "source": [
    "import numpy as np\n",
    "import pandas as pd\n",
    "from pgmpy.factors.discrete import DiscreteFactor\n",
    "from pgmpy.models import FactorGraph\n",
    "from pgmpy.inference import BeliefPropagation"
   ]
  },
  {
   "cell_type": "markdown",
   "metadata": {},
   "source": [
    "## Task 2 "
   ]
  },
  {
   "cell_type": "markdown",
   "metadata": {},
   "source": [
    "### 2.1"
   ]
  },
  {
   "cell_type": "code",
   "execution_count": 13,
   "metadata": {},
   "outputs": [],
   "source": [
    "G = FactorGraph() ## Create FactorGraph object\n",
    "#G.add_nodes_from()\n",
    "###############################\n",
    "#   TODO: Define factor functions\n",
    "###############################\n",
    "f_1 = DiscreteFactor(['S1'],[2],[8.5,1.5])\n",
    "f_2 = DiscreteFactor(['S1','E1'],[2,2],[1.,2.,0.,5.])\n",
    "\n",
    "###############################\n",
    "#   TODO: Add random variables\n",
    "#         and factor functions \n",
    "###############################\n",
    "G.add_nodes_from(['E1', 'S1'])  ## Add random variables \n",
    "G.add_factors(f_1,f_2)     ## Add factor functions\n",
    "\n",
    "###############################\n",
    "#   TODO: Add the edges for random \n",
    "#   variables and factor functions\n",
    "###############################\n",
    "G.add_edges_from([('S1',f_1), ('S1',f_2), ('E1',f_2)])\n"
   ]
  },
  {
   "cell_type": "markdown",
   "metadata": {},
   "source": [
    "### 2.2"
   ]
  },
  {
   "cell_type": "code",
   "execution_count": 4,
   "metadata": {},
   "outputs": [
    {
     "name": "stderr",
     "output_type": "stream",
     "text": [
      "Eliminating: E1: 100%|██████████████████████████████████████████████████████████████████| 1/1 [00:00<00:00, 511.69it/s]\n"
     ]
    },
    {
     "name": "stdout",
     "output_type": "stream",
     "text": [
      "+-------+-----------+\n",
      "| S1    |   phi(S1) |\n",
      "+=======+===========+\n",
      "| S1(0) |   25.5000 |\n",
      "+-------+-----------+\n",
      "| S1(1) |    7.5000 |\n",
      "+-------+-----------+\n"
     ]
    }
   ],
   "source": [
    "bp = BeliefPropagation(G)\n",
    "###############################\n",
    "#   TODO: Compute the marginal probability\n",
    "###############################\n",
    "margin = bp.query(variables=['S1'],evidence=[])\n",
    "#dir(margin)\n",
    "print(margin)"
   ]
  },
  {
   "cell_type": "markdown",
   "metadata": {},
   "source": [
    "### 2.3"
   ]
  },
  {
   "cell_type": "markdown",
   "metadata": {},
   "source": [
    "#### S1 = 0 maximizes the marginal probability P(S1)"
   ]
  },
  {
   "cell_type": "markdown",
   "metadata": {},
   "source": [
    "### 2.4"
   ]
  },
  {
   "cell_type": "code",
   "execution_count": 5,
   "metadata": {},
   "outputs": [
    {
     "name": "stderr",
     "output_type": "stream",
     "text": [
      "0it [00:00, ?it/s]\n"
     ]
    },
    {
     "name": "stdout",
     "output_type": "stream",
     "text": [
      "+-------+-----------+\n",
      "| S1    |   phi(S1) |\n",
      "+=======+===========+\n",
      "| S1(0) |   17.0000 |\n",
      "+-------+-----------+\n",
      "| S1(1) |    7.5000 |\n",
      "+-------+-----------+\n"
     ]
    }
   ],
   "source": [
    "bp1 = BeliefPropagation(G)\n",
    "###############################\n",
    "#   TODO: Compute the marginal probability\n",
    "###############################\n",
    "margin1 = bp1.query(variables=['S1'],evidence={'E1':1},)\n",
    "#dir(margin)\n",
    "print(margin1)"
   ]
  },
  {
   "cell_type": "markdown",
   "metadata": {},
   "source": [
    "### 2.5"
   ]
  },
  {
   "cell_type": "markdown",
   "metadata": {},
   "source": [
    "S1 = 0 maximizes the probability P(S1|E1=1)"
   ]
  },
  {
   "cell_type": "markdown",
   "metadata": {},
   "source": [
    "### 2.6"
   ]
  },
  {
   "cell_type": "markdown",
   "metadata": {},
   "source": [
    "2.2:\n",
    "\n",
    "P(S1=0) = f(S1=0)*(g(S1=0,E1=0)+g(S1=0,E1=1))= 25.5\n",
    "\n",
    "P(S1=1) = f(S1=1)*(g(S1=1,E1=0)+g(S1=1,E1=1))= 7.5\n",
    "\n",
    "2.4:\n",
    "\n",
    "P(S1=0|E1=1) = f(S1=0)*g(S1=0,E1=1) = 17\n",
    "\n",
    "P(S1=1|E1=1) = f(S1=1)*g(S1=1,E1=1) = 7.5"
   ]
  },
  {
   "cell_type": "markdown",
   "metadata": {},
   "source": [
    "## Task 3"
   ]
  },
  {
   "cell_type": "code",
   "execution_count": 3,
   "metadata": {},
   "outputs": [],
   "source": [
    "ATTACK_EVENTS_MAP = {\n",
    "    'Scan':1,\n",
    "    'Login':2,\n",
    "    'Sensitive_URI':3,\n",
    "    'New_Kernel_Module':4,\n",
    "    'DNS_Tunneling':5\n",
    "}\n",
    "ATTACK_STATES_MAP = {\n",
    "    'benign': 1,\n",
    "    'discovery': 2,\n",
    "    'access': 3,\n",
    "    'lateral_movement': 4,\n",
    "    'privilege_escalation': 5,\n",
    "    'persistence': 6,\n",
    "    'defense_evasion': 7,\n",
    "    'collection': 8,\n",
    "    'exfiltration': 9,\n",
    "    'command_control': 10,\n",
    "    'execution': 11\n",
    "}\n",
    "\n",
    "\n"
   ]
  },
  {
   "cell_type": "markdown",
   "metadata": {},
   "source": [
    "### Task 3.0 "
   ]
  },
  {
   "cell_type": "code",
   "execution_count": 24,
   "metadata": {},
   "outputs": [
    {
     "name": "stdout",
     "output_type": "stream",
     "text": [
      "The corresponding factor function for each event:\n",
      "Scan:  [0.936 0.064 0.    0.    0.    0.    0.    0.    0.    0.    0.   ]\n",
      "Login:  [1. 0. 0. 0. 0. 0. 0. 0. 0. 0. 0.]\n",
      "Sensitive_URI:  [0.55333333 0.         0.         0.         0.44666667 0.\n",
      " 0.         0.         0.         0.         0.        ]\n",
      "New_Kernel_Module:  [0.875 0.    0.    0.    0.    0.125 0.    0.    0.    0.    0.   ]\n",
      "DNS_Tunneling:  [0.02 0.   0.   0.   0.   0.   0.   0.   0.98 0.   0.  ]\n",
      "\n",
      "f1 to f9\n",
      "f1: [0.936 0.064 0.    0.    0.    0.    0.    0.    0.    0.    0.   ]\n",
      "f2: [1. 0. 0. 0. 0. 0. 0. 0. 0. 0. 0.]\n",
      "f3: [0.55333333 0.         0.         0.         0.44666667 0.\n",
      " 0.         0.         0.         0.         0.        ]\n",
      "f4: [0.55333333 0.         0.         0.         0.44666667 0.\n",
      " 0.         0.         0.         0.         0.        ]\n",
      "f5: [0.55333333 0.         0.         0.         0.44666667 0.\n",
      " 0.         0.         0.         0.         0.        ]\n",
      "f6: [0.875 0.    0.    0.    0.    0.125 0.    0.    0.    0.    0.   ]\n",
      "f7: [0.02 0.   0.   0.   0.   0.   0.   0.   0.98 0.   0.  ]\n",
      "f8: [0.02 0.   0.   0.   0.   0.   0.   0.   0.98 0.   0.  ]\n",
      "f9: [0.02 0.   0.   0.   0.   0.   0.   0.   0.98 0.   0.  ]\n"
     ]
    }
   ],
   "source": [
    "event_review = open('event_review.txt', 'r') \n",
    "Lines = event_review.readlines() \n",
    "\n",
    "# matrix for all the fs\n",
    "f_gen=np.zeros((5,11))\n",
    "\n",
    "for line in Lines: \n",
    "    temp = line.split(\" //\")\n",
    "    # get the event\n",
    "    temp[0] = temp[0][7:]\n",
    "    # get the state\n",
    "    temp[1] = temp[1].strip('/')\n",
    "    temp[1] = temp[1].strip('\\n')\n",
    "    temp[1] = temp[1][21:]\n",
    "    temp[1] = temp[1].strip(\" \")\n",
    "    f_gen[ATTACK_EVENTS_MAP[temp[0]]-1,ATTACK_STATES_MAP[temp[1]]-1] += 1.0\n",
    "\n",
    "for i in range(5):\n",
    "    f_gen[i,:]=f_gen[i,:]/f_gen[i,:].sum()\n",
    "\n",
    "# construct the corresponding factor function for each event\n",
    "f_event = {}\n",
    "for key in ATTACK_EVENTS_MAP:\n",
    "    f_event[key] = f_gen[ATTACK_EVENTS_MAP[key]-1, :]\n",
    "    \n",
    "print('The corresponding factor function for each event:')\n",
    "for key in f_event:\n",
    "    print(key + \": \", f_event[key])\n",
    "    \n",
    "# a list for the observed event\n",
    "event_list = ['Scan', 'Login', 'Sensitive_URI', 'Sensitive_URI', 'Sensitive_URI', 'New_Kernel_Module', 'DNS_Tunneling', 'DNS_Tunneling', 'DNS_Tunneling']\n",
    "# get f1 to f9\n",
    "print('\\nf1 to f9:')\n",
    "for i in range(len(event_list)):\n",
    "    print(\"f\" + str(i+1) + \":\", f_event[event_list[i]])"
   ]
  },
  {
   "cell_type": "markdown",
   "metadata": {},
   "source": [
    "### Task 3.1"
   ]
  },
  {
   "cell_type": "code",
   "execution_count": 2,
   "metadata": {},
   "outputs": [
    {
     "name": "stdout",
     "output_type": "stream",
     "text": [
      "The most common event sequence: Scan->Sensitive_URI->New_Kernel_Module \n",
      "The probability: 0.07147962830593281\n"
     ]
    }
   ],
   "source": [
    "attack_sequences = open('attack_sequences.txt', 'r') \n",
    "Lines = attack_sequences.readlines()\n",
    "\n",
    "pattern={}\n",
    "total = 0\n",
    "\n",
    "for line in Lines:\n",
    "    temp = line.rstrip(' \\n').split(\" \")\n",
    "    \n",
    "    for i in range(len(temp)-2):\n",
    "        total+=1\n",
    "        key = temp[i]+'->'+temp[i+1]+'->'+temp[i+2]\n",
    "        if(key in pattern):\n",
    "            pattern[key]=pattern[key]+1\n",
    "        else:\n",
    "            pattern[key]=1\n",
    "            \n",
    "maximum = max(pattern, key=pattern.get)\n",
    "possibility = pattern[maximum]/total\n",
    "print(\"The most common event sequence:\", maximum,\"\\nThe probability:\", possibility)"
   ]
  },
  {
   "cell_type": "code",
   "execution_count": 3,
   "metadata": {},
   "outputs": [
    {
     "ename": "NameError",
     "evalue": "name 'np' is not defined",
     "output_type": "error",
     "traceback": [
      "\u001b[1;31m---------------------------------------------------------------------------\u001b[0m",
      "\u001b[1;31mNameError\u001b[0m                                 Traceback (most recent call last)",
      "\u001b[1;32m<ipython-input-3-4fbb247d6254>\u001b[0m in \u001b[0;36m<module>\u001b[1;34m\u001b[0m\n\u001b[1;32m----> 1\u001b[1;33m \u001b[0mf_c\u001b[0m \u001b[1;33m=\u001b[0m \u001b[0mnp\u001b[0m\u001b[1;33m.\u001b[0m\u001b[0mzeros\u001b[0m\u001b[1;33m(\u001b[0m\u001b[1;36m11\u001b[0m\u001b[1;33m)\u001b[0m\u001b[1;33m\u001b[0m\u001b[1;33m\u001b[0m\u001b[0m\n\u001b[0m\u001b[0;32m      2\u001b[0m \u001b[0mf_c\u001b[0m\u001b[1;33m[\u001b[0m\u001b[0mATTACK_STATES_MAP\u001b[0m\u001b[1;33m[\u001b[0m\u001b[1;34m'persistence'\u001b[0m\u001b[1;33m]\u001b[0m\u001b[1;33m-\u001b[0m\u001b[1;36m1\u001b[0m\u001b[1;33m]\u001b[0m \u001b[1;33m=\u001b[0m \u001b[0mpossibility\u001b[0m\u001b[1;33m\u001b[0m\u001b[1;33m\u001b[0m\u001b[0m\n\u001b[0;32m      3\u001b[0m \u001b[1;33m\u001b[0m\u001b[0m\n\u001b[0;32m      4\u001b[0m \u001b[0mprint\u001b[0m\u001b[1;33m(\u001b[0m\u001b[1;34m'Commonality factor function $$c$$'\u001b[0m\u001b[1;33m)\u001b[0m\u001b[1;33m\u001b[0m\u001b[1;33m\u001b[0m\u001b[0m\n",
      "\u001b[1;31mNameError\u001b[0m: name 'np' is not defined"
     ]
    }
   ],
   "source": [
    "f_c = np.zeros(11)\n",
    "f_c[0] = possibility\n",
    "ca = [maximum for i in range(11)]\n",
    "cb = [\"c\" for i in range(11)]\n",
    "cc = list(ATTACK_STATES_MAP.keys())\n",
    "cd  = f_c\n",
    "table = pd.DataFrame({\"Most Common Event Sequence\": ca, \"Factor Function\": cb,\"Attack States\": cc, \"Probability\": cd})\n",
    "\n",
    "table"
   ]
  },
  {
   "cell_type": "code",
   "execution_count": 70,
   "metadata": {},
   "outputs": [
    {
     "name": "stdout",
     "output_type": "stream",
     "text": [
      "Most frequent repetitive Event Sequence is  Sensitive_URI->Sensitive_URI->Sensitive_URI \n",
      "the Probability is 0.06647605432451752\n"
     ]
    }
   ],
   "source": [
    "patternr={}\n",
    "for line in Lines:\n",
    "    #print(line)\n",
    "    #line.rstrip('\\n')\n",
    "    temp = line.rstrip(' \\n').split(\" \")\n",
    "    #print(temp)\n",
    "    for i in range(len(temp)-2):\n",
    "        if(temp[i]==temp[i+1] and temp[i+2]==temp[i+1]):\n",
    "            key = temp[i]+'->'+temp[i+1]+'->'+temp[i+2]\n",
    "            if(key in patternr):\n",
    "                patternr[key]=patternr[key]+1\n",
    "            else:\n",
    "                patternr[key]=1\n",
    "maximumr = max(patternr, key=patternr.get)\n",
    "possibilityr = patternr[maximumr]/total\n",
    "print(\"Most frequent repetitive Event Sequence is \",maximumr,\"\\nthe Probability is\", possibilityr)"
   ]
  },
  {
   "cell_type": "code",
   "execution_count": 72,
   "metadata": {},
   "outputs": [
    {
     "data": {
      "text/html": [
       "<div>\n",
       "<style scoped>\n",
       "    .dataframe tbody tr th:only-of-type {\n",
       "        vertical-align: middle;\n",
       "    }\n",
       "\n",
       "    .dataframe tbody tr th {\n",
       "        vertical-align: top;\n",
       "    }\n",
       "\n",
       "    .dataframe thead th {\n",
       "        text-align: right;\n",
       "    }\n",
       "</style>\n",
       "<table border=\"1\" class=\"dataframe\">\n",
       "  <thead>\n",
       "    <tr style=\"text-align: right;\">\n",
       "      <th></th>\n",
       "      <th>Most Frequent Repetitive Event Sequence</th>\n",
       "      <th>Factor Function</th>\n",
       "      <th>Attack States</th>\n",
       "      <th>Probability</th>\n",
       "    </tr>\n",
       "  </thead>\n",
       "  <tbody>\n",
       "    <tr>\n",
       "      <th>0</th>\n",
       "      <td>Sensitive_URI-&gt;Sensitive_URI-&gt;Sensitive_URI</td>\n",
       "      <td>r</td>\n",
       "      <td>benign</td>\n",
       "      <td>0.066476</td>\n",
       "    </tr>\n",
       "    <tr>\n",
       "      <th>1</th>\n",
       "      <td>Sensitive_URI-&gt;Sensitive_URI-&gt;Sensitive_URI</td>\n",
       "      <td>r</td>\n",
       "      <td>discovery</td>\n",
       "      <td>0.000000</td>\n",
       "    </tr>\n",
       "    <tr>\n",
       "      <th>2</th>\n",
       "      <td>Sensitive_URI-&gt;Sensitive_URI-&gt;Sensitive_URI</td>\n",
       "      <td>r</td>\n",
       "      <td>access</td>\n",
       "      <td>0.000000</td>\n",
       "    </tr>\n",
       "    <tr>\n",
       "      <th>3</th>\n",
       "      <td>Sensitive_URI-&gt;Sensitive_URI-&gt;Sensitive_URI</td>\n",
       "      <td>r</td>\n",
       "      <td>lateral_movement</td>\n",
       "      <td>0.000000</td>\n",
       "    </tr>\n",
       "    <tr>\n",
       "      <th>4</th>\n",
       "      <td>Sensitive_URI-&gt;Sensitive_URI-&gt;Sensitive_URI</td>\n",
       "      <td>r</td>\n",
       "      <td>privilege_escalation</td>\n",
       "      <td>0.000000</td>\n",
       "    </tr>\n",
       "    <tr>\n",
       "      <th>5</th>\n",
       "      <td>Sensitive_URI-&gt;Sensitive_URI-&gt;Sensitive_URI</td>\n",
       "      <td>r</td>\n",
       "      <td>persistence</td>\n",
       "      <td>0.000000</td>\n",
       "    </tr>\n",
       "    <tr>\n",
       "      <th>6</th>\n",
       "      <td>Sensitive_URI-&gt;Sensitive_URI-&gt;Sensitive_URI</td>\n",
       "      <td>r</td>\n",
       "      <td>defense_evasion</td>\n",
       "      <td>0.000000</td>\n",
       "    </tr>\n",
       "    <tr>\n",
       "      <th>7</th>\n",
       "      <td>Sensitive_URI-&gt;Sensitive_URI-&gt;Sensitive_URI</td>\n",
       "      <td>r</td>\n",
       "      <td>collection</td>\n",
       "      <td>0.000000</td>\n",
       "    </tr>\n",
       "    <tr>\n",
       "      <th>8</th>\n",
       "      <td>Sensitive_URI-&gt;Sensitive_URI-&gt;Sensitive_URI</td>\n",
       "      <td>r</td>\n",
       "      <td>exfiltration</td>\n",
       "      <td>0.000000</td>\n",
       "    </tr>\n",
       "    <tr>\n",
       "      <th>9</th>\n",
       "      <td>Sensitive_URI-&gt;Sensitive_URI-&gt;Sensitive_URI</td>\n",
       "      <td>r</td>\n",
       "      <td>command_control</td>\n",
       "      <td>0.000000</td>\n",
       "    </tr>\n",
       "    <tr>\n",
       "      <th>10</th>\n",
       "      <td>Sensitive_URI-&gt;Sensitive_URI-&gt;Sensitive_URI</td>\n",
       "      <td>r</td>\n",
       "      <td>execution</td>\n",
       "      <td>0.000000</td>\n",
       "    </tr>\n",
       "  </tbody>\n",
       "</table>\n",
       "</div>"
      ],
      "text/plain": [
       "        Most Frequent Repetitive Event Sequence Factor Function  \\\n",
       "0   Sensitive_URI->Sensitive_URI->Sensitive_URI               r   \n",
       "1   Sensitive_URI->Sensitive_URI->Sensitive_URI               r   \n",
       "2   Sensitive_URI->Sensitive_URI->Sensitive_URI               r   \n",
       "3   Sensitive_URI->Sensitive_URI->Sensitive_URI               r   \n",
       "4   Sensitive_URI->Sensitive_URI->Sensitive_URI               r   \n",
       "5   Sensitive_URI->Sensitive_URI->Sensitive_URI               r   \n",
       "6   Sensitive_URI->Sensitive_URI->Sensitive_URI               r   \n",
       "7   Sensitive_URI->Sensitive_URI->Sensitive_URI               r   \n",
       "8   Sensitive_URI->Sensitive_URI->Sensitive_URI               r   \n",
       "9   Sensitive_URI->Sensitive_URI->Sensitive_URI               r   \n",
       "10  Sensitive_URI->Sensitive_URI->Sensitive_URI               r   \n",
       "\n",
       "           Attack States  Probability  \n",
       "0                 benign     0.066476  \n",
       "1              discovery     0.000000  \n",
       "2                 access     0.000000  \n",
       "3       lateral_movement     0.000000  \n",
       "4   privilege_escalation     0.000000  \n",
       "5            persistence     0.000000  \n",
       "6        defense_evasion     0.000000  \n",
       "7             collection     0.000000  \n",
       "8           exfiltration     0.000000  \n",
       "9        command_control     0.000000  \n",
       "10             execution     0.000000  "
      ]
     },
     "execution_count": 72,
     "metadata": {},
     "output_type": "execute_result"
    }
   ],
   "source": [
    "f_r = np.zeros(11)\n",
    "f_r[0]=possibilityr\n",
    "ca = [maximumr for i in range(11)]\n",
    "cb = [\"r\" for i in range(11)]\n",
    "cc = list(ATTACK_STATES_MAP.keys())\n",
    "cd  = f_r\n",
    "table = pd.DataFrame({\"Most Frequent Repetitive Event Sequence\": ca, \"Factor Function\": cb,\"Attack States\": cc, \"Probability\": cd})\n",
    "\n",
    "table"
   ]
  },
  {
   "cell_type": "markdown",
   "metadata": {},
   "source": [
    "### Task 3.2  You will have to submit the graph you draw through Compass"
   ]
  },
  {
   "cell_type": "markdown",
   "metadata": {},
   "source": [
    "### Task 3.3"
   ]
  },
  {
   "cell_type": "code",
   "execution_count": 77,
   "metadata": {},
   "outputs": [],
   "source": [
    "G1 = FactorGraph() ## Create FactorGraph object\n",
    "###############################\n",
    "#   TODO: Define factor functions\n",
    "###############################\n",
    "f_1 = DiscreteFactor(['E1','S1'],[1,11],f_gen[0])\n",
    "#f_2 = DiscreteFactor(['E2','S2'],[1,11],f_gen[1])\n",
    "f_3 = DiscreteFactor(['E3','S3'],[1,11],f_gen[2])\n",
    "f_4 = DiscreteFactor(['E4','S4'],[1,11],f_gen[2])\n",
    "f_5 = DiscreteFactor(['E5','S5'],[1,11],f_gen[2])\n",
    "f_6 = DiscreteFactor(['E6','S6'],[1,11],f_gen[3])\n",
    "#f_7 = DiscreteFactor(['E7','S7'],[1,11],f_gen[4])\n",
    "#f_8 = DiscreteFactor(['E8','S8'],[1,11],f_gen[4])\n",
    "#f_9 = DiscreteFactor(['E9','S9'],[1,11],f_gen[4])\n",
    "\n",
    "r = DiscreteFactor(['E3','E4','E5','S5'],[1,1,1,11],f_r)\n",
    "c = DiscreteFactor(['E1','E3','E6','S6'],[1,1,1,11],f_c) \n",
    "###############################\n",
    "#   TODO: Add random variables\n",
    "#         and factor functions \n",
    "###############################\n",
    "G1.add_nodes_from(['E1','E3','E4','E5','E6','S1','S3','S4','S5','S6'])  ## Add random variables \n",
    "G1.add_factors(f_1,f_3,f_4,f_5,f_6,r,c)     ## Add factor functions\n",
    "\n",
    "###############################\n",
    "#   TODO: Add the edges for random \n",
    "#   variables and factor functions\n",
    "###############################\n",
    "G1.add_edges_from([('E1',f_1),('S1',f_1),('E3',f_3),('S3',f_3),('E4',f_4),('S4',f_4),('E5',f_5),('S5',f_5),('E6',f_6),('S6',f_6),('E1',c),('E3',c),('E6',c),('S6',c),('E3',r),('E4',r),('E5',r),('S5',r)])\n",
    "\n",
    "###############################\n",
    "#   TODO: Do the inference\n",
    "###############################\n",
    "bp1 = BeliefPropagation(G1)"
   ]
  },
  {
   "cell_type": "code",
   "execution_count": 57,
   "metadata": {},
   "outputs": [],
   "source": [
    "G2 = FactorGraph()\n",
    "f_2 = DiscreteFactor(['E2','S2'],[1,11],f_gen[1])\n",
    "G2.add_nodes_from(['E2','S2'])\n",
    "G2.add_factors(f_2)\n",
    "G2.add_edges_from([('E2',f_2),('S2',f_2)])\n",
    "bp2 = BeliefPropagation(G2)    "
   ]
  },
  {
   "cell_type": "code",
   "execution_count": 60,
   "metadata": {},
   "outputs": [],
   "source": [
    "G3 = FactorGraph()\n",
    "f_7 = DiscreteFactor(['E7','S7'],[1,11],f_gen[4])\n",
    "G3.add_nodes_from(['E7','S7'])\n",
    "G3.add_factors(f_7)\n",
    "G3.add_edges_from([('E7',f_7),('S7',f_7)])\n",
    "bp3 = BeliefPropagation(G3)    "
   ]
  },
  {
   "cell_type": "code",
   "execution_count": 62,
   "metadata": {},
   "outputs": [],
   "source": [
    "G4 = FactorGraph()\n",
    "f_8 = DiscreteFactor(['E8','S8'],[1,11],f_gen[4])\n",
    "G4.add_nodes_from(['E8','S8'])\n",
    "G4.add_factors(f_8)\n",
    "G4.add_edges_from([('E8',f_8),('S8',f_8)])\n",
    "bp4 = BeliefPropagation(G4)    "
   ]
  },
  {
   "cell_type": "code",
   "execution_count": 93,
   "metadata": {
    "collapsed": true
   },
   "outputs": [],
   "source": [
    "G5 = FactorGraph()\n",
    "f_9 = DiscreteFactor(['E9','S9'],[1,11],f_gen[4])\n",
    "G5.add_nodes_from(['E9','S9'])\n",
    "G5.add_factors(f_9)\n",
    "G5.add_edges_from([('E9',f_9),('S9',f_9)])\n",
    "bp5 = BeliefPropagation(G5)    \n"
   ]
  },
  {
   "cell_type": "markdown",
   "metadata": {},
   "source": [
    "### Task 3.4"
   ]
  },
  {
   "cell_type": "markdown",
   "metadata": {},
   "source": [
    "#### a. At every time point, provide the marginal probability of each state (Since we have 9 time points and 11 possible states, you should provide 99 probability values here)"
   ]
  },
  {
   "cell_type": "code",
   "execution_count": 99,
   "metadata": {},
   "outputs": [
    {
     "name": "stderr",
     "output_type": "stream",
     "text": [
      "Eliminating: E1: 100%|██████████████████████████████████████████████████████████████████| 1/1 [00:00<00:00, 337.73it/s]\n",
      "Eliminating: E2: 100%|██████████████████████████████████████████████████████████████████| 1/1 [00:00<00:00, 334.53it/s]\n",
      "Eliminating: E3: 100%|██████████████████████████████████████████████████████████████████| 1/1 [00:00<00:00, 333.76it/s]\n",
      "Eliminating: E4: 100%|██████████████████████████████████████████████████████████████████| 1/1 [00:00<00:00, 505.95it/s]\n",
      "Eliminating: E3: 100%|██████████████████████████████████████████████████████████████████| 3/3 [00:00<00:00, 300.83it/s]\n",
      "Eliminating: E3: 100%|██████████████████████████████████████████████████████████████████| 3/3 [00:00<00:00, 334.21it/s]\n",
      "Eliminating: E7: 100%|██████████████████████████████████████████████████████████████████| 1/1 [00:00<00:00, 501.29it/s]\n",
      "Eliminating: E8: 100%|██████████████████████████████████████████████████████████████████| 1/1 [00:00<00:00, 333.54it/s]\n",
      "Eliminating: E9: 100%|██████████████████████████████████████████████████████████████████| 1/1 [00:00<00:00, 501.29it/s]\n"
     ]
    },
    {
     "name": "stdout",
     "output_type": "stream",
     "text": [
      "+--------+-----------+\n",
      "| S1     |   phi(S1) |\n",
      "+========+===========+\n",
      "| S1(0)  |    0.0022 |\n",
      "+--------+-----------+\n",
      "| S1(1)  |    0.0001 |\n",
      "+--------+-----------+\n",
      "| S1(2)  |    0.0000 |\n",
      "+--------+-----------+\n",
      "| S1(3)  |    0.0000 |\n",
      "+--------+-----------+\n",
      "| S1(4)  |    0.0000 |\n",
      "+--------+-----------+\n",
      "| S1(5)  |    0.0000 |\n",
      "+--------+-----------+\n",
      "| S1(6)  |    0.0000 |\n",
      "+--------+-----------+\n",
      "| S1(7)  |    0.0000 |\n",
      "+--------+-----------+\n",
      "| S1(8)  |    0.0000 |\n",
      "+--------+-----------+\n",
      "| S1(9)  |    0.0000 |\n",
      "+--------+-----------+\n",
      "| S1(10) |    0.0000 |\n",
      "+--------+-----------+\n",
      "+--------+-----------+\n",
      "| S2     |   phi(S2) |\n",
      "+========+===========+\n",
      "| S2(0)  |    1.0000 |\n",
      "+--------+-----------+\n",
      "| S2(1)  |    0.0000 |\n",
      "+--------+-----------+\n",
      "| S2(2)  |    0.0000 |\n",
      "+--------+-----------+\n",
      "| S2(3)  |    0.0000 |\n",
      "+--------+-----------+\n",
      "| S2(4)  |    0.0000 |\n",
      "+--------+-----------+\n",
      "| S2(5)  |    0.0000 |\n",
      "+--------+-----------+\n",
      "| S2(6)  |    0.0000 |\n",
      "+--------+-----------+\n",
      "| S2(7)  |    0.0000 |\n",
      "+--------+-----------+\n",
      "| S2(8)  |    0.0000 |\n",
      "+--------+-----------+\n",
      "| S2(9)  |    0.0000 |\n",
      "+--------+-----------+\n",
      "| S2(10) |    0.0000 |\n",
      "+--------+-----------+\n",
      "+--------+-----------+\n",
      "| S3     |   phi(S3) |\n",
      "+========+===========+\n",
      "| S3(0)  |    0.0013 |\n",
      "+--------+-----------+\n",
      "| S3(1)  |    0.0000 |\n",
      "+--------+-----------+\n",
      "| S3(2)  |    0.0000 |\n",
      "+--------+-----------+\n",
      "| S3(3)  |    0.0000 |\n",
      "+--------+-----------+\n",
      "| S3(4)  |    0.0010 |\n",
      "+--------+-----------+\n",
      "| S3(5)  |    0.0000 |\n",
      "+--------+-----------+\n",
      "| S3(6)  |    0.0000 |\n",
      "+--------+-----------+\n",
      "| S3(7)  |    0.0000 |\n",
      "+--------+-----------+\n",
      "| S3(8)  |    0.0000 |\n",
      "+--------+-----------+\n",
      "| S3(9)  |    0.0000 |\n",
      "+--------+-----------+\n",
      "| S3(10) |    0.0000 |\n",
      "+--------+-----------+\n",
      "+--------+-----------+\n",
      "| S4     |   phi(S4) |\n",
      "+========+===========+\n",
      "| S4(0)  |    0.0013 |\n",
      "+--------+-----------+\n",
      "| S4(1)  |    0.0000 |\n",
      "+--------+-----------+\n",
      "| S4(2)  |    0.0000 |\n",
      "+--------+-----------+\n",
      "| S4(3)  |    0.0000 |\n",
      "+--------+-----------+\n",
      "| S4(4)  |    0.0010 |\n",
      "+--------+-----------+\n",
      "| S4(5)  |    0.0000 |\n",
      "+--------+-----------+\n",
      "| S4(6)  |    0.0000 |\n",
      "+--------+-----------+\n",
      "| S4(7)  |    0.0000 |\n",
      "+--------+-----------+\n",
      "| S4(8)  |    0.0000 |\n",
      "+--------+-----------+\n",
      "| S4(9)  |    0.0000 |\n",
      "+--------+-----------+\n",
      "| S4(10) |    0.0000 |\n",
      "+--------+-----------+\n",
      "+--------+-----------+\n",
      "| S5     |   phi(S5) |\n",
      "+========+===========+\n",
      "| S5(0)  |    0.0023 |\n",
      "+--------+-----------+\n",
      "| S5(1)  |    0.0000 |\n",
      "+--------+-----------+\n",
      "| S5(2)  |    0.0000 |\n",
      "+--------+-----------+\n",
      "| S5(3)  |    0.0000 |\n",
      "+--------+-----------+\n",
      "| S5(4)  |    0.0000 |\n",
      "+--------+-----------+\n",
      "| S5(5)  |    0.0000 |\n",
      "+--------+-----------+\n",
      "| S5(6)  |    0.0000 |\n",
      "+--------+-----------+\n",
      "| S5(7)  |    0.0000 |\n",
      "+--------+-----------+\n",
      "| S5(8)  |    0.0000 |\n",
      "+--------+-----------+\n",
      "| S5(9)  |    0.0000 |\n",
      "+--------+-----------+\n",
      "| S5(10) |    0.0000 |\n",
      "+--------+-----------+\n",
      "+--------+-----------+\n",
      "| S6     |   phi(S6) |\n",
      "+========+===========+\n",
      "| S6(0)  |    0.0023 |\n",
      "+--------+-----------+\n",
      "| S6(1)  |    0.0000 |\n",
      "+--------+-----------+\n",
      "| S6(2)  |    0.0000 |\n",
      "+--------+-----------+\n",
      "| S6(3)  |    0.0000 |\n",
      "+--------+-----------+\n",
      "| S6(4)  |    0.0000 |\n",
      "+--------+-----------+\n",
      "| S6(5)  |    0.0000 |\n",
      "+--------+-----------+\n",
      "| S6(6)  |    0.0000 |\n",
      "+--------+-----------+\n",
      "| S6(7)  |    0.0000 |\n",
      "+--------+-----------+\n",
      "| S6(8)  |    0.0000 |\n",
      "+--------+-----------+\n",
      "| S6(9)  |    0.0000 |\n",
      "+--------+-----------+\n",
      "| S6(10) |    0.0000 |\n",
      "+--------+-----------+\n",
      "+--------+-----------+\n",
      "| S7     |   phi(S7) |\n",
      "+========+===========+\n",
      "| S7(0)  |    0.0200 |\n",
      "+--------+-----------+\n",
      "| S7(1)  |    0.0000 |\n",
      "+--------+-----------+\n",
      "| S7(2)  |    0.0000 |\n",
      "+--------+-----------+\n",
      "| S7(3)  |    0.0000 |\n",
      "+--------+-----------+\n",
      "| S7(4)  |    0.0000 |\n",
      "+--------+-----------+\n",
      "| S7(5)  |    0.0000 |\n",
      "+--------+-----------+\n",
      "| S7(6)  |    0.0000 |\n",
      "+--------+-----------+\n",
      "| S7(7)  |    0.0000 |\n",
      "+--------+-----------+\n",
      "| S7(8)  |    0.9800 |\n",
      "+--------+-----------+\n",
      "| S7(9)  |    0.0000 |\n",
      "+--------+-----------+\n",
      "| S7(10) |    0.0000 |\n",
      "+--------+-----------+\n",
      "+--------+-----------+\n",
      "| S8     |   phi(S8) |\n",
      "+========+===========+\n",
      "| S8(0)  |    0.0200 |\n",
      "+--------+-----------+\n",
      "| S8(1)  |    0.0000 |\n",
      "+--------+-----------+\n",
      "| S8(2)  |    0.0000 |\n",
      "+--------+-----------+\n",
      "| S8(3)  |    0.0000 |\n",
      "+--------+-----------+\n",
      "| S8(4)  |    0.0000 |\n",
      "+--------+-----------+\n",
      "| S8(5)  |    0.0000 |\n",
      "+--------+-----------+\n",
      "| S8(6)  |    0.0000 |\n",
      "+--------+-----------+\n",
      "| S8(7)  |    0.0000 |\n",
      "+--------+-----------+\n",
      "| S8(8)  |    0.9800 |\n",
      "+--------+-----------+\n",
      "| S8(9)  |    0.0000 |\n",
      "+--------+-----------+\n",
      "| S8(10) |    0.0000 |\n",
      "+--------+-----------+\n",
      "+--------+-----------+\n",
      "| S9     |   phi(S9) |\n",
      "+========+===========+\n",
      "| S9(0)  |    0.0200 |\n",
      "+--------+-----------+\n",
      "| S9(1)  |    0.0000 |\n",
      "+--------+-----------+\n",
      "| S9(2)  |    0.0000 |\n",
      "+--------+-----------+\n",
      "| S9(3)  |    0.0000 |\n",
      "+--------+-----------+\n",
      "| S9(4)  |    0.0000 |\n",
      "+--------+-----------+\n",
      "| S9(5)  |    0.0000 |\n",
      "+--------+-----------+\n",
      "| S9(6)  |    0.0000 |\n",
      "+--------+-----------+\n",
      "| S9(7)  |    0.0000 |\n",
      "+--------+-----------+\n",
      "| S9(8)  |    0.9800 |\n",
      "+--------+-----------+\n",
      "| S9(9)  |    0.0000 |\n",
      "+--------+-----------+\n",
      "| S9(10) |    0.0000 |\n",
      "+--------+-----------+\n"
     ]
    }
   ],
   "source": [
    "margin1 = bp1.query(variables=['S1'])\n",
    "margin2 = bp2.query(variables=['S2'])\n",
    "margin3 = bp1.query(variables=['S3'])\n",
    "margin4 = bp1.query(variables=['S4'])\n",
    "margin5 = bp1.query(variables=['S5'])\n",
    "margin6 = bp1.query(variables=['S6'])\n",
    "margin7 = bp3.query(variables=['S7'])\n",
    "margin8 = bp4.query(variables=['S8'])\n",
    "margin9 = bp5.query(variables=['S9'])\n",
    "print(margin1)\n",
    "print(margin2)\n",
    "print(margin3)\n",
    "print(margin4)\n",
    "print(margin5)\n",
    "print(margin6)\n",
    "print(margin7)\n",
    "print(margin8)\n",
    "print(margin9)"
   ]
  },
  {
   "cell_type": "markdown",
   "metadata": {},
   "source": [
    "#### b. At every time point, provide the most probable state"
   ]
  },
  {
   "cell_type": "code",
   "execution_count": 98,
   "metadata": {},
   "outputs": [
    {
     "data": {
      "text/html": [
       "<div>\n",
       "<style scoped>\n",
       "    .dataframe tbody tr th:only-of-type {\n",
       "        vertical-align: middle;\n",
       "    }\n",
       "\n",
       "    .dataframe tbody tr th {\n",
       "        vertical-align: top;\n",
       "    }\n",
       "\n",
       "    .dataframe thead th {\n",
       "        text-align: right;\n",
       "    }\n",
       "</style>\n",
       "<table border=\"1\" class=\"dataframe\">\n",
       "  <thead>\n",
       "    <tr style=\"text-align: right;\">\n",
       "      <th></th>\n",
       "      <th>time</th>\n",
       "      <th>most probable state</th>\n",
       "    </tr>\n",
       "  </thead>\n",
       "  <tbody>\n",
       "    <tr>\n",
       "      <th>0</th>\n",
       "      <td>1</td>\n",
       "      <td>benign</td>\n",
       "    </tr>\n",
       "    <tr>\n",
       "      <th>1</th>\n",
       "      <td>2</td>\n",
       "      <td>benign</td>\n",
       "    </tr>\n",
       "    <tr>\n",
       "      <th>2</th>\n",
       "      <td>3</td>\n",
       "      <td>benign</td>\n",
       "    </tr>\n",
       "    <tr>\n",
       "      <th>3</th>\n",
       "      <td>4</td>\n",
       "      <td>benign</td>\n",
       "    </tr>\n",
       "    <tr>\n",
       "      <th>4</th>\n",
       "      <td>5</td>\n",
       "      <td>benign</td>\n",
       "    </tr>\n",
       "    <tr>\n",
       "      <th>5</th>\n",
       "      <td>6</td>\n",
       "      <td>benign</td>\n",
       "    </tr>\n",
       "    <tr>\n",
       "      <th>6</th>\n",
       "      <td>7</td>\n",
       "      <td>exfiltration</td>\n",
       "    </tr>\n",
       "    <tr>\n",
       "      <th>7</th>\n",
       "      <td>8</td>\n",
       "      <td>exfiltration</td>\n",
       "    </tr>\n",
       "    <tr>\n",
       "      <th>8</th>\n",
       "      <td>9</td>\n",
       "      <td>exfiltration</td>\n",
       "    </tr>\n",
       "  </tbody>\n",
       "</table>\n",
       "</div>"
      ],
      "text/plain": [
       "   time most probable state\n",
       "0     1              benign\n",
       "1     2              benign\n",
       "2     3              benign\n",
       "3     4              benign\n",
       "4     5              benign\n",
       "5     6              benign\n",
       "6     7        exfiltration\n",
       "7     8        exfiltration\n",
       "8     9        exfiltration"
      ]
     },
     "execution_count": 98,
     "metadata": {},
     "output_type": "execute_result"
    }
   ],
   "source": [
    "t_c = range(1,10)\n",
    "st_c = ['benign','benign','benign','benign','benign','benign','exfiltration','exfiltration','exfiltration']\n",
    "table = pd.DataFrame({\"time\": t_c, \"most probable state\": st_c})\n",
    "\n",
    "table"
   ]
  },
  {
   "cell_type": "markdown",
   "metadata": {},
   "source": [
    "### Task 3.5"
   ]
  },
  {
   "cell_type": "code",
   "execution_count": 101,
   "metadata": {},
   "outputs": [
    {
     "data": {
      "text/html": [
       "<div>\n",
       "<style scoped>\n",
       "    .dataframe tbody tr th:only-of-type {\n",
       "        vertical-align: middle;\n",
       "    }\n",
       "\n",
       "    .dataframe tbody tr th {\n",
       "        vertical-align: top;\n",
       "    }\n",
       "\n",
       "    .dataframe thead th {\n",
       "        text-align: right;\n",
       "    }\n",
       "</style>\n",
       "<table border=\"1\" class=\"dataframe\">\n",
       "  <thead>\n",
       "    <tr style=\"text-align: right;\">\n",
       "      <th></th>\n",
       "      <th>time</th>\n",
       "      <th>most probable state</th>\n",
       "      <th>Taking Action</th>\n",
       "    </tr>\n",
       "  </thead>\n",
       "  <tbody>\n",
       "    <tr>\n",
       "      <th>0</th>\n",
       "      <td>1</td>\n",
       "      <td>benign</td>\n",
       "      <td>NO-OP</td>\n",
       "    </tr>\n",
       "    <tr>\n",
       "      <th>1</th>\n",
       "      <td>2</td>\n",
       "      <td>benign</td>\n",
       "      <td>NO-OP</td>\n",
       "    </tr>\n",
       "    <tr>\n",
       "      <th>2</th>\n",
       "      <td>3</td>\n",
       "      <td>benign</td>\n",
       "      <td>NO-OP</td>\n",
       "    </tr>\n",
       "    <tr>\n",
       "      <th>3</th>\n",
       "      <td>4</td>\n",
       "      <td>benign</td>\n",
       "      <td>NO-OP</td>\n",
       "    </tr>\n",
       "    <tr>\n",
       "      <th>4</th>\n",
       "      <td>5</td>\n",
       "      <td>benign</td>\n",
       "      <td>NO-OP</td>\n",
       "    </tr>\n",
       "    <tr>\n",
       "      <th>5</th>\n",
       "      <td>6</td>\n",
       "      <td>benign</td>\n",
       "      <td>NO-OP</td>\n",
       "    </tr>\n",
       "    <tr>\n",
       "      <th>6</th>\n",
       "      <td>7</td>\n",
       "      <td>exfiltration</td>\n",
       "      <td>STOP</td>\n",
       "    </tr>\n",
       "    <tr>\n",
       "      <th>7</th>\n",
       "      <td>8</td>\n",
       "      <td>exfiltration</td>\n",
       "      <td>STOP</td>\n",
       "    </tr>\n",
       "    <tr>\n",
       "      <th>8</th>\n",
       "      <td>9</td>\n",
       "      <td>exfiltration</td>\n",
       "      <td>STOP</td>\n",
       "    </tr>\n",
       "  </tbody>\n",
       "</table>\n",
       "</div>"
      ],
      "text/plain": [
       "   time most probable state Taking Action\n",
       "0     1              benign         NO-OP\n",
       "1     2              benign         NO-OP\n",
       "2     3              benign         NO-OP\n",
       "3     4              benign         NO-OP\n",
       "4     5              benign         NO-OP\n",
       "5     6              benign         NO-OP\n",
       "6     7        exfiltration          STOP\n",
       "7     8        exfiltration          STOP\n",
       "8     9        exfiltration          STOP"
      ]
     },
     "execution_count": 101,
     "metadata": {},
     "output_type": "execute_result"
    }
   ],
   "source": [
    "ACTIONS = {\n",
    "    # each value in an actions' vector corresponds to an attack stage\n",
    "    'NO-OP':   [1.,   0.61, 0.69, 0.09, 0.2 , 0. ,  0.,   0.,   0. ,  0. ,  0.  ],\n",
    "    'MONITOR': [0.  , 0.39, 0.31 ,0.84, 0.63, 0.7,  0.07 ,0.1 , 0. ,  0. ,  0.  ],\n",
    "    'STOP':    [0.  , 0.,   0.  , 0.07, 0.17, 0.3,  0.93 ,0.9 , 1. ,  1. ,  1.  ]\n",
    "}\n",
    "t_c = range(1,10)\n",
    "st_c = ['benign','benign','benign','benign','benign','benign','exfiltration','exfiltration','exfiltration']\n",
    "act_c = ['NO-OP','NO-OP','NO-OP','NO-OP','NO-OP','NO-OP','STOP','STOP','STOP']\n",
    "table = pd.DataFrame({\"time\": t_c, \"most probable state\": st_c,\"Taking Action\":act_c})\n",
    "\n",
    "table"
   ]
  },
  {
   "cell_type": "markdown",
   "metadata": {},
   "source": [
    "### Task 3.6"
   ]
  },
  {
   "cell_type": "markdown",
   "metadata": {},
   "source": [
    "#### Indicate the earliest stage in which your model should recommend stopping the attack"
   ]
  },
  {
   "cell_type": "code",
   "execution_count": 102,
   "metadata": {},
   "outputs": [
    {
     "name": "stdout",
     "output_type": "stream",
     "text": [
      "stage 6: exfiltration\n"
     ]
    }
   ],
   "source": [
    "print(\"stage 6: exfiltration\")"
   ]
  },
  {
   "cell_type": "markdown",
   "metadata": {},
   "source": [
    "### Task 3.7"
   ]
  },
  {
   "cell_type": "markdown",
   "metadata": {},
   "source": [
    "#### a. Judge whether the most probable states for $s_1-s_6,s_8,s_9$ remain the same as Task3.2\n",
    "#### b. State the reason for your judgement"
   ]
  },
  {
   "cell_type": "markdown",
   "metadata": {},
   "source": [
    "### Task 3.8"
   ]
  },
  {
   "cell_type": "markdown",
   "metadata": {},
   "source": [
    "#### a. Draw an HMM model for the attack scenario given the provided states and events.\n",
    "#### b. What parameters are needed for this HMM model to work?\n",
    "#### c. Give an example of an advantage of the FG over the HMM model."
   ]
  },
  {
   "cell_type": "code",
   "execution_count": null,
   "metadata": {
    "collapsed": true
   },
   "outputs": [],
   "source": []
  }
 ],
 "metadata": {
  "kernelspec": {
   "display_name": "Python 3",
   "language": "python",
   "name": "python3"
  },
  "language_info": {
   "codemirror_mode": {
    "name": "ipython",
    "version": 3
   },
   "file_extension": ".py",
   "mimetype": "text/x-python",
   "name": "python",
   "nbconvert_exporter": "python",
   "pygments_lexer": "ipython3",
   "version": "3.7.6"
  }
 },
 "nbformat": 4,
 "nbformat_minor": 2
}
