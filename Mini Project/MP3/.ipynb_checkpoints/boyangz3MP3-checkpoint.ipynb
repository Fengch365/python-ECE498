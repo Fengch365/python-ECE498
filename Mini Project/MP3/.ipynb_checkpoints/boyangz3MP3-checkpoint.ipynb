{
 "cells": [
  {
   "cell_type": "code",
   "execution_count": 7,
   "metadata": {
    "collapsed": true
   },
   "outputs": [],
   "source": [
    "# import necessary package\n",
    "import pandas as pd \n",
    "import seaborn as sns\n",
    "import numpy as np  \n",
    "import datetime\n",
    "import matplotlib.pyplot as plt\n",
    "import matplotlib as mpl\n",
    "from scipy import stats as st\n",
    "from pandas import json_normalize"
   ]
  },
  {
   "cell_type": "code",
   "execution_count": 2,
   "metadata": {
    "collapsed": true
   },
   "outputs": [],
   "source": [
    "# adjust graph format\n",
    "sns.set()"
   ]
  },
  {
   "cell_type": "code",
   "execution_count": 8,
   "metadata": {},
   "outputs": [
    {
     "name": "stdout",
     "output_type": "stream",
     "text": [
      "{\"name\":\"system_info\",\"hostIdentifier\":\"ubuntu\",\"calendarTime\":\"Tue Feb  6 00:33:05 2018 UTC\",\"unixTime\":\"1517877185\",\"epoch\":\"0\",\"counter\":\"38463\",\"decorations\":{\"host_uuid\":\"D5882FBF-1D65-4A30-B216-77F664B7D3B0\",\"username\":\"root\"},\"columns\":{\"name\":\"rk\"},\"action\":\"added\"}\n",
      "\n"
     ]
    }
   ],
   "source": [
    "# read in pf.log\n",
    "with open('osqueryd.results.log') as f:\n",
    "    lines = f.readlines()#open and read the content in 'pf.log' and close it\n",
    "    f.close()\n",
    "\n",
    "print(lines[0])"
   ]
  },
  {
   "cell_type": "code",
   "execution_count": 17,
   "metadata": {
    "collapsed": true
   },
   "outputs": [],
   "source": [
    "#each line is a string represents a nested dictionary\n",
    "#using the eval() to convert string as a dictionary\n",
    "#use the json_normalize in pandas module to flatten the nested dictionary \n",
    "list_dict=[]\n",
    "for i in range(len(lines)):\n",
    "    temp_dict=eval(lines[i])\n",
    "    list_dict.append(temp_dict)\n",
    "#the resulted dataframe of file \"osqueryd.results.log\"\n",
    "os_log=json_normalize(list_dict)\n",
    "#create a csv file for the os_log dataframe\n",
    "os_log.to_csv('os_log.csv',index=False) "
   ]
  },
  {
   "cell_type": "code",
   "execution_count": 20,
   "metadata": {
    "collapsed": true
   },
   "outputs": [],
   "source": [
    "#template to read the created csv file temp_log=pd.read_csv('os_log.csv')"
   ]
  },
  {
   "cell_type": "code",
   "execution_count": null,
   "metadata": {
    "collapsed": true
   },
   "outputs": [],
   "source": []
  },
  {
   "cell_type": "code",
   "execution_count": null,
   "metadata": {
    "collapsed": true
   },
   "outputs": [],
   "source": []
  }
 ],
 "metadata": {
  "kernelspec": {
   "display_name": "Python 3",
   "language": "python",
   "name": "python3"
  },
  "language_info": {
   "codemirror_mode": {
    "name": "ipython",
    "version": 3
   },
   "file_extension": ".py",
   "mimetype": "text/x-python",
   "name": "python",
   "nbconvert_exporter": "python",
   "pygments_lexer": "ipython3",
   "version": "3.7.4"
  }
 },
 "nbformat": 4,
 "nbformat_minor": 4
}
