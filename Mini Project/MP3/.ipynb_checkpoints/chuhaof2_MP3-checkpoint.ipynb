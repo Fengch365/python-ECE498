{
 "cells": [
  {
   "cell_type": "code",
   "execution_count": 1,
   "metadata": {},
   "outputs": [],
   "source": [
    "import numpy as np\n",
    "import pandas as pd\n",
    "from pgmpy.factors.discrete import DiscreteFactor\n",
    "from pgmpy.models import FactorGraph\n",
    "from pgmpy.inference import BeliefPropagation"
   ]
  },
  {
   "cell_type": "markdown",
   "metadata": {},
   "source": [
    "## Task 2 "
   ]
  },
  {
   "cell_type": "markdown",
   "metadata": {},
   "source": [
    "### Task 2.1"
   ]
  },
  {
   "cell_type": "code",
   "execution_count": 2,
   "metadata": {},
   "outputs": [],
   "source": [
    "G = FactorGraph() ## Create FactorGraph object\n",
    "###############################\n",
    "#   TODO: Define factor functions\n",
    "###############################\n",
    "f_1 = DiscreteFactor(['S1'], [2], [.85, .15])\n",
    "f_2 = DiscreteFactor(['S1', 'E1'], [2, 2], [.1, .2, .0, .5])"
   ]
  },
  {
   "cell_type": "code",
   "execution_count": 3,
   "metadata": {},
   "outputs": [],
   "source": [
    "###############################\n",
    "#   TODO: Add random variables\n",
    "#         and factor functions \n",
    "###############################\n",
    "G.add_nodes_from(['S1', 'E1'])  ## Add random variables \n",
    "G.add_factors(f_1, f_2)         ## Add factor functions\n",
    "\n",
    "###############################\n",
    "#   TODO: Add the edges for random \n",
    "#   variables and factor functions\n",
    "###############################\n",
    "G.add_edges_from([('S1', f_1), ('S1', f_2), ('E1', f_2)])"
   ]
  },
  {
   "cell_type": "markdown",
   "metadata": {},
   "source": [
    "### Task 2.2"
   ]
  },
  {
   "cell_type": "code",
   "execution_count": 4,
   "metadata": {},
   "outputs": [
    {
     "name": "stdout",
     "output_type": "stream",
     "text": [
      "+-------+-----------+\n",
      "| S1    |   phi(S1) |\n",
      "+=======+===========+\n",
      "| S1(0) |    0.7727 |\n",
      "+-------+-----------+\n",
      "| S1(1) |    0.2273 |\n",
      "+-------+-----------+\n"
     ]
    }
   ],
   "source": [
    "bp = BeliefPropagation(G)\n",
    "###############################\n",
    "#   TODO: Compute the marginal probability\n",
    "###############################\n",
    "margin = bp.query(variables=['S1'], joint=False, show_progress=False)\n",
    "print(margin['S1'])"
   ]
  },
  {
   "cell_type": "markdown",
   "metadata": {},
   "source": [
    "### Task 2.3"
   ]
  },
  {
   "cell_type": "markdown",
   "metadata": {},
   "source": [
    "$\n",
    "\\text{According to our results in Task 2.2, $S_1=0$ maximizes the marginal probability $P(S_1)$.}\n",
    "$"
   ]
  },
  {
   "cell_type": "markdown",
   "metadata": {},
   "source": [
    "### Task 2.4"
   ]
  },
  {
   "cell_type": "code",
   "execution_count": 5,
   "metadata": {},
   "outputs": [
    {
     "name": "stdout",
     "output_type": "stream",
     "text": [
      "+-------+-----------+\n",
      "| S1    |   phi(S1) |\n",
      "+=======+===========+\n",
      "| S1(0) |    0.6939 |\n",
      "+-------+-----------+\n",
      "| S1(1) |    0.3061 |\n",
      "+-------+-----------+\n"
     ]
    }
   ],
   "source": [
    "margin = bp.query(variables=['S1'], evidence={'E1': 1}, joint=False, show_progress=False)\n",
    "print(margin['S1'])"
   ]
  },
  {
   "cell_type": "markdown",
   "metadata": {},
   "source": [
    "### Task 2.5"
   ]
  },
  {
   "cell_type": "markdown",
   "metadata": {},
   "source": [
    "$\n",
    "\\text{The most probable state of $S_1$ when observing $E_1=1$ is still $0$.}\n",
    "$"
   ]
  },
  {
   "cell_type": "markdown",
   "metadata": {},
   "source": [
    "### Task 2.6"
   ]
  },
  {
   "cell_type": "markdown",
   "metadata": {},
   "source": [
    "## Task 3"
   ]
  },
  {
   "cell_type": "code",
   "execution_count": 6,
   "metadata": {},
   "outputs": [],
   "source": [
    "ATTACK_EVENTS_MAP = {\n",
    "    'Scan':1,\n",
    "    'Login':2,\n",
    "    'Sensitive_URI':3,\n",
    "    'New_Kernel_Module':4,\n",
    "    'DNS_Tunneling':5\n",
    "}\n",
    "ATTACK_STATES_MAP = {\n",
    "    'benign': 1,\n",
    "    'discovery': 2,\n",
    "    'access': 3,\n",
    "    'lateral_movement': 4,\n",
    "    'privilege_escalation': 5,\n",
    "    'persistence': 6,\n",
    "    'defense_evasion': 7,\n",
    "    'collection': 8,\n",
    "    'exfiltration': 9,\n",
    "    'command_control': 10,\n",
    "    'execution': 11\n",
    "}"
   ]
  },
  {
   "cell_type": "markdown",
   "metadata": {},
   "source": [
    "### Task 3.0 "
   ]
  },
  {
   "cell_type": "code",
   "execution_count": 7,
   "metadata": {},
   "outputs": [
    {
     "name": "stdout",
     "output_type": "stream",
     "text": [
      "The corresponding factor function for each event:\n"
     ]
    },
    {
     "data": {
      "text/html": [
       "<div>\n",
       "<style scoped>\n",
       "    .dataframe tbody tr th:only-of-type {\n",
       "        vertical-align: middle;\n",
       "    }\n",
       "\n",
       "    .dataframe tbody tr th {\n",
       "        vertical-align: top;\n",
       "    }\n",
       "\n",
       "    .dataframe thead th {\n",
       "        text-align: right;\n",
       "    }\n",
       "</style>\n",
       "<table border=\"1\" class=\"dataframe\">\n",
       "  <thead>\n",
       "    <tr style=\"text-align: right;\">\n",
       "      <th></th>\n",
       "      <th>benign</th>\n",
       "      <th>discovery</th>\n",
       "      <th>access</th>\n",
       "      <th>lateral_movement</th>\n",
       "      <th>privilege_escalation</th>\n",
       "      <th>persistence</th>\n",
       "      <th>defense_evasion</th>\n",
       "      <th>collection</th>\n",
       "      <th>exfiltration</th>\n",
       "      <th>command_control</th>\n",
       "      <th>execution</th>\n",
       "    </tr>\n",
       "  </thead>\n",
       "  <tbody>\n",
       "    <tr>\n",
       "      <th>Scan</th>\n",
       "      <td>0.936000</td>\n",
       "      <td>0.064</td>\n",
       "      <td>0.0</td>\n",
       "      <td>0.0</td>\n",
       "      <td>0.000000</td>\n",
       "      <td>0.000</td>\n",
       "      <td>0.0</td>\n",
       "      <td>0.0</td>\n",
       "      <td>0.00</td>\n",
       "      <td>0.0</td>\n",
       "      <td>0.0</td>\n",
       "    </tr>\n",
       "    <tr>\n",
       "      <th>Login</th>\n",
       "      <td>1.000000</td>\n",
       "      <td>0.000</td>\n",
       "      <td>0.0</td>\n",
       "      <td>0.0</td>\n",
       "      <td>0.000000</td>\n",
       "      <td>0.000</td>\n",
       "      <td>0.0</td>\n",
       "      <td>0.0</td>\n",
       "      <td>0.00</td>\n",
       "      <td>0.0</td>\n",
       "      <td>0.0</td>\n",
       "    </tr>\n",
       "    <tr>\n",
       "      <th>Sensitive_URI</th>\n",
       "      <td>0.553333</td>\n",
       "      <td>0.000</td>\n",
       "      <td>0.0</td>\n",
       "      <td>0.0</td>\n",
       "      <td>0.446667</td>\n",
       "      <td>0.000</td>\n",
       "      <td>0.0</td>\n",
       "      <td>0.0</td>\n",
       "      <td>0.00</td>\n",
       "      <td>0.0</td>\n",
       "      <td>0.0</td>\n",
       "    </tr>\n",
       "    <tr>\n",
       "      <th>New_Kernel_Module</th>\n",
       "      <td>0.875000</td>\n",
       "      <td>0.000</td>\n",
       "      <td>0.0</td>\n",
       "      <td>0.0</td>\n",
       "      <td>0.000000</td>\n",
       "      <td>0.125</td>\n",
       "      <td>0.0</td>\n",
       "      <td>0.0</td>\n",
       "      <td>0.00</td>\n",
       "      <td>0.0</td>\n",
       "      <td>0.0</td>\n",
       "    </tr>\n",
       "    <tr>\n",
       "      <th>DNS_Tunneling</th>\n",
       "      <td>0.020000</td>\n",
       "      <td>0.000</td>\n",
       "      <td>0.0</td>\n",
       "      <td>0.0</td>\n",
       "      <td>0.000000</td>\n",
       "      <td>0.000</td>\n",
       "      <td>0.0</td>\n",
       "      <td>0.0</td>\n",
       "      <td>0.98</td>\n",
       "      <td>0.0</td>\n",
       "      <td>0.0</td>\n",
       "    </tr>\n",
       "  </tbody>\n",
       "</table>\n",
       "</div>"
      ],
      "text/plain": [
       "                     benign  discovery  access  lateral_movement  \\\n",
       "Scan               0.936000      0.064     0.0               0.0   \n",
       "Login              1.000000      0.000     0.0               0.0   \n",
       "Sensitive_URI      0.553333      0.000     0.0               0.0   \n",
       "New_Kernel_Module  0.875000      0.000     0.0               0.0   \n",
       "DNS_Tunneling      0.020000      0.000     0.0               0.0   \n",
       "\n",
       "                   privilege_escalation  persistence  defense_evasion  \\\n",
       "Scan                           0.000000        0.000              0.0   \n",
       "Login                          0.000000        0.000              0.0   \n",
       "Sensitive_URI                  0.446667        0.000              0.0   \n",
       "New_Kernel_Module              0.000000        0.125              0.0   \n",
       "DNS_Tunneling                  0.000000        0.000              0.0   \n",
       "\n",
       "                   collection  exfiltration  command_control  execution  \n",
       "Scan                      0.0          0.00              0.0        0.0  \n",
       "Login                     0.0          0.00              0.0        0.0  \n",
       "Sensitive_URI             0.0          0.00              0.0        0.0  \n",
       "New_Kernel_Module         0.0          0.00              0.0        0.0  \n",
       "DNS_Tunneling             0.0          0.98              0.0        0.0  "
      ]
     },
     "execution_count": 7,
     "metadata": {},
     "output_type": "execute_result"
    }
   ],
   "source": [
    "event_review = open('event_review.txt', 'r') \n",
    "Lines = event_review.readlines() \n",
    "\n",
    "# matrix for all the fs\n",
    "f_gen=np.zeros((5,11))\n",
    "\n",
    "for line in Lines: \n",
    "    temp = line.split(\" //\")\n",
    "    # get the event\n",
    "    temp[0] = temp[0][7:]\n",
    "    # get the state\n",
    "    temp[1] = temp[1].strip('/')\n",
    "    temp[1] = temp[1].strip('\\n')\n",
    "    temp[1] = temp[1][21:]\n",
    "    temp[1] = temp[1].strip(\" \")\n",
    "    f_gen[ATTACK_EVENTS_MAP[temp[0]]-1,ATTACK_STATES_MAP[temp[1]]-1] += 1.0\n",
    "\n",
    "for i in range(5):\n",
    "    f_gen[i,:]=f_gen[i,:]/f_gen[i,:].sum()\n",
    "\n",
    "# construct the corresponding factor function for each event\n",
    "f_event = {}\n",
    "for key in ATTACK_EVENTS_MAP:\n",
    "    f_event[key] = f_gen[ATTACK_EVENTS_MAP[key]-1, :]\n",
    "    \n",
    "print('The corresponding factor function for each event:')\n",
    "f_events = []\n",
    "for key in f_event:\n",
    "    f_events.append(f_event[key])\n",
    "\n",
    "# generate a better format\n",
    "pd_f_events = pd.DataFrame(f_events, columns=ATTACK_STATES_MAP.keys(), index=ATTACK_EVENTS_MAP.keys())\n",
    "pd_f_events"
   ]
  },
  {
   "cell_type": "code",
   "execution_count": 8,
   "metadata": {},
   "outputs": [
    {
     "name": "stdout",
     "output_type": "stream",
     "text": [
      "f1 to f9\n"
     ]
    },
    {
     "data": {
      "text/html": [
       "<div>\n",
       "<style scoped>\n",
       "    .dataframe tbody tr th:only-of-type {\n",
       "        vertical-align: middle;\n",
       "    }\n",
       "\n",
       "    .dataframe tbody tr th {\n",
       "        vertical-align: top;\n",
       "    }\n",
       "\n",
       "    .dataframe thead th {\n",
       "        text-align: right;\n",
       "    }\n",
       "</style>\n",
       "<table border=\"1\" class=\"dataframe\">\n",
       "  <thead>\n",
       "    <tr style=\"text-align: right;\">\n",
       "      <th></th>\n",
       "      <th>benign</th>\n",
       "      <th>discovery</th>\n",
       "      <th>access</th>\n",
       "      <th>lateral_movement</th>\n",
       "      <th>privilege_escalation</th>\n",
       "      <th>persistence</th>\n",
       "      <th>defense_evasion</th>\n",
       "      <th>collection</th>\n",
       "      <th>exfiltration</th>\n",
       "      <th>command_control</th>\n",
       "      <th>execution</th>\n",
       "    </tr>\n",
       "  </thead>\n",
       "  <tbody>\n",
       "    <tr>\n",
       "      <th>f1</th>\n",
       "      <td>0.936000</td>\n",
       "      <td>0.064</td>\n",
       "      <td>0.0</td>\n",
       "      <td>0.0</td>\n",
       "      <td>0.000000</td>\n",
       "      <td>0.000</td>\n",
       "      <td>0.0</td>\n",
       "      <td>0.0</td>\n",
       "      <td>0.00</td>\n",
       "      <td>0.0</td>\n",
       "      <td>0.0</td>\n",
       "    </tr>\n",
       "    <tr>\n",
       "      <th>f2</th>\n",
       "      <td>1.000000</td>\n",
       "      <td>0.000</td>\n",
       "      <td>0.0</td>\n",
       "      <td>0.0</td>\n",
       "      <td>0.000000</td>\n",
       "      <td>0.000</td>\n",
       "      <td>0.0</td>\n",
       "      <td>0.0</td>\n",
       "      <td>0.00</td>\n",
       "      <td>0.0</td>\n",
       "      <td>0.0</td>\n",
       "    </tr>\n",
       "    <tr>\n",
       "      <th>f3</th>\n",
       "      <td>0.553333</td>\n",
       "      <td>0.000</td>\n",
       "      <td>0.0</td>\n",
       "      <td>0.0</td>\n",
       "      <td>0.446667</td>\n",
       "      <td>0.000</td>\n",
       "      <td>0.0</td>\n",
       "      <td>0.0</td>\n",
       "      <td>0.00</td>\n",
       "      <td>0.0</td>\n",
       "      <td>0.0</td>\n",
       "    </tr>\n",
       "    <tr>\n",
       "      <th>f4</th>\n",
       "      <td>0.553333</td>\n",
       "      <td>0.000</td>\n",
       "      <td>0.0</td>\n",
       "      <td>0.0</td>\n",
       "      <td>0.446667</td>\n",
       "      <td>0.000</td>\n",
       "      <td>0.0</td>\n",
       "      <td>0.0</td>\n",
       "      <td>0.00</td>\n",
       "      <td>0.0</td>\n",
       "      <td>0.0</td>\n",
       "    </tr>\n",
       "    <tr>\n",
       "      <th>f5</th>\n",
       "      <td>0.553333</td>\n",
       "      <td>0.000</td>\n",
       "      <td>0.0</td>\n",
       "      <td>0.0</td>\n",
       "      <td>0.446667</td>\n",
       "      <td>0.000</td>\n",
       "      <td>0.0</td>\n",
       "      <td>0.0</td>\n",
       "      <td>0.00</td>\n",
       "      <td>0.0</td>\n",
       "      <td>0.0</td>\n",
       "    </tr>\n",
       "    <tr>\n",
       "      <th>f6</th>\n",
       "      <td>0.875000</td>\n",
       "      <td>0.000</td>\n",
       "      <td>0.0</td>\n",
       "      <td>0.0</td>\n",
       "      <td>0.000000</td>\n",
       "      <td>0.125</td>\n",
       "      <td>0.0</td>\n",
       "      <td>0.0</td>\n",
       "      <td>0.00</td>\n",
       "      <td>0.0</td>\n",
       "      <td>0.0</td>\n",
       "    </tr>\n",
       "    <tr>\n",
       "      <th>f7</th>\n",
       "      <td>0.020000</td>\n",
       "      <td>0.000</td>\n",
       "      <td>0.0</td>\n",
       "      <td>0.0</td>\n",
       "      <td>0.000000</td>\n",
       "      <td>0.000</td>\n",
       "      <td>0.0</td>\n",
       "      <td>0.0</td>\n",
       "      <td>0.98</td>\n",
       "      <td>0.0</td>\n",
       "      <td>0.0</td>\n",
       "    </tr>\n",
       "    <tr>\n",
       "      <th>f8</th>\n",
       "      <td>0.020000</td>\n",
       "      <td>0.000</td>\n",
       "      <td>0.0</td>\n",
       "      <td>0.0</td>\n",
       "      <td>0.000000</td>\n",
       "      <td>0.000</td>\n",
       "      <td>0.0</td>\n",
       "      <td>0.0</td>\n",
       "      <td>0.98</td>\n",
       "      <td>0.0</td>\n",
       "      <td>0.0</td>\n",
       "    </tr>\n",
       "    <tr>\n",
       "      <th>f9</th>\n",
       "      <td>0.020000</td>\n",
       "      <td>0.000</td>\n",
       "      <td>0.0</td>\n",
       "      <td>0.0</td>\n",
       "      <td>0.000000</td>\n",
       "      <td>0.000</td>\n",
       "      <td>0.0</td>\n",
       "      <td>0.0</td>\n",
       "      <td>0.98</td>\n",
       "      <td>0.0</td>\n",
       "      <td>0.0</td>\n",
       "    </tr>\n",
       "  </tbody>\n",
       "</table>\n",
       "</div>"
      ],
      "text/plain": [
       "      benign  discovery  access  lateral_movement  privilege_escalation  \\\n",
       "f1  0.936000      0.064     0.0               0.0              0.000000   \n",
       "f2  1.000000      0.000     0.0               0.0              0.000000   \n",
       "f3  0.553333      0.000     0.0               0.0              0.446667   \n",
       "f4  0.553333      0.000     0.0               0.0              0.446667   \n",
       "f5  0.553333      0.000     0.0               0.0              0.446667   \n",
       "f6  0.875000      0.000     0.0               0.0              0.000000   \n",
       "f7  0.020000      0.000     0.0               0.0              0.000000   \n",
       "f8  0.020000      0.000     0.0               0.0              0.000000   \n",
       "f9  0.020000      0.000     0.0               0.0              0.000000   \n",
       "\n",
       "    persistence  defense_evasion  collection  exfiltration  command_control  \\\n",
       "f1        0.000              0.0         0.0          0.00              0.0   \n",
       "f2        0.000              0.0         0.0          0.00              0.0   \n",
       "f3        0.000              0.0         0.0          0.00              0.0   \n",
       "f4        0.000              0.0         0.0          0.00              0.0   \n",
       "f5        0.000              0.0         0.0          0.00              0.0   \n",
       "f6        0.125              0.0         0.0          0.00              0.0   \n",
       "f7        0.000              0.0         0.0          0.98              0.0   \n",
       "f8        0.000              0.0         0.0          0.98              0.0   \n",
       "f9        0.000              0.0         0.0          0.98              0.0   \n",
       "\n",
       "    execution  \n",
       "f1        0.0  \n",
       "f2        0.0  \n",
       "f3        0.0  \n",
       "f4        0.0  \n",
       "f5        0.0  \n",
       "f6        0.0  \n",
       "f7        0.0  \n",
       "f8        0.0  \n",
       "f9        0.0  "
      ]
     },
     "execution_count": 8,
     "metadata": {},
     "output_type": "execute_result"
    }
   ],
   "source": [
    "print('f1 to f9')\n",
    "# a list for the observed event\n",
    "event_list = ['Scan', 'Login', 'Sensitive_URI', 'Sensitive_URI', 'Sensitive_URI', 'New_Kernel_Module', 'DNS_Tunneling', 'DNS_Tunneling', 'DNS_Tunneling']\n",
    "# get f1 to f9\n",
    "f_functions = []\n",
    "for i in range(len(event_list)):\n",
    "    f_functions.append(f_event[event_list[i]])\n",
    "    \n",
    "# generate a better format\n",
    "pd_f_functions = pd.DataFrame(f_functions, columns=ATTACK_STATES_MAP.keys(), index=['f'+str(i+1) for i in range(9)])\n",
    "pd_f_functions"
   ]
  },
  {
   "cell_type": "markdown",
   "metadata": {},
   "source": [
    "### Task 3.1"
   ]
  },
  {
   "cell_type": "code",
   "execution_count": 9,
   "metadata": {},
   "outputs": [],
   "source": [
    "attack_sequences = open('attack_sequences.txt', 'r') \n",
    "Lines = attack_sequences.readlines()"
   ]
  },
  {
   "cell_type": "code",
   "execution_count": 10,
   "metadata": {},
   "outputs": [
    {
     "data": {
      "text/html": [
       "<div>\n",
       "<style scoped>\n",
       "    .dataframe tbody tr th:only-of-type {\n",
       "        vertical-align: middle;\n",
       "    }\n",
       "\n",
       "    .dataframe tbody tr th {\n",
       "        vertical-align: top;\n",
       "    }\n",
       "\n",
       "    .dataframe thead th {\n",
       "        text-align: right;\n",
       "    }\n",
       "</style>\n",
       "<table border=\"1\" class=\"dataframe\">\n",
       "  <thead>\n",
       "    <tr style=\"text-align: right;\">\n",
       "      <th></th>\n",
       "      <th>Most Common Event Sequence</th>\n",
       "      <th>Factor Function</th>\n",
       "      <th>Attack States</th>\n",
       "      <th>Probability</th>\n",
       "    </tr>\n",
       "  </thead>\n",
       "  <tbody>\n",
       "    <tr>\n",
       "      <th></th>\n",
       "      <td>Scan-&gt;Sensitive_URI-&gt;New_Kernel_Module</td>\n",
       "      <td>c</td>\n",
       "      <td>persistence</td>\n",
       "      <td>0.07148</td>\n",
       "    </tr>\n",
       "  </tbody>\n",
       "</table>\n",
       "</div>"
      ],
      "text/plain": [
       "              Most Common Event Sequence Factor Function Attack States  \\\n",
       "  Scan->Sensitive_URI->New_Kernel_Module               c   persistence   \n",
       "\n",
       "  Probability  \n",
       "      0.07148  "
      ]
     },
     "execution_count": 10,
     "metadata": {},
     "output_type": "execute_result"
    }
   ],
   "source": [
    "# look for the most common event sequence and its probability\n",
    "pattern={}\n",
    "total = 0\n",
    "\n",
    "for line in Lines:\n",
    "    temp = line.rstrip(' \\n').split(\" \")\n",
    "    \n",
    "    for i in range(len(temp)-2):\n",
    "        total+=1\n",
    "        key = temp[i]+'->'+temp[i+1]+'->'+temp[i+2]\n",
    "        if(key in pattern):\n",
    "            pattern[key]=pattern[key]+1\n",
    "        else:\n",
    "            pattern[key]=1\n",
    "            \n",
    "maximum = max(pattern, key=pattern.get)\n",
    "possibility = pattern[maximum]/total\n",
    "pd.DataFrame([['Scan->Sensitive_URI->New_Kernel_Module', 'c', 'persistence', possibility]], \n",
    "             columns = ['Most Common Event Sequence', 'Factor Function', 'Attack States', 'Probability'],\n",
    "             index = [''])"
   ]
  },
  {
   "cell_type": "code",
   "execution_count": 11,
   "metadata": {},
   "outputs": [
    {
     "name": "stdout",
     "output_type": "stream",
     "text": [
      "Commonality factor function c:\n"
     ]
    },
    {
     "data": {
      "text/html": [
       "<div>\n",
       "<style scoped>\n",
       "    .dataframe tbody tr th:only-of-type {\n",
       "        vertical-align: middle;\n",
       "    }\n",
       "\n",
       "    .dataframe tbody tr th {\n",
       "        vertical-align: top;\n",
       "    }\n",
       "\n",
       "    .dataframe thead th {\n",
       "        text-align: right;\n",
       "    }\n",
       "</style>\n",
       "<table border=\"1\" class=\"dataframe\">\n",
       "  <thead>\n",
       "    <tr style=\"text-align: right;\">\n",
       "      <th></th>\n",
       "      <th>benign</th>\n",
       "      <th>discovery</th>\n",
       "      <th>access</th>\n",
       "      <th>lateral_movement</th>\n",
       "      <th>privilege_escalation</th>\n",
       "      <th>persistence</th>\n",
       "      <th>defense_evasion</th>\n",
       "      <th>collection</th>\n",
       "      <th>exfiltration</th>\n",
       "      <th>command_control</th>\n",
       "      <th>execution</th>\n",
       "    </tr>\n",
       "  </thead>\n",
       "  <tbody>\n",
       "    <tr>\n",
       "      <th>fc</th>\n",
       "      <td>0.0</td>\n",
       "      <td>0.0</td>\n",
       "      <td>0.0</td>\n",
       "      <td>0.0</td>\n",
       "      <td>0.0</td>\n",
       "      <td>0.07148</td>\n",
       "      <td>0.0</td>\n",
       "      <td>0.0</td>\n",
       "      <td>0.0</td>\n",
       "      <td>0.0</td>\n",
       "      <td>0.0</td>\n",
       "    </tr>\n",
       "  </tbody>\n",
       "</table>\n",
       "</div>"
      ],
      "text/plain": [
       "    benign  discovery  access  lateral_movement  privilege_escalation  \\\n",
       "fc     0.0        0.0     0.0               0.0                   0.0   \n",
       "\n",
       "    persistence  defense_evasion  collection  exfiltration  command_control  \\\n",
       "fc      0.07148              0.0         0.0           0.0              0.0   \n",
       "\n",
       "    execution  \n",
       "fc        0.0  "
      ]
     },
     "execution_count": 11,
     "metadata": {},
     "output_type": "execute_result"
    }
   ],
   "source": [
    "f_c = np.zeros(11)\n",
    "f_c[ATTACK_STATES_MAP['persistence']-1] = possibility\n",
    "\n",
    "print('Commonality factor function c:')\n",
    "pd.DataFrame(f_c.reshape(1,11), columns=ATTACK_STATES_MAP.keys(), index=['fc'])"
   ]
  },
  {
   "cell_type": "code",
   "execution_count": 12,
   "metadata": {},
   "outputs": [
    {
     "data": {
      "text/html": [
       "<div>\n",
       "<style scoped>\n",
       "    .dataframe tbody tr th:only-of-type {\n",
       "        vertical-align: middle;\n",
       "    }\n",
       "\n",
       "    .dataframe tbody tr th {\n",
       "        vertical-align: top;\n",
       "    }\n",
       "\n",
       "    .dataframe thead th {\n",
       "        text-align: right;\n",
       "    }\n",
       "</style>\n",
       "<table border=\"1\" class=\"dataframe\">\n",
       "  <thead>\n",
       "    <tr style=\"text-align: right;\">\n",
       "      <th></th>\n",
       "      <th>Most Frequent Repetitive Event Sequence</th>\n",
       "      <th>Factor Function</th>\n",
       "      <th>Attack States</th>\n",
       "      <th>Probability</th>\n",
       "    </tr>\n",
       "  </thead>\n",
       "  <tbody>\n",
       "    <tr>\n",
       "      <th></th>\n",
       "      <td>Sensitive_URI-&gt;Sensitive_URI-&gt;Sensitive_URI</td>\n",
       "      <td>r</td>\n",
       "      <td>privilege escalation</td>\n",
       "      <td>0.066476</td>\n",
       "    </tr>\n",
       "  </tbody>\n",
       "</table>\n",
       "</div>"
      ],
      "text/plain": [
       "      Most Frequent Repetitive Event Sequence Factor Function  \\\n",
       "  Sensitive_URI->Sensitive_URI->Sensitive_URI               r   \n",
       "\n",
       "         Attack States  Probability  \n",
       "  privilege escalation     0.066476  "
      ]
     },
     "execution_count": 12,
     "metadata": {},
     "output_type": "execute_result"
    }
   ],
   "source": [
    "# look for the most frequent repetitive event sequence and its probability\n",
    "patternr={}\n",
    "\n",
    "for line in Lines:\n",
    "    temp = line.rstrip(' \\n').split(\" \")\n",
    "    \n",
    "    for i in range(len(temp)-2):\n",
    "        if(temp[i]==temp[i+1] and temp[i+2]==temp[i+1]):\n",
    "            key = temp[i]+'->'+temp[i+1]+'->'+temp[i+2]\n",
    "            if(key in patternr):\n",
    "                patternr[key]=patternr[key]+1\n",
    "            else:\n",
    "                patternr[key]=1\n",
    "                \n",
    "maximumr = max(patternr, key=patternr.get)\n",
    "possibilityr = patternr[maximumr]/total\n",
    "pd.DataFrame([['Sensitive_URI->Sensitive_URI->Sensitive_URI', 'r', 'privilege escalation', possibilityr]], \n",
    "             columns = ['Most Frequent Repetitive Event Sequence', 'Factor Function', 'Attack States', 'Probability'],\n",
    "             index = [''])"
   ]
  },
  {
   "cell_type": "code",
   "execution_count": 13,
   "metadata": {},
   "outputs": [
    {
     "name": "stdout",
     "output_type": "stream",
     "text": [
      "Repetitiveness factor function r:\n"
     ]
    },
    {
     "data": {
      "text/html": [
       "<div>\n",
       "<style scoped>\n",
       "    .dataframe tbody tr th:only-of-type {\n",
       "        vertical-align: middle;\n",
       "    }\n",
       "\n",
       "    .dataframe tbody tr th {\n",
       "        vertical-align: top;\n",
       "    }\n",
       "\n",
       "    .dataframe thead th {\n",
       "        text-align: right;\n",
       "    }\n",
       "</style>\n",
       "<table border=\"1\" class=\"dataframe\">\n",
       "  <thead>\n",
       "    <tr style=\"text-align: right;\">\n",
       "      <th></th>\n",
       "      <th>benign</th>\n",
       "      <th>discovery</th>\n",
       "      <th>access</th>\n",
       "      <th>lateral_movement</th>\n",
       "      <th>privilege_escalation</th>\n",
       "      <th>persistence</th>\n",
       "      <th>defense_evasion</th>\n",
       "      <th>collection</th>\n",
       "      <th>exfiltration</th>\n",
       "      <th>command_control</th>\n",
       "      <th>execution</th>\n",
       "    </tr>\n",
       "  </thead>\n",
       "  <tbody>\n",
       "    <tr>\n",
       "      <th>fr</th>\n",
       "      <td>0.0</td>\n",
       "      <td>0.0</td>\n",
       "      <td>0.0</td>\n",
       "      <td>0.0</td>\n",
       "      <td>0.066476</td>\n",
       "      <td>0.0</td>\n",
       "      <td>0.0</td>\n",
       "      <td>0.0</td>\n",
       "      <td>0.0</td>\n",
       "      <td>0.0</td>\n",
       "      <td>0.0</td>\n",
       "    </tr>\n",
       "  </tbody>\n",
       "</table>\n",
       "</div>"
      ],
      "text/plain": [
       "    benign  discovery  access  lateral_movement  privilege_escalation  \\\n",
       "fr     0.0        0.0     0.0               0.0              0.066476   \n",
       "\n",
       "    persistence  defense_evasion  collection  exfiltration  command_control  \\\n",
       "fr          0.0              0.0         0.0           0.0              0.0   \n",
       "\n",
       "    execution  \n",
       "fr        0.0  "
      ]
     },
     "execution_count": 13,
     "metadata": {},
     "output_type": "execute_result"
    }
   ],
   "source": [
    "f_r = np.zeros(11)\n",
    "f_r[ATTACK_STATES_MAP['privilege_escalation']-1] = possibilityr\n",
    "\n",
    "print('Repetitiveness factor function r:')\n",
    "pd.DataFrame(f_r.reshape(1,11), columns=ATTACK_STATES_MAP.keys(), index=['fr'])"
   ]
  },
  {
   "cell_type": "markdown",
   "metadata": {},
   "source": [
    "### Task 3.2  You will have to submit the graph you draw through Compass"
   ]
  },
  {
   "cell_type": "markdown",
   "metadata": {},
   "source": [
    "### Task 3.3"
   ]
  },
  {
   "cell_type": "code",
   "execution_count": 14,
   "metadata": {},
   "outputs": [],
   "source": [
    "# since the total factor graph has five disconnected parts\n",
    "# we plan to build five independent factor graphs to represent the entire factor graph\n",
    "\n",
    "## Create FactorGraph object\n",
    "G1 = FactorGraph() # for e1, e3, e4, e5, e6, s1, s3, s4, s5, s6\n",
    "G2 = FactorGraph() # for e2, s2\n",
    "G3 = FactorGraph() # for e7, s7\n",
    "G4 = FactorGraph() # for e8, s8\n",
    "G5 = FactorGraph() # for e9, s9\n",
    "\n",
    "###############################\n",
    "#   TODO: Define factor functions\n",
    "###############################\n",
    "\n",
    "# for G1\n",
    "f_1_1 = DiscreteFactor(['E1', 'S1'], [1,11], f_event[event_list[1-1]])\n",
    "f_1_3 = DiscreteFactor(['E3', 'S3'], [1,11], f_event[event_list[3-1]])\n",
    "f_1_4 = DiscreteFactor(['E4', 'S4'], [1,11], f_event[event_list[4-1]])\n",
    "f_1_5 = DiscreteFactor(['E5', 'S5'], [1,11], f_event[event_list[5-1]])\n",
    "f_1_6 = DiscreteFactor(['E6', 'S6'], [1,11], f_event[event_list[6-1]])\n",
    "f_1_c = DiscreteFactor(['E1', 'E3', 'E6', 'S6'], [1, 1, 1, 11], f_c)\n",
    "f_1_r = DiscreteFactor(['E3', 'E4', 'E5', 'S5'], [1, 1, 1, 11], f_r)\n",
    "\n",
    "# for G2\n",
    "f_2_2 = DiscreteFactor(['E2', 'S2'], [1,11], f_event[event_list[2-1]])\n",
    "\n",
    "# for G3\n",
    "f_3_7 = DiscreteFactor(['E7', 'S7'], [1,11], f_event[event_list[7-1]])\n",
    "\n",
    "# for G4\n",
    "f_4_8 = DiscreteFactor(['E8', 'S8'], [1,11], f_event[event_list[8-1]])\n",
    "\n",
    "# for G5\n",
    "f_5_9 = DiscreteFactor(['E9', 'S9'], [1,11], f_event[event_list[9-1]])\n",
    "\n",
    "###############################\n",
    "#   TODO: Add random variables\n",
    "#         and factor functions \n",
    "###############################\n",
    "\n",
    "# for G1\n",
    "G1.add_nodes_from(['E1', 'E3', 'E4', 'E5', 'E6', 'S1', 'S3', 'S4', 'S5', 'S6'])  ## Add random variables \n",
    "G1.add_factors(f_1_1, f_1_3, f_1_4, f_1_5, f_1_6, f_1_c, f_1_r)                  ## Add factor functions\n",
    "\n",
    "# for G2\n",
    "G2.add_nodes_from(['E2', 'S2'])\n",
    "G2.add_factors(f_2_2)\n",
    "\n",
    "# for G3\n",
    "G3.add_nodes_from(['E7', 'S7'])\n",
    "G3.add_factors(f_3_7)\n",
    "\n",
    "# for G4\n",
    "G4.add_nodes_from(['E8', 'S8'])\n",
    "G4.add_factors(f_4_8)\n",
    "\n",
    "# for G5\n",
    "G5.add_nodes_from(['E9', 'S9'])\n",
    "G5.add_factors(f_5_9)\n",
    "\n",
    "###############################\n",
    "#   TODO: Add the edges for random \n",
    "#   variables and factor functions\n",
    "###############################\n",
    "\n",
    "# for G1\n",
    "G1.add_edges_from([('E1',f_1_1),('S1',f_1_1),('E3',f_1_3),('S3',f_1_3),('E4',f_1_4),('S4',f_1_4),('E5',f_1_5),('S5',f_1_5),('E6',f_1_6),('S6',f_1_6),('E1',f_1_c),('E3',f_1_c),('E6',f_1_c),('S6',f_1_c),('E3',f_1_r),('E4',f_1_r),('E5',f_1_r),('S5',f_1_r)])\n",
    "\n",
    "# for G2\n",
    "G2.add_edges_from([('E2',f_2_2),('S2',f_2_2)])\n",
    "\n",
    "# for G3\n",
    "G3.add_edges_from([('E7',f_3_7),('S7',f_3_7)])\n",
    "\n",
    "# for G4\n",
    "G4.add_edges_from([('E8',f_4_8),('S8',f_4_8)])\n",
    "\n",
    "# for G5\n",
    "G5.add_edges_from([('E9',f_5_9),('S9',f_5_9)])\n",
    "\n",
    "###############################\n",
    "#   TODO: Do the inference\n",
    "###############################\n",
    "\n",
    "bp1 = BeliefPropagation(G1)\n",
    "bp2 = BeliefPropagation(G2)\n",
    "bp3 = BeliefPropagation(G3)\n",
    "bp4 = BeliefPropagation(G4)\n",
    "bp5 = BeliefPropagation(G5)"
   ]
  },
  {
   "cell_type": "markdown",
   "metadata": {},
   "source": [
    "### Task 3.4"
   ]
  },
  {
   "cell_type": "markdown",
   "metadata": {},
   "source": [
    "#### a. At every time point, provide the marginal probability of each state (Since we have 9 time points and 11 possible states, you should provide 99 probability values here)"
   ]
  },
  {
   "cell_type": "code",
   "execution_count": 15,
   "metadata": {},
   "outputs": [
    {
     "data": {
      "text/html": [
       "<div>\n",
       "<style scoped>\n",
       "    .dataframe tbody tr th:only-of-type {\n",
       "        vertical-align: middle;\n",
       "    }\n",
       "\n",
       "    .dataframe tbody tr th {\n",
       "        vertical-align: top;\n",
       "    }\n",
       "\n",
       "    .dataframe thead th {\n",
       "        text-align: right;\n",
       "    }\n",
       "</style>\n",
       "<table border=\"1\" class=\"dataframe\">\n",
       "  <thead>\n",
       "    <tr style=\"text-align: right;\">\n",
       "      <th></th>\n",
       "      <th>benign</th>\n",
       "      <th>discovery</th>\n",
       "      <th>access</th>\n",
       "      <th>lateral_movement</th>\n",
       "      <th>privilege_escalation</th>\n",
       "      <th>persistence</th>\n",
       "      <th>defense_evasion</th>\n",
       "      <th>collection</th>\n",
       "      <th>exfiltration</th>\n",
       "      <th>command_control</th>\n",
       "      <th>execution</th>\n",
       "    </tr>\n",
       "  </thead>\n",
       "  <tbody>\n",
       "    <tr>\n",
       "      <th>S1</th>\n",
       "      <td>0.936000</td>\n",
       "      <td>0.064</td>\n",
       "      <td>0.0</td>\n",
       "      <td>0.0</td>\n",
       "      <td>0.000000</td>\n",
       "      <td>0.0</td>\n",
       "      <td>0.0</td>\n",
       "      <td>0.0</td>\n",
       "      <td>0.00</td>\n",
       "      <td>0.0</td>\n",
       "      <td>0.0</td>\n",
       "    </tr>\n",
       "    <tr>\n",
       "      <th>S2</th>\n",
       "      <td>1.000000</td>\n",
       "      <td>0.000</td>\n",
       "      <td>0.0</td>\n",
       "      <td>0.0</td>\n",
       "      <td>0.000000</td>\n",
       "      <td>0.0</td>\n",
       "      <td>0.0</td>\n",
       "      <td>0.0</td>\n",
       "      <td>0.00</td>\n",
       "      <td>0.0</td>\n",
       "      <td>0.0</td>\n",
       "    </tr>\n",
       "    <tr>\n",
       "      <th>S3</th>\n",
       "      <td>0.553333</td>\n",
       "      <td>0.000</td>\n",
       "      <td>0.0</td>\n",
       "      <td>0.0</td>\n",
       "      <td>0.446667</td>\n",
       "      <td>0.0</td>\n",
       "      <td>0.0</td>\n",
       "      <td>0.0</td>\n",
       "      <td>0.00</td>\n",
       "      <td>0.0</td>\n",
       "      <td>0.0</td>\n",
       "    </tr>\n",
       "    <tr>\n",
       "      <th>S4</th>\n",
       "      <td>0.553333</td>\n",
       "      <td>0.000</td>\n",
       "      <td>0.0</td>\n",
       "      <td>0.0</td>\n",
       "      <td>0.446667</td>\n",
       "      <td>0.0</td>\n",
       "      <td>0.0</td>\n",
       "      <td>0.0</td>\n",
       "      <td>0.00</td>\n",
       "      <td>0.0</td>\n",
       "      <td>0.0</td>\n",
       "    </tr>\n",
       "    <tr>\n",
       "      <th>S5</th>\n",
       "      <td>0.000000</td>\n",
       "      <td>0.000</td>\n",
       "      <td>0.0</td>\n",
       "      <td>0.0</td>\n",
       "      <td>1.000000</td>\n",
       "      <td>0.0</td>\n",
       "      <td>0.0</td>\n",
       "      <td>0.0</td>\n",
       "      <td>0.00</td>\n",
       "      <td>0.0</td>\n",
       "      <td>0.0</td>\n",
       "    </tr>\n",
       "    <tr>\n",
       "      <th>S6</th>\n",
       "      <td>0.000000</td>\n",
       "      <td>0.000</td>\n",
       "      <td>0.0</td>\n",
       "      <td>0.0</td>\n",
       "      <td>0.000000</td>\n",
       "      <td>1.0</td>\n",
       "      <td>0.0</td>\n",
       "      <td>0.0</td>\n",
       "      <td>0.00</td>\n",
       "      <td>0.0</td>\n",
       "      <td>0.0</td>\n",
       "    </tr>\n",
       "    <tr>\n",
       "      <th>S7</th>\n",
       "      <td>0.020000</td>\n",
       "      <td>0.000</td>\n",
       "      <td>0.0</td>\n",
       "      <td>0.0</td>\n",
       "      <td>0.000000</td>\n",
       "      <td>0.0</td>\n",
       "      <td>0.0</td>\n",
       "      <td>0.0</td>\n",
       "      <td>0.98</td>\n",
       "      <td>0.0</td>\n",
       "      <td>0.0</td>\n",
       "    </tr>\n",
       "    <tr>\n",
       "      <th>S8</th>\n",
       "      <td>0.020000</td>\n",
       "      <td>0.000</td>\n",
       "      <td>0.0</td>\n",
       "      <td>0.0</td>\n",
       "      <td>0.000000</td>\n",
       "      <td>0.0</td>\n",
       "      <td>0.0</td>\n",
       "      <td>0.0</td>\n",
       "      <td>0.98</td>\n",
       "      <td>0.0</td>\n",
       "      <td>0.0</td>\n",
       "    </tr>\n",
       "    <tr>\n",
       "      <th>S9</th>\n",
       "      <td>0.020000</td>\n",
       "      <td>0.000</td>\n",
       "      <td>0.0</td>\n",
       "      <td>0.0</td>\n",
       "      <td>0.000000</td>\n",
       "      <td>0.0</td>\n",
       "      <td>0.0</td>\n",
       "      <td>0.0</td>\n",
       "      <td>0.98</td>\n",
       "      <td>0.0</td>\n",
       "      <td>0.0</td>\n",
       "    </tr>\n",
       "  </tbody>\n",
       "</table>\n",
       "</div>"
      ],
      "text/plain": [
       "      benign  discovery  access  lateral_movement  privilege_escalation  \\\n",
       "S1  0.936000      0.064     0.0               0.0              0.000000   \n",
       "S2  1.000000      0.000     0.0               0.0              0.000000   \n",
       "S3  0.553333      0.000     0.0               0.0              0.446667   \n",
       "S4  0.553333      0.000     0.0               0.0              0.446667   \n",
       "S5  0.000000      0.000     0.0               0.0              1.000000   \n",
       "S6  0.000000      0.000     0.0               0.0              0.000000   \n",
       "S7  0.020000      0.000     0.0               0.0              0.000000   \n",
       "S8  0.020000      0.000     0.0               0.0              0.000000   \n",
       "S9  0.020000      0.000     0.0               0.0              0.000000   \n",
       "\n",
       "    persistence  defense_evasion  collection  exfiltration  command_control  \\\n",
       "S1          0.0              0.0         0.0          0.00              0.0   \n",
       "S2          0.0              0.0         0.0          0.00              0.0   \n",
       "S3          0.0              0.0         0.0          0.00              0.0   \n",
       "S4          0.0              0.0         0.0          0.00              0.0   \n",
       "S5          0.0              0.0         0.0          0.00              0.0   \n",
       "S6          1.0              0.0         0.0          0.00              0.0   \n",
       "S7          0.0              0.0         0.0          0.98              0.0   \n",
       "S8          0.0              0.0         0.0          0.98              0.0   \n",
       "S9          0.0              0.0         0.0          0.98              0.0   \n",
       "\n",
       "    execution  \n",
       "S1        0.0  \n",
       "S2        0.0  \n",
       "S3        0.0  \n",
       "S4        0.0  \n",
       "S5        0.0  \n",
       "S6        0.0  \n",
       "S7        0.0  \n",
       "S8        0.0  \n",
       "S9        0.0  "
      ]
     },
     "execution_count": 15,
     "metadata": {},
     "output_type": "execute_result"
    }
   ],
   "source": [
    "# for S1, S3, S4, S5, S6\n",
    "G1_margin = bp1.query(variables=['S1', 'S3', 'S4', 'S5', 'S6'], joint=False, show_progress=False)\n",
    "S1_margin = G1_margin['S1']\n",
    "S3_margin = G1_margin['S3']\n",
    "S4_margin = G1_margin['S4']\n",
    "S5_margin = G1_margin['S5']\n",
    "S6_margin = G1_margin['S6']\n",
    "\n",
    "# for S2\n",
    "G2_margin = bp2.query(variables=['S2'], joint=False, show_progress=False)\n",
    "S2_margin = G2_margin['S2']\n",
    "\n",
    "# for S7\n",
    "G3_margin = bp3.query(variables=['S7'], joint=False, show_progress=False)\n",
    "S7_margin = G3_margin['S7']\n",
    "\n",
    "# for S8\n",
    "G4_margin = bp4.query(variables=['S8'], joint=False, show_progress=False)\n",
    "S8_margin = G4_margin['S8']\n",
    "\n",
    "# for S9\n",
    "G5_margin = bp5.query(variables=['S9'], joint=False, show_progress=False)\n",
    "S9_margin = G5_margin['S9']\n",
    "\n",
    "S_margin = [S1_margin, S2_margin, S3_margin, S4_margin, S5_margin, S6_margin, S7_margin, S8_margin, S9_margin]\n",
    "\n",
    "# generate a better forma\n",
    "S_margin_values = [S1_margin.values, S2_margin.values, S3_margin.values, S4_margin.values, S5_margin.values,\n",
    "                   S6_margin.values, S7_margin.values, S8_margin.values, S9_margin.values]\n",
    "\n",
    "pd_S_margin_values = pd.DataFrame(S_margin_values, columns=ATTACK_STATES_MAP.keys(), index=['S'+str(i+1) for i in range(9)])\n",
    "pd_S_margin_values"
   ]
  },
  {
   "cell_type": "markdown",
   "metadata": {},
   "source": [
    "#### b. At every time point, provide the most probable state"
   ]
  },
  {
   "cell_type": "code",
   "execution_count": 16,
   "metadata": {},
   "outputs": [
    {
     "name": "stdout",
     "output_type": "stream",
     "text": [
      "The most probable state for each time point\n",
      "S1: benign\n",
      "S2: benign\n",
      "S3: benign\n",
      "S4: benign\n",
      "S5: privilege_escalation\n",
      "S6: persistence\n",
      "S7: exfiltration\n",
      "S8: exfiltration\n",
      "S9: exfiltration\n"
     ]
    }
   ],
   "source": [
    "print('The most probable state for each time point')\n",
    "\n",
    "S_state = []\n",
    "for i in range(len(S_margin)):\n",
    "    S_state.append(list(ATTACK_STATES_MAP.keys())[np.where(S_margin[i].values == np.max(S_margin[i].values))[0][0]])\n",
    "    print('S' + str(i+1) + \":\", S_state[i])"
   ]
  },
  {
   "cell_type": "markdown",
   "metadata": {},
   "source": [
    "### Task 3.5"
   ]
  },
  {
   "cell_type": "code",
   "execution_count": 17,
   "metadata": {},
   "outputs": [],
   "source": [
    "ACTIONS = {\n",
    "    # each value in an actions' vector corresponds to an attack stage\n",
    "    'NO-OP':   [1.,   0.61, 0.69, 0.09, 0.2 , 0. ,  0.,   0.,   0. ,  0. ,  0.  ],\n",
    "    'MONITOR': [0.  , 0.39, 0.31 ,0.84, 0.63, 0.7,  0.07 ,0.1 , 0. ,  0. ,  0.  ],\n",
    "    'STOP':    [0.  , 0.,   0.  , 0.07, 0.17, 0.3,  0.93 ,0.9 , 1. ,  1. ,  1.  ]\n",
    "}"
   ]
  },
  {
   "cell_type": "code",
   "execution_count": 18,
   "metadata": {},
   "outputs": [
    {
     "name": "stdout",
     "output_type": "stream",
     "text": [
      "Recommended action for each time step:\n",
      "S1: No-Op Action\n",
      "S2: No-Op Action\n",
      "S3: No-Op Action\n",
      "S4: No-Op Action\n",
      "S5: Monitor Action\n",
      "S6: Monitor Action\n",
      "S7: Stop Attack Action\n",
      "S8: Stop Attack Action\n",
      "S9: Stop Attack Action\n"
     ]
    }
   ],
   "source": [
    "actions = np.array([ACTIONS['NO-OP'], ACTIONS['MONITOR'], ACTIONS['STOP']])\n",
    "action_type = ['No-Op Action', 'Monitor Action', 'Stop Attack Action']\n",
    "\n",
    "print('Recommended action for each time step:')\n",
    "\n",
    "S_action = []\n",
    "for i in range(len(S_state)):\n",
    "    S_action.append(action_type[np.where(actions[:, ATTACK_STATES_MAP[S_state[i]]-1] == np.max(actions[:, ATTACK_STATES_MAP[S_state[i]]-1]))[0][0]])\n",
    "    print('S' + str(i+1) + \":\", S_action[i])"
   ]
  },
  {
   "cell_type": "markdown",
   "metadata": {},
   "source": [
    "### Task 3.6"
   ]
  },
  {
   "cell_type": "markdown",
   "metadata": {},
   "source": [
    "#### Indicate the earliest stage in which your model should recommend stopping the attack"
   ]
  },
  {
   "cell_type": "markdown",
   "metadata": {},
   "source": [
    "$\n",
    "\\text{The earliest stage in which our model should recommend stopping the attack is $S_7$, i.e. Exfiltration.}\n",
    "$"
   ]
  },
  {
   "cell_type": "markdown",
   "metadata": {},
   "source": [
    "### Task 3.7"
   ]
  },
  {
   "cell_type": "code",
   "execution_count": 19,
   "metadata": {},
   "outputs": [],
   "source": [
    "# factor graph not including E7 and S7\n",
    "# since the total factor graph has four disconnected parts\n",
    "# we plan to build four independent factor graphs to represent the entire factor graph\n",
    "\n",
    "## Create FactorGraph object\n",
    "G1 = FactorGraph() # for e1, e3, e4, e5, e6, s1, s3, s4, s5, s6\n",
    "G2 = FactorGraph() # for e2, s2\n",
    "# G3 = FactorGraph() # for e7, s7\n",
    "G4 = FactorGraph() # for e8, s8\n",
    "G5 = FactorGraph() # for e9, s9\n",
    "\n",
    "###############################\n",
    "#   TODO: Define factor functions\n",
    "###############################\n",
    "\n",
    "# for G1\n",
    "f_1_1 = DiscreteFactor(['E1', 'S1'], [1,11], f_event[event_list[1-1]])\n",
    "f_1_3 = DiscreteFactor(['E3', 'S3'], [1,11], f_event[event_list[3-1]])\n",
    "f_1_4 = DiscreteFactor(['E4', 'S4'], [1,11], f_event[event_list[4-1]])\n",
    "f_1_5 = DiscreteFactor(['E5', 'S5'], [1,11], f_event[event_list[5-1]])\n",
    "f_1_6 = DiscreteFactor(['E6', 'S6'], [1,11], f_event[event_list[6-1]])\n",
    "f_1_c = DiscreteFactor(['E1', 'E3', 'E6', 'S6'], [1, 1, 1, 11], f_c)\n",
    "f_1_r = DiscreteFactor(['E3', 'E4', 'E5', 'S5'], [1, 1, 1, 11], f_r)\n",
    "\n",
    "# for G2\n",
    "f_2_2 = DiscreteFactor(['E2', 'S2'], [1,11], f_event[event_list[2-1]])\n",
    "\n",
    "# for G3\n",
    "# f_3_7 = DiscreteFactor(['E7', 'S7'], [1,11], f_event[event_list[7-1]])\n",
    "\n",
    "# for G4\n",
    "f_4_8 = DiscreteFactor(['E8', 'S8'], [1,11], f_event[event_list[8-1]])\n",
    "\n",
    "# for G5\n",
    "f_5_9 = DiscreteFactor(['E9', 'S9'], [1,11], f_event[event_list[9-1]])\n",
    "\n",
    "###############################\n",
    "#   TODO: Add random variables\n",
    "#         and factor functions \n",
    "###############################\n",
    "\n",
    "# for G1\n",
    "G1.add_nodes_from(['E1', 'E3', 'E4', 'E5', 'E6', 'S1', 'S3', 'S4', 'S5', 'S6'])  ## Add random variables \n",
    "G1.add_factors(f_1_1, f_1_3, f_1_4, f_1_5, f_1_6, f_1_c, f_1_r)                  ## Add factor functions\n",
    "\n",
    "# for G2\n",
    "G2.add_nodes_from(['E2', 'S2'])\n",
    "G2.add_factors(f_2_2)\n",
    "\n",
    "# for G3\n",
    "# G3.add_nodes_from(['E7', 'S7'])\n",
    "# G3.add_factors(f_3_7)\n",
    "\n",
    "# for G4\n",
    "G4.add_nodes_from(['E8', 'S8'])\n",
    "G4.add_factors(f_4_8)\n",
    "\n",
    "# for G5\n",
    "G5.add_nodes_from(['E9', 'S9'])\n",
    "G5.add_factors(f_5_9)\n",
    "\n",
    "###############################\n",
    "#   TODO: Add the edges for random \n",
    "#   variables and factor functions\n",
    "###############################\n",
    "\n",
    "# for G1\n",
    "G1.add_edges_from([('E1',f_1_1),('S1',f_1_1),('E3',f_1_3),('S3',f_1_3),('E4',f_1_4),('S4',f_1_4),('E5',f_1_5),('S5',f_1_5),('E6',f_1_6),('S6',f_1_6),('E1',f_1_c),('E3',f_1_c),('E6',f_1_c),('S6',f_1_c),('E3',f_1_r),('E4',f_1_r),('E5',f_1_r),('S5',f_1_r)])\n",
    "\n",
    "# for G2\n",
    "G2.add_edges_from([('E2',f_2_2),('S2',f_2_2)])\n",
    "\n",
    "# for G3\n",
    "# G3.add_edges_from([('E7',f_3_7),('S7',f_3_7)])\n",
    "\n",
    "# for G4\n",
    "G4.add_edges_from([('E8',f_4_8),('S8',f_4_8)])\n",
    "\n",
    "# for G5\n",
    "G5.add_edges_from([('E9',f_5_9),('S9',f_5_9)])\n",
    "\n",
    "###############################\n",
    "#   TODO: Do the inference\n",
    "###############################\n",
    "\n",
    "bp1 = BeliefPropagation(G1)\n",
    "bp2 = BeliefPropagation(G2)\n",
    "# bp3 = BeliefPropagation(G3)\n",
    "bp4 = BeliefPropagation(G4)\n",
    "bp5 = BeliefPropagation(G5)"
   ]
  },
  {
   "cell_type": "code",
   "execution_count": 20,
   "metadata": {},
   "outputs": [],
   "source": [
    "# for S1, S3, S4, S5, S6\n",
    "G1_margin = bp1.query(variables=['S1', 'S3', 'S4', 'S5', 'S6'], joint=False, show_progress=False)\n",
    "S1_margin = G1_margin['S1']\n",
    "S3_margin = G1_margin['S3']\n",
    "S4_margin = G1_margin['S4']\n",
    "S5_margin = G1_margin['S5']\n",
    "S6_margin = G1_margin['S6']\n",
    "\n",
    "# for S2\n",
    "G2_margin = bp2.query(variables=['S2'], joint=False, show_progress=False)\n",
    "S2_margin = G2_margin['S2']\n",
    "\n",
    "# for S7\n",
    "# G3_margin = bp3.query(variables=['S7'], joint=False, show_progress=False)\n",
    "# S7_margin = G3_margin['S7']\n",
    "\n",
    "# for S8\n",
    "G4_margin = bp4.query(variables=['S8'], joint=False, show_progress=False)\n",
    "S8_margin = G4_margin['S8']\n",
    "\n",
    "# for S9\n",
    "G5_margin = bp5.query(variables=['S9'], joint=False, show_progress=False)\n",
    "S9_margin = G5_margin['S9']\n",
    "\n",
    "# print(S1_margin)\n",
    "# print(S2_margin)\n",
    "# print(S3_margin)\n",
    "# print(S4_margin)\n",
    "# print(S5_margin)\n",
    "# print(S6_margin)\n",
    "# print(S7_margin)\n",
    "# print(S8_margin)\n",
    "# print(S9_margin)\n",
    "\n",
    "S_margin = [S1_margin, S2_margin, S3_margin, S4_margin, S5_margin, S6_margin, 0, S8_margin, S9_margin]"
   ]
  },
  {
   "cell_type": "code",
   "execution_count": 21,
   "metadata": {},
   "outputs": [
    {
     "name": "stdout",
     "output_type": "stream",
     "text": [
      "The most probable state for each time point\n",
      "S1: benign\n",
      "S2: benign\n",
      "S3: benign\n",
      "S4: benign\n",
      "S5: privilege_escalation\n",
      "S6: persistence\n",
      "S8: exfiltration\n",
      "S9: exfiltration\n"
     ]
    }
   ],
   "source": [
    "print('The most probable state for each time point')\n",
    "\n",
    "S_state = []\n",
    "for i in range(len(S_margin)):\n",
    "    if i == 6:\n",
    "        S_state.append(0)\n",
    "        continue\n",
    "    S_state.append(list(ATTACK_STATES_MAP.keys())[np.where(S_margin[i].values == np.max(S_margin[i].values))[0][0]])\n",
    "    print('S' + str(i+1) + \":\", S_state[i])"
   ]
  },
  {
   "cell_type": "markdown",
   "metadata": {},
   "source": [
    "#### a. Judge whether the most probable states for $s_1-s_6,s_8,s_9$ remain the same as Task3.2"
   ]
  },
  {
   "cell_type": "markdown",
   "metadata": {},
   "source": [
    "$\n",
    "\\text{The most probable states for $S_1−S_6,S_8,S_9$ remain the same as Task3.2.}\n",
    "$"
   ]
  },
  {
   "cell_type": "markdown",
   "metadata": {},
   "source": [
    "#### b. State the reason for your judgement"
   ]
  },
  {
   "cell_type": "markdown",
   "metadata": {},
   "source": [
    "$\n",
    "\\text{$E_7$ and $S_7$ consist an independent factor graph without any connection with any other four factor graphs, which}\\\\\n",
    "\\text{means that $S_1-S_6,S_8,S_9$ are independent of $E_7$ and $S_7$. As a result, removing $E_7$ and $S_7$ will not affect}\\\\ \n",
    "\\text{the inference for the most probable states for $S_1-S_6,S_8,S_9$.}\n",
    "$"
   ]
  },
  {
   "cell_type": "markdown",
   "metadata": {},
   "source": [
    "### Task 3.8"
   ]
  },
  {
   "cell_type": "markdown",
   "metadata": {},
   "source": [
    "#### a. Draw an HMM model for the attack scenario given the provided states and events."
   ]
  },
  {
   "attachments": {
    "image.png": {
     "image/png": "[encoded data removed]"
    }
   },
   "cell_type": "markdown",
   "metadata": {},
   "source": [
    "![image.png](attachment:image.png)"
   ]
  },
  {
   "cell_type": "markdown",
   "metadata": {},
   "source": [
    "#### b. What parameters are needed for this HMM model to work?"
   ]
  },
  {
   "cell_type": "markdown",
   "metadata": {},
   "source": [
    "$\n",
    "\\bullet\\ \\text{An $11\\times 11$ state transition probability matrix}\\\\\n",
    "\\bullet \\text{An $11\\times 5$ observation matrix}\\\\\n",
    "\\bullet \\text{An $1\\times 11$ initial distribution matrix}\n",
    "$"
   ]
  },
  {
   "cell_type": "markdown",
   "metadata": {},
   "source": [
    "#### c. Give an example of an advantage of the FG over the HMM model."
   ]
  },
  {
   "cell_type": "markdown",
   "metadata": {},
   "source": [
    "$\n",
    "\\text{The FG model can implement more relationships than the HMM model does. Specifically, the HMM model can only implement}\\\\ \n",
    "\\text{state transitions and emission of event while the FG model can implement temporal relationships, like patterns of events,}\\\\ \n",
    "\\text{as well as statistical relationships, like severity or repetitiveness of events.}\n",
    "$"
   ]
  },
  {
   "cell_type": "markdown",
   "metadata": {},
   "source": [
    "## Task 4"
   ]
  },
  {
   "cell_type": "markdown",
   "metadata": {},
   "source": [
    "### Task 4.0"
   ]
  },
  {
   "cell_type": "markdown",
   "metadata": {},
   "source": [
    "$\n",
    "\\text{No, it is impossible. Each event has one or more corresponding attack states, so we cannot determine the attack state using only}\\\\\n",
    "\\text{one event. Besides, each event has the corresponding attack state benign that cannot be determined as an attack, so it is even}\\\\ \n",
    "\\text{harder to detect this attack simply using only one event. Thus, it is impossible to $100\\%$ detect this attack using only one event.}\n",
    "$"
   ]
  },
  {
   "cell_type": "markdown",
   "metadata": {},
   "source": [
    "### Task 4.1"
   ]
  },
  {
   "cell_type": "markdown",
   "metadata": {},
   "source": [
    "$\n",
    "\\textbf{Scan:}\\ \\text{This behavior may be done by the antivirus software's, like Windows Defender, automatic scanning of the system to find the virus or attack.}\\\\\n",
    "\\textbf{Login:}\\ \\text{This behavior may be done by a friendly remote user, like a coworker of a project, instead of an attacker.}\\\\\n",
    "\\textbf{Sensitive URI:}\\ \\text{This behavior may be done by the system admin user who enters a link to download some executable files.}\\\\\n",
    "\\textbf{New Executable File:}\\ \\text{The file may come from a safe source like an admin user's compilation of a self-written C program.}\\\\\n",
    "\\textbf{Homepage overwritten with a new link:}\\ \\text{The homepage overwritten can be a situation where a benign server's original homepage is broken}\\\\\n",
    "\\text{for some reasons, and the admin of the server chooses to re-guide the visitor to a new homepage.}\\\\\n",
    "\\textbf{Webserver restarted:}\\ \\text{This behavior can be done by the admin user of the system, for example, the Internet connection is broken while}\\\\\n",
    "\\text{visiting the web, the admin user has to restart the websever to continue when the connection is recovered.}\n",
    "$"
   ]
  },
  {
   "cell_type": "markdown",
   "metadata": {},
   "source": [
    "### Task 4.2"
   ]
  },
  {
   "attachments": {
    "image.png": {
     "image/png": "[encoded data removed]"
    }
   },
   "cell_type": "markdown",
   "metadata": {},
   "source": [
    "![image.png](attachment:image.png)"
   ]
  },
  {
   "cell_type": "markdown",
   "metadata": {},
   "source": [
    "$\n",
    "\\text{Since the attack process is progressive, we believe that there should be state transition relationship between states.}\\\\ \n",
    "\\text{As a result, we decide to use a HMM-like factor graph to model this attack. Specifically,}\\\\\n",
    "\\bullet S_i \\in \\{\\mbox{benign}, \\mbox{discovery}, \\mbox{privilege escalation}, \\mbox{persistence}, \\mbox{command and control}, \\mbox{execution}\\},\\ i=1,2,3,4,5,6,7,8\\\\\n",
    "\\bullet f_{\\pi}\\ \\text{captures the prior probabilities for the states, i.e. implementing initial state distribution in the FG}\\\\\n",
    "\\bullet f_1\\ \\text{captures the affinity between observations and states, i.e. implementing observation matrix in the FG}\\\\\n",
    "\\bullet f_2\\ \\text{captures the affinity between consecutive states, i.e. implementing state transition probability matrix in the FG}\n",
    "$"
   ]
  },
  {
   "cell_type": "markdown",
   "metadata": {},
   "source": [
    "### Task 4.3"
   ]
  },
  {
   "cell_type": "markdown",
   "metadata": {},
   "source": [
    "$\n",
    "\\text{Both the factor graph in Task 3 and our factor graph in Task 4.2 have variables state and event. However, variable state has $9$}\\\\\n",
    "\\text{variates in the factor graph in Task 3 while $8$ variates in our factor graph in Task 4.2. Similarly, variable event has $9$}\\\\\n",
    "\\text{variates in the factor graph in Task 3 while $8$ variates in our factor graph in Task 4.2. Besides, variable state can take $11$}\\\\ \n",
    "\\text{values in the factor graph in Task 3 while $6$ values in our factor graph in Task 4.2. Variable event can take $5$ values in the}\\\\\n",
    "\\text{factor graph in Task 3 while $6$ values in our factor graph in Task 4.2. What's more, events scan, login, and sensitive URI are}\\\\\n",
    "\\text{common to both factor graphs. States benign, discovery, privilege escalation, persistence, command and control, and execution are}\\\\ \n",
    "\\text{common to both factor graphs. Since we choose to use a HMM-like factor function to model this attack, there is no common factor}\\\\\n",
    "\\text{function to both factor graphs.}\n",
    "$"
   ]
  }
 ],
 "metadata": {
  "kernelspec": {
   "display_name": "Python 3",
   "language": "python",
   "name": "python3"
  },
  "language_info": {
   "codemirror_mode": {
    "name": "ipython",
    "version": 3
   },
   "file_extension": ".py",
   "mimetype": "text/x-python",
   "name": "python",
   "nbconvert_exporter": "python",
   "pygments_lexer": "ipython3",
   "version": "3.7.6"
  }
 },
 "nbformat": 4,
 "nbformat_minor": 2
}
