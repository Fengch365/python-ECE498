{
 "cells": [
  {
   "cell_type": "markdown",
   "metadata": {},
   "source": [
    "$\n",
    "\\textbf{Homework 2}\\\\\n",
    "\\textbf{ECE/CS 498 DS Spring 2020}\\\\\n",
    "\\textbf{Name: Chuhao Feng}\\\\\n",
    "\\textbf{NetID: chuhaof2}\\\\\n",
    "\\textbf{Registration status: Registered}\n",
    "$"
   ]
  },
  {
   "cell_type": "code",
   "execution_count": 1,
   "metadata": {},
   "outputs": [],
   "source": [
    "import numpy as np"
   ]
  },
  {
   "cell_type": "markdown",
   "metadata": {},
   "source": [
    "## Problem 1"
   ]
  },
  {
   "cell_type": "markdown",
   "metadata": {},
   "source": [
    "### Task 1 K-Means"
   ]
  },
  {
   "cell_type": "code",
   "execution_count": 2,
   "metadata": {},
   "outputs": [
    {
     "name": "stdout",
     "output_type": "stream",
     "text": [
      "d_c1: 5\n",
      "d_c2: 52\n",
      "d_c1: 4\n",
      "d_c2: 41\n",
      "d_c1: 1\n",
      "d_c2: 34\n",
      "d_c1: 25\n",
      "d_c2: 2\n",
      "d_c1: 34\n",
      "d_c2: 1\n",
      "d_c1: 41\n",
      "d_c2: 4\n"
     ]
    },
    {
     "data": {
      "text/plain": [
       "[(3, 2), (3, 2), (3, 2), (5, 7), (5, 7), (5, 7)]"
      ]
     },
     "execution_count": 2,
     "metadata": {},
     "output_type": "execute_result"
    }
   ],
   "source": [
    "data_p = [(1,1),(1,2),(2,2),(6,6),(6,7),(7,7)]\n",
    "c1 = (3,2)\n",
    "c2 = (5,7)\n",
    "Cs = []\n",
    "\n",
    "for i in data_p:\n",
    "    print('d_c1:',(i[0]-c1[0])**2 + (i[1]-c1[1])**2)\n",
    "    print('d_c2:',(i[0]-c2[0])**2 + (i[1]-c2[1])**2)\n",
    "    if ((i[0]-c1[0])**2 + (i[1]-c1[1])**2) < ((i[0]-c2[0])**2 + (i[1]-c2[1])**2):\n",
    "        Cs.append(c1)\n",
    "    else:\n",
    "        Cs.append(c2)\n",
    "        \n",
    "Cs"
   ]
  },
  {
   "cell_type": "markdown",
   "metadata": {},
   "source": [
    "$\n",
    "(1,2), (1,2), (2,2)\n",
    "$\n",
    "\n",
    "$\n",
    "(6,6), (6,7), (7,7)\n",
    "$\n",
    "\n",
    "$\n",
    "(\\frac{4}{3}, \\frac{5}{3})\\ \\ \\ \\ (\\frac{19}{3},\\frac{20}{3})\n",
    "$"
   ]
  },
  {
   "cell_type": "markdown",
   "metadata": {},
   "source": [
    "### Task 2 1-D GMM"
   ]
  },
  {
   "cell_type": "markdown",
   "metadata": {},
   "source": [
    "$\n",
    "\\because a \\sim N(3,1)\\\\\n",
    "\\therefore \\mu_a = 3,\\ \\sigma_a = 1\\\\\n",
    "\\because P(x=1|a) = \\frac{1}{\\sqrt{2\\pi \\sigma_a^2}} exp(-\\frac{(1-\\mu_a)^2}{2\\sigma_a^2})\\\\\n",
    "\\therefore P(x=1|a) = 0.053991\\\\\n",
    "$"
   ]
  },
  {
   "cell_type": "markdown",
   "metadata": {},
   "source": [
    "$\n",
    "\\because a \\sim N(3,1),\\ b \\sim N(4,1)\\\\\n",
    "\\therefore \\mu_a = 3,\\ \\sigma_a = 1,\\ \\ \\mu_b = 4,\\ \\sigma_b = 1\\\\\n",
    "\\because P(x=1|a) = \\frac{1}{\\sqrt{2\\pi \\sigma_a^2}} exp(-\\frac{(1-\\mu_a)^2}{2\\sigma_a^2})\\\\\n",
    "\\because P(x=1|b) = \\frac{1}{\\sqrt{2\\pi \\sigma_b^2}} exp(-\\frac{(1-\\mu_b)^2}{2\\sigma_b^2})\\\\\n",
    "\\therefore P(x=1|a) = 0.053991, P(x=1|b) = 0.004432\\\\\n",
    "\\because P(a|x=1) = \\frac{P(x=1|a)P(a)}{P(x=1|a)P(a) + P(x=1|b)P(b)} = 0.924139\\\\\n",
    "$"
   ]
  },
  {
   "cell_type": "code",
   "execution_count": 3,
   "metadata": {},
   "outputs": [
    {
     "data": {
      "text/plain": [
       "[(0.9241418199787564, 0.07585818002124355),\n",
       " (0.9241418199787564, 0.07585818002124355),\n",
       " (0.8175744761936437, 0.18242552380635635),\n",
       " (0.07585818002124355, 0.9241418199787564),\n",
       " (0.07585818002124355, 0.9241418199787564),\n",
       " (0.02931223075135632, 0.9706877692486436)]"
      ]
     },
     "execution_count": 3,
     "metadata": {},
     "output_type": "execute_result"
    }
   ],
   "source": [
    "xi = [1,1,2,6,6,7]\n",
    "P_pos = []\n",
    "\n",
    "for i in xi:\n",
    "    P_xi_a = (1 / np.sqrt(2*np.pi*1)) * np.exp(-((i-3)**2 / 2*(1**2)))\n",
    "    P_xi_b = (1 / np.sqrt(2*np.pi*1)) * np.exp(-((i-4)**2 / 2*(1**2)))\n",
    "    \n",
    "    P_a_xi = P_xi_a / (P_xi_a + P_xi_b)\n",
    "    P_b_xi = P_xi_b / (P_xi_a + P_xi_b)\n",
    "    \n",
    "    P_pos.append((P_a_xi,P_b_xi))\n",
    "    \n",
    "P_pos"
   ]
  },
  {
   "cell_type": "code",
   "execution_count": 4,
   "metadata": {},
   "outputs": [
    {
     "name": "stdout",
     "output_type": "stream",
     "text": [
      "mu_a: 1.615419523594012\n",
      "mu_b: 5.8358460105669945\n",
      "sigma_a: 1.6114060717172303\n",
      "sigma_b: 2.409504187152901\n"
     ]
    }
   ],
   "source": [
    "mu_a = np.sum([P_pos[i][0]*xi[i] for i in range(len(xi))]) / np.sum([P_pos[i][0] for i in range(len(xi))])\n",
    "mu_b = np.sum([P_pos[i][1]*xi[i] for i in range(len(xi))]) / np.sum([P_pos[i][1] for i in range(len(xi))])\n",
    "\n",
    "sigma_a = np.sum([P_pos[i][0]*(xi[i]-mu_a)**2 for i in range(len(xi))]) / np.sum([P_pos[i][0] for i in range(len(xi))])\n",
    "sigma_b = np.sum([P_pos[i][1]*(xi[i]-mu_b)**2 for i in range(len(xi))]) / np.sum([P_pos[i][1] for i in range(len(xi))])\n",
    "\n",
    "print('mu_a:', mu_a)\n",
    "print('mu_b:', mu_b)\n",
    "print('sigma_a:', sigma_a)\n",
    "print('sigma_b:', sigma_b)\n"
   ]
  },
  {
   "cell_type": "markdown",
   "metadata": {},
   "source": [
    "$\n",
    "\\therefore \\mu_a = \\frac{a_1x_1 + a_2x_2 + a_3x_3 + a_4x_4 + a_5x_5 + a_6x_6}{a_1 + a_2 + a_3 + a_4 + a_5 + a_6} \n",
    "= 1.615419523594012\\\\\n",
    "\\therefore \\mu_b = \\frac{b_1x_1 + b_2x_2 + b_3x_3 + b_4x_4 + b_5x_5 + b_6x_6}{b_1 + b_2 + b_3 + b_4 + b_5 + b_6} \n",
    "= 5.8358460105669945\\\\\n",
    "\\therefore \\sigma_a^2 = \n",
    "\\frac{a_1(x_1-\\mu_a)^2 + a_2(x_2-\\mu_a)^2 + a_3(x_3-\\mu_a)^2 + a_4(x_4-\\mu_a)^2 + a_5(x_5-\\mu_a)^2 + a_6(x_6-\\mu_a)^2 }\n",
    "{a_1 + a_2 + a_3 + a_4 + a_5 + a_6} = 1.6114060717172303\\\\\n",
    "\\therefore \\sigma_b^2 = \n",
    "\\frac{b_1(x_1-\\mu_b)^2 + b_2(x_2-\\mu_b)^2 + b_3(x_3-\\mu_b)^2 + b_4(x_4-\\mu_b)^2 + b_5(x_5-\\mu_b)^2 + b_6(x_6-\\mu_b)^2 }\n",
    "{b_1 + b_2 + b_3 + b_4 + b_5 + b_6} = 2.409504187152901\\\\\n",
    "$"
   ]
  },
  {
   "cell_type": "markdown",
   "metadata": {},
   "source": [
    "### Task 3 2-D GMM"
   ]
  },
  {
   "cell_type": "markdown",
   "metadata": {},
   "source": [
    "$\n",
    "\\because a \\sim N((2,5),I)\\\\\n",
    "\\therefore \\vec{\\mu_a} = (2,5),\\ \\sigma_{a1} = 1,\\ \\sigma_{a2} = 1\\\\\n",
    "\\therefore P((2,2)|a) = \\frac{1}{\\sqrt{2\\pi \\sigma_{a1}^2}} exp(-\\frac{1}{2} \\frac{(2-2)^2}{\\sigma_{a1}^2})\n",
    "\\times \\frac{1}{\\sqrt{2\\pi \\sigma_{a2}^2}} exp(-\\frac{1}{2} \\frac{(2-5)^2}{\\sigma_{a2}^2}) = 0.001768\\\\\n",
    "$"
   ]
  },
  {
   "cell_type": "code",
   "execution_count": 7,
   "metadata": {},
   "outputs": [
    {
     "data": {
      "text/plain": [
       "0.0017680517118520169"
      ]
     },
     "execution_count": 7,
     "metadata": {},
     "output_type": "execute_result"
    }
   ],
   "source": [
    "P_2_2_a = (1 / np.sqrt(2*np.pi*(1**2)) * np.exp(0)) * (1 / np.sqrt(2*np.pi*(1**2)) * np.exp(-0.5*(3**2 / 1**2)))\n",
    "P_2_2_a"
   ]
  },
  {
   "cell_type": "code",
   "execution_count": 8,
   "metadata": {},
   "outputs": [
    {
     "data": {
      "text/plain": [
       "0.00023927977920047065"
      ]
     },
     "execution_count": 8,
     "metadata": {},
     "output_type": "execute_result"
    }
   ],
   "source": [
    "P_2_2_b = (1 / np.sqrt(2*np.pi*(1**2)) * np.exp(-0.5*(3**2 / 1**2))) * (1 / np.sqrt(2*np.pi*(1**2)) * np.exp(-0.5*(2**2 / 1**2)))\n",
    "P_2_2_b"
   ]
  },
  {
   "cell_type": "markdown",
   "metadata": {},
   "source": [
    "$\n",
    "\\because a \\sim N((2,5),I),\\ b \\sim N((5,4),I)\\\\\n",
    "\\therefore \\vec{\\mu_a} = (2,5),\\ \\sigma_{a1} = 1,\\ \\sigma_{a2} = 1\\\\\n",
    "\\therefore \\vec{\\mu_b} = (5,4),\\ \\sigma_{b1} = 1,\\ \\sigma_{b2} = 1\\\\\n",
    "\\therefore P((2,2)|a) = \\frac{1}{\\sqrt{2\\pi \\sigma_{a1}^2}} exp(-\\frac{1}{2} \\frac{(2-2)^2}{\\sigma_{a1}^2})\n",
    "\\times \\frac{1}{\\sqrt{2\\pi \\sigma_{a2}^2}} exp(-\\frac{1}{2} \\frac{(2-5)^2}{\\sigma_{a2}^2}) = 0.001768\\\\\n",
    "\\therefore P((2,2)|b) = \\frac{1}{\\sqrt{2\\pi \\sigma_{b1}^2}} exp(-\\frac{1}{2} \\frac{(2-5)^2}{\\sigma_{b1}^2})\n",
    "\\times \\frac{1}{\\sqrt{2\\pi \\sigma_{b2}^2}} exp(-\\frac{1}{2} \\frac{(2-4)^2}{\\sigma_{b2}^2}) = 0.000239\\\\\n",
    "\\therefore P(a|(2,2)) = \\frac{P((2,2)|a)P(a)}{P((2,2)|a)P(a)+P((2,2)|b)P(b)} = 0.880797\\\\\n",
    "$"
   ]
  },
  {
   "cell_type": "code",
   "execution_count": 9,
   "metadata": {},
   "outputs": [
    {
     "data": {
      "text/plain": [
       "0.8807970779778824"
      ]
     },
     "execution_count": 9,
     "metadata": {},
     "output_type": "execute_result"
    }
   ],
   "source": [
    "P_a_2_2 = P_2_2_a/(P_2_2_a + P_2_2_b)\n",
    "P_a_2_2"
   ]
  },
  {
   "cell_type": "code",
   "execution_count": 11,
   "metadata": {},
   "outputs": [
    {
     "data": {
      "text/plain": [
       "[(0.9820137900379085, 0.01798620996209156),\n",
       " (0.9933071490757152, 0.006692850924284857),\n",
       " (0.8807970779778824, 0.11920292202211756),\n",
       " (0.002472623156634774, 0.9975273768433652),\n",
       " (0.006692850924284857, 0.9933071490757152),\n",
       " (0.00033535013046647805, 0.9996646498695335)]"
      ]
     },
     "execution_count": 11,
     "metadata": {},
     "output_type": "execute_result"
    }
   ],
   "source": [
    "xi_2D = [(1,1),(1,2),(2,2),(6,6),(6,7),(7,7)]\n",
    "P_pos_2D = []\n",
    "\n",
    "for i in xi_2D:\n",
    "    P_xi_a = (1 / np.sqrt(2*np.pi*(1**2)) * np.exp(-0.5*((i[0]-2)**2 / 1**2))) * (1 / np.sqrt(2*np.pi*(1**2)) * np.exp(-0.5*((i[1]-5)**2 / 1**2)))\n",
    "    P_xi_b = (1 / np.sqrt(2*np.pi*(1**2)) * np.exp(-0.5*((i[0]-5)**2 / 1**2))) * (1 / np.sqrt(2*np.pi*(1**2)) * np.exp(-0.5*((i[1]-4)**2 / 1**2)))\n",
    "    P_a_xi = P_xi_a / (P_xi_a + P_xi_b)\n",
    "    P_b_xi = P_xi_b / (P_xi_a + P_xi_b)\n",
    "    P_pos_2D.append((P_a_xi,P_b_xi))\n",
    "    \n",
    "P_pos_2D"
   ]
  },
  {
   "cell_type": "code",
   "execution_count": 12,
   "metadata": {},
   "outputs": [
    {
     "name": "stdout",
     "output_type": "stream",
     "text": [
      "mu_a_2D: (1.3240614333562455, 1.6730261964247826)\n",
      "mu_b_2D: (6.127443867584766, 6.4464861120882)\n"
     ]
    }
   ],
   "source": [
    "mu_a_1 = np.sum([P_pos_2D[i][0]*xi_2D[i][0] for i in range(len(xi_2D))]) / np.sum([P_pos_2D[i][0] for i in range(len(xi_2D))])\n",
    "mu_a_2 = np.sum([P_pos_2D[i][0]*xi_2D[i][1] for i in range(len(xi_2D))]) / np.sum([P_pos_2D[i][0] for i in range(len(xi_2D))])\n",
    "mu_b_1 = np.sum([P_pos_2D[i][1]*xi_2D[i][0] for i in range(len(xi_2D))]) / np.sum([P_pos_2D[i][1] for i in range(len(xi_2D))])\n",
    "mu_b_2 = np.sum([P_pos_2D[i][1]*xi_2D[i][1] for i in range(len(xi_2D))]) / np.sum([P_pos_2D[i][1] for i in range(len(xi_2D))])\n",
    "\n",
    "mu_a_2D = (mu_a_1, mu_a_2)\n",
    "mu_b_2D = (mu_b_1, mu_b_2)\n",
    "\n",
    "print('mu_a_2D:', mu_a_2D)\n",
    "print('mu_b_2D:', mu_b_2D)"
   ]
  },
  {
   "cell_type": "markdown",
   "metadata": {},
   "source": [
    "$\n",
    "\\because P(a) = \\frac{1}{6} \\sum_{i=1}^6 P(a|\\vec{x_i}),\\ P(b) = \\frac{1}{6} \\sum_{i=1}^6 P(b|\\vec{x_i})\\\\\n",
    "\\because \\mu_{a,1} = \\sum_{i=1}^6(\\frac{P(a|\\vec{x_i})}{6 P(a)})x_{i,1},\\mu_{a,2} = \\sum_{i=1}^6(\\frac{P(a|\\vec{x_i})}{6 P(a)})x_{i,2}\\ \\\\\n",
    "\\because \\mu_{b,1} = \\sum_{i=1}^6(\\frac{P(b|\\vec{x_i})}{6 P(b)})x_{i,1},\\mu_{b,2} = \\sum_{i=1}^6(\\frac{P(b|\\vec{x_i})}{6 P(b)})x_{i,2}\\ \\\\\n",
    "\\therefore \\mu_a = (\\mu_{a,1},\\mu_{a,2}) = (1.324061, 1.673026)\\\\\n",
    "\\therefore \\mu_b = (\\mu_{b,1},\\mu_{b,2}) = (6.127444, 6.446486)\\\\\n",
    "$"
   ]
  },
  {
   "cell_type": "code",
   "execution_count": 14,
   "metadata": {},
   "outputs": [
    {
     "name": "stdout",
     "output_type": "stream",
     "text": [
      "sum_a_1_1: 0.2865249319532171\n",
      "sum_a_1_2: 0.18511675632763477\n",
      "sum_a_2_1: 0.18511675632763477\n",
      "sum_a_2_2: 0.3108969379071093\n"
     ]
    }
   ],
   "source": [
    "sum_a_1_1 = np.sum([P_pos_2D[i][0]*(xi_2D[i][0]-mu_a_2D[0])*(xi_2D[i][0]-mu_a_2D[0]) for i in range(len(xi_2D))]) / np.sum([P_pos_2D[i][0] for i in range(len(xi_2D))])\n",
    "sum_a_1_2 = np.sum([P_pos_2D[i][0]*(xi_2D[i][0]-mu_a_2D[0])*(xi_2D[i][1]-mu_a_2D[1]) for i in range(len(xi_2D))]) / np.sum([P_pos_2D[i][0] for i in range(len(xi_2D))])\n",
    "sum_a_2_1 = np.sum([P_pos_2D[i][0]*(xi_2D[i][1]-mu_a_2D[1])*(xi_2D[i][0]-mu_a_2D[0]) for i in range(len(xi_2D))]) / np.sum([P_pos_2D[i][0] for i in range(len(xi_2D))])\n",
    "sum_a_2_2 = np.sum([P_pos_2D[i][0]*(xi_2D[i][1]-mu_a_2D[1])*(xi_2D[i][1]-mu_a_2D[1]) for i in range(len(xi_2D))]) / np.sum([P_pos_2D[i][0] for i in range(len(xi_2D))])\n",
    "print('sum_a_1_1:', sum_a_1_1)\n",
    "print('sum_a_1_2:', sum_a_1_2)\n",
    "print('sum_a_2_1:', sum_a_2_1)\n",
    "print('sum_a_2_2:', sum_a_2_2)"
   ]
  },
  {
   "cell_type": "code",
   "execution_count": 15,
   "metadata": {},
   "outputs": [
    {
     "name": "stdout",
     "output_type": "stream",
     "text": [
      "sum_b_1_1: 1.1080271733886808\n",
      "sum_b_1_2: 1.056690684921185\n",
      "sum_b_2_1: 1.056690684921185\n",
      "sum_b_2_2: 1.2226084871793341\n"
     ]
    }
   ],
   "source": [
    "sum_b_1_1 = np.sum([P_pos_2D[i][1]*(xi_2D[i][0]-mu_b_2D[0])*(xi_2D[i][0]-mu_b_2D[0]) for i in range(len(xi_2D))]) / np.sum([P_pos_2D[i][1] for i in range(len(xi_2D))])\n",
    "sum_b_1_2 = np.sum([P_pos_2D[i][1]*(xi_2D[i][0]-mu_b_2D[0])*(xi_2D[i][1]-mu_b_2D[1]) for i in range(len(xi_2D))]) / np.sum([P_pos_2D[i][1] for i in range(len(xi_2D))])\n",
    "sum_b_2_1 = np.sum([P_pos_2D[i][1]*(xi_2D[i][1]-mu_b_2D[1])*(xi_2D[i][0]-mu_b_2D[0]) for i in range(len(xi_2D))]) / np.sum([P_pos_2D[i][1] for i in range(len(xi_2D))])\n",
    "sum_b_2_2 = np.sum([P_pos_2D[i][1]*(xi_2D[i][1]-mu_b_2D[1])*(xi_2D[i][1]-mu_b_2D[1]) for i in range(len(xi_2D))]) / np.sum([P_pos_2D[i][1] for i in range(len(xi_2D))])\n",
    "print('sum_b_1_1:', sum_b_1_1)\n",
    "print('sum_b_1_2:', sum_b_1_2)\n",
    "print('sum_b_2_1:', sum_b_2_1)\n",
    "print('sum_b_2_2:', sum_b_2_2)"
   ]
  },
  {
   "cell_type": "markdown",
   "metadata": {},
   "source": [
    "## Problem 3"
   ]
  },
  {
   "cell_type": "markdown",
   "metadata": {},
   "source": [
    "$\n",
    "\\text{Based on the network and local semantics, the factorization is as follows.}\\\\\n",
    "\\begin{equation}\\begin{split}\n",
    "P(A,T,E,X,L,S,B,D) &= P(X|A,T,E,L,S,B,D)P(D|A,T,E,L,S,B)P(E|A,T,L,S,B)P(T|A,L,S,B)P(L|A,S,B)P(B|A,S)P(A|S)P(S)\\\\\n",
    "&= P(X|E)P(D|E,B)P(E|T,L)P(T|A)P(L|S)P(B|S)P(A)P(S)\n",
    "\\end{split}\\end{equation}\n",
    "$"
   ]
  },
  {
   "cell_type": "markdown",
   "metadata": {},
   "source": [
    "$\n",
    "\\begin{equation}\\begin{split}\n",
    "P(D) &= \\sum_{\\text{all}\\ A,T,E,X,L,S,B} P(A,T,E,X,L,S,B,D)\\\\\n",
    "&=\\sum_{\\text{all}\\ A,T,E,X,L,S,B} P(X|E)P(D|E,B)P(E|T,L)P(T|A)P(L|S)P(B|S)P(A)P(S)\n",
    "\\end{split}\\end{equation}\n",
    "$"
   ]
  }
 ],
 "metadata": {
  "kernelspec": {
   "display_name": "Python 3",
   "language": "python",
   "name": "python3"
  },
  "language_info": {
   "codemirror_mode": {
    "name": "ipython",
    "version": 3
   },
   "file_extension": ".py",
   "mimetype": "text/x-python",
   "name": "python",
   "nbconvert_exporter": "python",
   "pygments_lexer": "ipython3",
   "version": "3.7.3"
  }
 },
 "nbformat": 4,
 "nbformat_minor": 2
}
