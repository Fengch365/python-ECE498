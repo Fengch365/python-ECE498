{
 "cells": [
  {
   "cell_type": "code",
   "execution_count": 1,
   "metadata": {},
   "outputs": [],
   "source": [
    "NetID = \"chuhaof2\""
   ]
  },
  {
   "cell_type": "code",
   "execution_count": 2,
   "metadata": {},
   "outputs": [],
   "source": [
    "import pandas as pd\n",
    "import numpy as np\n",
    "import matplotlib.mlab as mlab\n",
    "import matplotlib.pyplot as plt\n",
    "import seaborn as sns"
   ]
  },
  {
   "cell_type": "code",
   "execution_count": 3,
   "metadata": {},
   "outputs": [],
   "source": [
    "sns.set()"
   ]
  },
  {
   "cell_type": "markdown",
   "metadata": {},
   "source": [
    "# Part A: Parsing"
   ]
  },
  {
   "cell_type": "code",
   "execution_count": 4,
   "metadata": {},
   "outputs": [],
   "source": [
    "# read in pf.log\n",
    "with open('pf.log') as f:\n",
    "    lines = f.readlines()"
   ]
  },
  {
   "cell_type": "code",
   "execution_count": 5,
   "metadata": {},
   "outputs": [],
   "source": [
    "# strip all lines of whitespace, tab, <, and >\n",
    "for i in range(len(lines)):\n",
    "    lines[i] = lines[i].strip('\\n').strip('\\t').strip('<').strip('>')"
   ]
  },
  {
   "cell_type": "code",
   "execution_count": 6,
   "metadata": {},
   "outputs": [],
   "source": [
    "line_index = [] # record indice of faults in lines\n",
    "faults = [] # store faults\n",
    "backtraces = [] # store backtraces\n",
    "\n",
    "# divide data into faults and backtraces \n",
    "for i in range(len(lines)):\n",
    "    if '/' != lines[i][0]: # a fault\n",
    "        faults.append(lines[i].split(':')) # store the fault as a list\n",
    "        line_index.append(i) # record the index of this fault in lines\n",
    "    else: # a backtrace\n",
    "        # split the backtrace and store as a list\n",
    "        backtraces.append([lines[i].split('+')[0], lines[i].split('+')[1].split('/')[0], lines[i].split('+')[1].split('/')[1]])\n",
    "\n",
    "line_index.append(len(lines)) # addtitional index for parsing"
   ]
  },
  {
   "cell_type": "code",
   "execution_count": 7,
   "metadata": {},
   "outputs": [],
   "source": [
    "# create lists to store corresponding data\n",
    "index = []\n",
    "time = []\n",
    "proc_name = []\n",
    "pid = []\n",
    "pfadder = []\n",
    "rw = []\n",
    "major_minor = []\n",
    "resolve_time = []\n",
    "lib = []\n",
    "addr = []\n",
    "offset = []\n",
    "\n",
    "# base index for mapping backtraces to the corresponding fault\n",
    "base_index = 0\n",
    "\n",
    "for i in range(len(faults)): # loop over each fault\n",
    "    \n",
    "    for j in range(line_index[i+1]-line_index[i]-1): # loop over each traceback for one fault\n",
    "        # the same ith fault\n",
    "        index.append(i+1)\n",
    "        time.append(faults[i][0])\n",
    "        proc_name.append(faults[i][1])\n",
    "        pid.append(faults[i][2])\n",
    "        pfadder.append(int(faults[i][3], base=16))\n",
    "        rw.append(faults[i][4])\n",
    "        major_minor.append(faults[i][5])\n",
    "        resolve_time.append(faults[i][6])\n",
    "        \n",
    "        # multiple backtraces for the same ith fault\n",
    "        lib.append(backtraces[j+base_index][0])\n",
    "        offset.append(int(backtraces[j+base_index][1], base=16))\n",
    "        addr.append(int(backtraces[j+base_index][2], base=16))\n",
    "        \n",
    "    base_index = line_index[i+1]-line_index[i]-1 # increment to map to next fault"
   ]
  },
  {
   "cell_type": "code",
   "execution_count": 8,
   "metadata": {},
   "outputs": [],
   "source": [
    "# combine all the lists to make a dictionary\n",
    "data_dict = {'index': index, 'time': time, 'proc_name': proc_name, 'pid': pid, 'pfadder': pfadder, 'rw': rw, \n",
    "             'major_minor': major_minor, 'resolve_time': resolve_time, 'lib': lib, 'addr': addr, 'offset': offset}\n",
    "\n",
    "# use dictionary to form a pandas DataFrame\n",
    "pf_df = pd.DataFrame(data=data_dict)"
   ]
  },
  {
   "cell_type": "code",
   "execution_count": 9,
   "metadata": {},
   "outputs": [],
   "source": [
    "# create pf.csv file\n",
    "pf_df.to_csv('pf.csv', sep='\\t', index=False, line_terminator='\\n')"
   ]
  },
  {
   "cell_type": "markdown",
   "metadata": {},
   "source": [
    "# Part B: Analysis"
   ]
  },
  {
   "cell_type": "code",
   "execution_count": 10,
   "metadata": {},
   "outputs": [],
   "source": [
    "# relevant options when reading in pf.csv: sep, parse_dates\n",
    "df = pd.read_csv('pf.csv', sep = '\\t', parse_dates = ['time'])"
   ]
  },
  {
   "cell_type": "code",
   "execution_count": 11,
   "metadata": {},
   "outputs": [],
   "source": [
    "# convert timestamps to Pandas datetimes\n",
    "df['time']=pd.to_datetime(df['time'], unit='ms')"
   ]
  },
  {
   "cell_type": "code",
   "execution_count": 12,
   "metadata": {},
   "outputs": [],
   "source": [
    "# set the index of the data frame\n",
    "df.set_index('index', inplace=True)"
   ]
  },
  {
   "cell_type": "markdown",
   "metadata": {},
   "source": [
    "## Part B.a"
   ]
  },
  {
   "cell_type": "code",
   "execution_count": 13,
   "metadata": {},
   "outputs": [
    {
     "name": "stdout",
     "output_type": "stream",
     "text": [
      "Part B.a\n",
      "Start time: 2017-10-01 00:01:09.251000\n",
      "End time: 2018-01-07 18:59:50.839000\n",
      "Total duration: 98 days 18:58:41.588000\n"
     ]
    }
   ],
   "source": [
    "# Part B.a\n",
    "start_time = df['time'].min()\n",
    "end_time = df['time'].max()\n",
    "total_duration = end_time - start_time\n",
    "\n",
    "print('Part B.a')\n",
    "print('Start time:', start_time)\n",
    "print('End time:', end_time)\n",
    "print('Total duration:', total_duration)"
   ]
  },
  {
   "cell_type": "markdown",
   "metadata": {},
   "source": [
    "## Part B.b"
   ]
  },
  {
   "cell_type": "code",
   "execution_count": 14,
   "metadata": {},
   "outputs": [
    {
     "name": "stdout",
     "output_type": "stream",
     "text": [
      "Part B.b\n",
      "Number of unique processes: 12\n",
      "\n",
      " proc_name\n",
      "auditd           57185\n",
      "bash             57427\n",
      "firefox          58289\n",
      "gitlab-runner    54543\n",
      "google-chrome    59596\n",
      "htop             58304\n",
      "sshd             61721\n",
      "subl             61746\n",
      "thunderbird      59393\n",
      "tmux             54661\n",
      "watchdog         58839\n",
      "xorg             61072\n",
      "dtype: int64\n"
     ]
    }
   ],
   "source": [
    "# Part B.b\n",
    "df_clean = df.drop(labels=['lib','addr','offset'], axis=1).drop_duplicates()\n",
    "num_unique_proc = len(df_clean['proc_name'].unique())\n",
    "unique_procs = df_clean.groupby('proc_name').size()\n",
    "\n",
    "print('Part B.b')\n",
    "print('Number of unique processes:', num_unique_proc)\n",
    "print('\\n', unique_procs)"
   ]
  },
  {
   "cell_type": "markdown",
   "metadata": {},
   "source": [
    "## Part B.c"
   ]
  },
  {
   "cell_type": "code",
   "execution_count": 15,
   "metadata": {
    "scrolled": false
   },
   "outputs": [
    {
     "data": {
      "image/png": "[encoded data removed]",
      "text/plain": [
       "<Figure size 1440x432 with 1 Axes>"
      ]
     },
     "metadata": {},
     "output_type": "display_data"
    }
   ],
   "source": [
    "# Part B.c\n",
    "plt.figure(figsize=(20,6))\n",
    "df_clean.groupby(['proc_name','major_minor']).size().plot.bar(color=['b','orange'])\n",
    "plt.xlabel('Process')\n",
    "plt.ylabel('Number')\n",
    "plt.title('Bar Diagram for Number of Major and Minor Page Faults for Each Process')\n",
    "plt.show()"
   ]
  },
  {
   "cell_type": "markdown",
   "metadata": {},
   "source": [
    "## Part B.d"
   ]
  },
  {
   "cell_type": "code",
   "execution_count": 16,
   "metadata": {},
   "outputs": [
    {
     "data": {
      "text/plain": [
       "array([<matplotlib.axes._subplots.AxesSubplot object at 0x0000021818F3BCF8>,\n",
       "       <matplotlib.axes._subplots.AxesSubplot object at 0x0000021811FC4A90>],\n",
       "      dtype=object)"
      ]
     },
     "execution_count": 16,
     "metadata": {},
     "output_type": "execute_result"
    },
    {
     "data": {
      "image/png": "[encoded data removed]",
      "text/plain": [
       "<Figure size 1440x432 with 2 Axes>"
      ]
     },
     "metadata": {},
     "output_type": "display_data"
    }
   ],
   "source": [
    "# Part B.d\n",
    "df_clean['resolve_time'].hist(by=df_clean['major_minor'], figsize=(20,6))\n",
    "# plt.show()"
   ]
  },
  {
   "cell_type": "code",
   "execution_count": 17,
   "metadata": {},
   "outputs": [
    {
     "name": "stdout",
     "output_type": "stream",
     "text": [
      "Mean of the time to resolve page faults\n",
      "\n",
      "proc_name      major_minor\n",
      "auditd         major          217.744957\n",
      "               minor           27.520375\n",
      "bash           major          217.933310\n",
      "               minor           27.441138\n",
      "firefox        major          220.677850\n",
      "               minor           27.571360\n",
      "gitlab-runner  major          213.840484\n",
      "               minor           27.374746\n",
      "google-chrome  major          218.564163\n",
      "               minor           27.508144\n",
      "htop           major          218.407320\n",
      "               minor           27.427236\n",
      "sshd           major          216.405321\n",
      "               minor           27.506795\n",
      "subl           major          215.434655\n",
      "               minor           27.445493\n",
      "thunderbird    major          220.438450\n",
      "               minor           27.487018\n",
      "tmux           major          218.882986\n",
      "               minor           27.447289\n",
      "watchdog       major          217.280824\n",
      "               minor           27.599203\n",
      "xorg           major          217.523527\n",
      "               minor           27.534931\n",
      "Name: resolve_time, dtype: float64\n"
     ]
    }
   ],
   "source": [
    "# calculate the mean of the time to resolve page faults\n",
    "print('Mean of the time to resolve page faults\\n')\n",
    "print(df_clean.groupby(['proc_name','major_minor']).mean()['resolve_time'])"
   ]
  },
  {
   "cell_type": "code",
   "execution_count": 18,
   "metadata": {},
   "outputs": [
    {
     "name": "stdout",
     "output_type": "stream",
     "text": [
      "Standard deviation of the time to resolve page faults\n",
      "\n",
      "proc_name      major_minor\n",
      "auditd         major          105.359066\n",
      "               minor           13.286257\n",
      "bash           major          105.217991\n",
      "               minor           13.274842\n",
      "firefox        major          104.520439\n",
      "               minor           13.276758\n",
      "gitlab-runner  major          106.110610\n",
      "               minor           13.263701\n",
      "google-chrome  major          104.980363\n",
      "               minor           13.230826\n",
      "htop           major          104.727800\n",
      "               minor           13.277471\n",
      "sshd           major          105.368912\n",
      "               minor           13.299934\n",
      "subl           major          105.697540\n",
      "               minor           13.255274\n",
      "thunderbird    major          107.001650\n",
      "               minor           13.252948\n",
      "tmux           major          105.851619\n",
      "               minor           13.276518\n",
      "watchdog       major          105.421466\n",
      "               minor           13.269930\n",
      "xorg           major          105.730484\n",
      "               minor           13.278453\n",
      "Name: resolve_time, dtype: float64\n"
     ]
    }
   ],
   "source": [
    "# calculate the standare deviation of the time to resolve page faults\n",
    "print('Standard deviation of the time to resolve page faults\\n')\n",
    "print(df_clean.groupby(['proc_name','major_minor']).std()['resolve_time'])"
   ]
  },
  {
   "cell_type": "markdown",
   "metadata": {},
   "source": [
    "# Part C: Making Predictions"
   ]
  },
  {
   "cell_type": "markdown",
   "metadata": {},
   "source": [
    "## Part C.a"
   ]
  },
  {
   "cell_type": "code",
   "execution_count": 19,
   "metadata": {
    "scrolled": false
   },
   "outputs": [
    {
     "name": "stdout",
     "output_type": "stream",
     "text": [
      "Calculate the priors for all the classes in fraction\n",
      "\n",
      "proc_name\n",
      "auditd           0.081370\n",
      "bash             0.081715\n",
      "firefox          0.082941\n",
      "gitlab-runner    0.077611\n",
      "google-chrome    0.084801\n",
      "htop             0.082962\n",
      "sshd             0.087825\n",
      "subl             0.087860\n",
      "thunderbird      0.084512\n",
      "tmux             0.077779\n",
      "watchdog         0.083724\n",
      "xorg             0.086901\n",
      "dtype: float64\n"
     ]
    }
   ],
   "source": [
    "# Part C.a\n",
    "print('Calculate the priors for all the classes in fraction\\n')\n",
    "print(df_clean.groupby('proc_name').size()/df_clean.shape[0])"
   ]
  },
  {
   "cell_type": "markdown",
   "metadata": {},
   "source": [
    "## Part C.b"
   ]
  },
  {
   "cell_type": "code",
   "execution_count": 20,
   "metadata": {
    "scrolled": false
   },
   "outputs": [
    {
     "data": {
      "text/plain": [
       "proc_name      major_minor\n",
       "auditd         major          0.008112\n",
       "               minor          0.073258\n",
       "bash           major          0.008129\n",
       "               minor          0.073585\n",
       "firefox        major          0.008525\n",
       "               minor          0.074416\n",
       "gitlab-runner  major          0.007529\n",
       "               minor          0.070082\n",
       "google-chrome  major          0.008449\n",
       "               minor          0.076351\n",
       "htop           major          0.008398\n",
       "               minor          0.074564\n",
       "sshd           major          0.008664\n",
       "               minor          0.079160\n",
       "subl           major          0.008721\n",
       "               minor          0.079139\n",
       "thunderbird    major          0.008334\n",
       "               minor          0.076178\n",
       "tmux           major          0.007795\n",
       "               minor          0.069984\n",
       "watchdog       major          0.008355\n",
       "               minor          0.075368\n",
       "xorg           major          0.008649\n",
       "               minor          0.078253\n",
       "dtype: float64"
      ]
     },
     "execution_count": 20,
     "metadata": {},
     "output_type": "execute_result"
    }
   ],
   "source": [
    "# Part C.b\n",
    "# calculate P(Major|Class)*P(Class)\n",
    "posterior_prob_b = (df_clean.groupby(['proc_name','major_minor']).size()/df_clean.groupby(['proc_name']).size())*(df_clean.groupby('proc_name').size()/df_clean.shape[0])\n",
    "posterior_prob_b"
   ]
  },
  {
   "cell_type": "code",
   "execution_count": 21,
   "metadata": {},
   "outputs": [
    {
     "name": "stdout",
     "output_type": "stream",
     "text": [
      "Largest posterior probability by MAP given that the page fault was major:  0.008721128780721026\n"
     ]
    }
   ],
   "source": [
    "print('Largest posterior probability by MAP given that the page fault was major: ', posterior_prob_b.groupby('major_minor').max()['major'])\n",
    "# Based on the largest posterior probability calculated by MAP\n",
    "# The page fault is most likely caused by process subl."
   ]
  },
  {
   "cell_type": "markdown",
   "metadata": {},
   "source": [
    "## Part C.c"
   ]
  },
  {
   "cell_type": "code",
   "execution_count": 22,
   "metadata": {},
   "outputs": [
    {
     "data": {
      "text/plain": [
       "proc_name      rw\n",
       "auditd         R     0.056836\n",
       "               W     0.024534\n",
       "bash           R     0.057059\n",
       "               W     0.024655\n",
       "firefox        R     0.058147\n",
       "               W     0.024795\n",
       "gitlab-runner  R     0.054376\n",
       "               W     0.023235\n",
       "google-chrome  R     0.059262\n",
       "               W     0.025539\n",
       "htop           R     0.058202\n",
       "               W     0.024760\n",
       "sshd           R     0.061341\n",
       "               W     0.026484\n",
       "subl           R     0.061401\n",
       "               W     0.026459\n",
       "thunderbird    R     0.059295\n",
       "               W     0.025217\n",
       "tmux           R     0.054592\n",
       "               W     0.023187\n",
       "watchdog       R     0.058699\n",
       "               W     0.025025\n",
       "xorg           R     0.060850\n",
       "               W     0.026051\n",
       "dtype: float64"
      ]
     },
     "execution_count": 22,
     "metadata": {},
     "output_type": "execute_result"
    }
   ],
   "source": [
    "# Part C.c\n",
    "# calculate P(R|Class)*P(Class)\n",
    "posterior_prob_c = (df_clean.groupby(['proc_name','rw']).size()/df_clean.groupby(['proc_name']).size())*(df_clean.groupby('proc_name').size()/df_clean.shape[0])\n",
    "posterior_prob_c"
   ]
  },
  {
   "cell_type": "code",
   "execution_count": 23,
   "metadata": {
    "scrolled": true
   },
   "outputs": [
    {
     "name": "stdout",
     "output_type": "stream",
     "text": [
      "Largest posterior probability by MAP given that the page fault came from a read access:  0.061400787733217985\n"
     ]
    }
   ],
   "source": [
    "print('Largest posterior probability by MAP given that the page fault came from a read access: ', posterior_prob_c.groupby('rw').max()['R'])\n",
    "# Based on the largest posterior probability calculated by MAP\n",
    "# The page fault is most likely caused by process subl ."
   ]
  },
  {
   "cell_type": "markdown",
   "metadata": {},
   "source": [
    "## Part C.d"
   ]
  },
  {
   "cell_type": "code",
   "execution_count": 24,
   "metadata": {},
   "outputs": [],
   "source": [
    "# Part C.d\n",
    "\n",
    "# Naïve Bayes model could be used for classifying the process given information about two distinct features, \n",
    "# because it is reasonable and intuitive to assume these two features are independent of each other given \n",
    "# certain process type. Besides, Naïve Bayes model can be used as a classifier."
   ]
  }
 ],
 "metadata": {
  "kernelspec": {
   "display_name": "Python 3",
   "language": "python",
   "name": "python3"
  },
  "language_info": {
   "codemirror_mode": {
    "name": "ipython",
    "version": 3
   },
   "file_extension": ".py",
   "mimetype": "text/x-python",
   "name": "python",
   "nbconvert_exporter": "python",
   "pygments_lexer": "ipython3",
   "version": "3.7.4"
  }
 },
 "nbformat": 4,
 "nbformat_minor": 2
}
