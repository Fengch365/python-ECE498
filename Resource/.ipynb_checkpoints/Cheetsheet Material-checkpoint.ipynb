{
 "cells": [
  {
   "cell_type": "markdown",
   "metadata": {},
   "source": [
    "$\n",
    "\\text{Mahalanobis distance between}\\\\\n",
    "\\text{point $x_1$ and the mean $\\mu$ of a}\\\\\n",
    "\\text{distribution with std $\\sigma$ is $\\frac{x_1-\\mu}{\\sigma}$.}\\\\\n",
    "\\text{It represents the number of std}\\\\\n",
    "\\text{away the point is from the mean.}\n",
    "$"
   ]
  },
  {
   "cell_type": "markdown",
   "metadata": {},
   "source": [
    "$\n",
    "\\text{To find a set of orthonormal vectors}\\\\\n",
    "\\text{such that each successive vector}\\\\\n",
    "\\text{(principal component) accounts}\\\\\n",
    "\\text{for the maximum possible}\\\\\n",
    "\\text{unexplained variance in the data}\n",
    "$"
   ]
  },
  {
   "cell_type": "markdown",
   "metadata": {},
   "source": [
    "$\n",
    "\\textbf{EM algorithm}\\\\\n",
    "\\text{$K$ mixture components $c_1,...,c_k$}\\\\\n",
    "\\text{Expectation step:}\\ j \\in \\{1,...,K\\}\\\\\n",
    "P(c_j|x_i)=\\frac{p(x_i|c_j)P(c_j)}{\\sum_{k=1}^{K} p(x_i|c_k)P(c_k)}\\\\\n",
    "\\text{Maximization step:}\\ j\\in \\{1,...,K\\}\\\\\n",
    "\\text{$j^{th}$ distribution has}\\ \\mu_j,\\sigma_j^2,P(c_j)\\\\\n",
    "\\mu_j = \\frac{\\sum_{i=1}^{n}P(c_j|x_i)x_i}{\\sum_{i=1}^{n}P(c_j|x_i)},\\ P(c_j) = \\frac{\\sum_{i=1}^n P(c_j|x_i)}{n}\\\\\n",
    "\\sigma_j^2 = \\frac{\\sum_{i=1}^n P(c_j|x_i)(x_i-\\mu_j)^2}{\\sum_{i=1}^n P(c_j|x_i)}\\\\\n",
    "\\textbf{Gaussian dist.}\\ \n",
    "$"
   ]
  },
  {
   "cell_type": "markdown",
   "metadata": {},
   "source": [
    "$\n",
    "\\text{Model with degree of 6 overfits and}\\\\\n",
    "\\text{the model with degree 4 underfits}\\\\\n",
    "$"
   ]
  },
  {
   "cell_type": "markdown",
   "metadata": {},
   "source": [
    "$\n",
    "\\textbf{standardization}\\text{: make the data}\\\\\n",
    "\\text{have zero mean and unit variance}\\\\\n",
    "\\ \\\\\n",
    "\\textbf{Standardizing}\\text{ the variables to}\\\\\n",
    "\\text{make dimensions }\\textbf{comparable}\\\\\n",
    "\\ \\\\\n",
    "\\textbf{Maximized log-likelihood}\\text{: perform}\\\\\n",
    "\\text{poorly because the clusters }\\textbf{overfit}\n",
    "$"
   ]
  }
 ],
 "metadata": {
  "kernelspec": {
   "display_name": "Python 3",
   "language": "python",
   "name": "python3"
  },
  "language_info": {
   "codemirror_mode": {
    "name": "ipython",
    "version": 3
   },
   "file_extension": ".py",
   "mimetype": "text/x-python",
   "name": "python",
   "nbconvert_exporter": "python",
   "pygments_lexer": "ipython3",
   "version": "3.7.4"
  }
 },
 "nbformat": 4,
 "nbformat_minor": 2
}
