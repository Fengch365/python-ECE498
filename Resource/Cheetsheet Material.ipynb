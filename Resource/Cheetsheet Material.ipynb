{
 "cells": [
  {
   "cell_type": "markdown",
   "metadata": {},
   "source": [
    "$\n",
    "\\text{Mahalanobis distance between}\\\\\n",
    "\\text{point $x_1$ and the mean $\\mu$ of a}\\\\\n",
    "\\text{distribution with std $\\sigma$ is $\\frac{x_1-\\mu}{\\sigma}$.}\\\\\n",
    "\\text{It represents the number of std}\\\\\n",
    "\\text{away the point is from the mean.}\n",
    "$"
   ]
  },
  {
   "cell_type": "markdown",
   "metadata": {},
   "source": [
    "$\n",
    "\\text{To find a set of orthonormal vectors}\\\\\n",
    "\\text{such that each successive vector}\\\\\n",
    "\\text{(principal component) accounts}\\\\\n",
    "\\text{for the maximum possible}\\\\\n",
    "\\text{unexplained variance in the data}\n",
    "$"
   ]
  },
  {
   "cell_type": "markdown",
   "metadata": {},
   "source": [
    "$\n",
    "\\textbf{EM algorithm}\\\\\n",
    "\\text{$K$ mixture components $c_1,...,c_k$}\\\\\n",
    "\\text{Expectation step:}\\ j \\in \\{1,...,K\\}\\\\\n",
    "P(c_j|x_i)=\\frac{p(x_i|c_j)P(c_j)}{\\sum_{k=1}^{K} p(x_i|c_k)P(c_k)}\\\\\n",
    "\\text{Maximization step:}\\ j\\in \\{1,...,K\\}\\\\\n",
    "\\text{$j^{th}$ distribution has}\\ \\mu_j,\\sigma_j^2,P(c_j)\\\\\n",
    "\\mu_j = \\frac{\\sum_{i=1}^{n}P(c_j|x_i)x_i}{\\sum_{i=1}^{n}P(c_j|x_i)},\\ P(c_j) = \\frac{\\sum_{i=1}^n P(c_j|x_i)}{n}\\\\\n",
    "\\sigma_j^2 = \\frac{\\sum_{i=1}^n P(c_j|x_i)(x_i-\\mu_j)^2}{\\sum_{i=1}^n P(c_j|x_i)}\\\\\n",
    "\\textbf{Gaussian}\\ \\mu_j=\\mu,\\ \\sigma_j = \\sigma\\\\\n",
    "\\textbf{Gamma}\\ \\mu_j=k\\theta=\\frac{\\alpha}{\\beta},\\ \\sigma_j^2=k\\theta^2=\\frac{\\alpha}{\\beta^2}\\\\\n",
    "\\textbf{Beta}\\ \\mu_j=\\frac{\\alpha}{\\alpha+\\beta},\\ \\sigma_j^2=\\frac{\\alpha \\beta}{(\\alpha+\\beta)^2(\\alpha+\\beta+1)}\\\\\n",
    "\\textbf{Weibull}\\ \\mu_j=\\lambda \\Gamma(1+\\frac{1}{k})\\\\\n",
    "\\sigma_j^2=\\lambda^2[\\Gamma(1+\\frac{2}{k})-(\\Gamma(1+\\frac{1}{k}))^2]\n",
    "$"
   ]
  },
  {
   "cell_type": "markdown",
   "metadata": {},
   "source": [
    "$\n",
    "\\text{Model with degree of 6 overfits and}\\\\\n",
    "\\text{the model with degree 4 underfits}\\\\\n",
    "$"
   ]
  },
  {
   "cell_type": "markdown",
   "metadata": {},
   "source": [
    "$\n",
    "\\textbf{standardization}\\text{: make the data}\\\\\n",
    "\\text{have zero mean and unit variance}\\\\\n",
    "\\ \\\\\n",
    "\\textbf{Standardizing}\\text{ the variables to}\\\\\n",
    "\\text{make dimensions }\\textbf{comparable}\\\\\n",
    "\\ \\\\\n",
    "\\textbf{Maximized log-likelihood}\\text{: perform}\\\\\n",
    "\\text{poorly because the clusters }\\textbf{overfit}\\\\\n",
    "\\ \\\\\n",
    "\\text{Gamma mixture model can capture}\\\\\n",
    "\\text{overlapping clusters, like GMM}\\ \\checkmark\\\\\n",
    "\\ \\\\\n",
    "\\textbf{Cluster}\\text{: as you $\\uparrow k$,you will always}\\\\\n",
    "\\text{get better likelihood of the data}\\ \\checkmark\\\\\n",
    "\\ \\\\\n",
    "\\text{$k$ that }\\textbf{min}\\text{(SSE) $\\Rightarrow$ }\\textbf{Overfitting}\\\\\n",
    "\\text{Every point becomes its own cluster}\\\\\n",
    "\\ \\\\\n",
    "\\because \\text{always an improvement}\\\\\n",
    "\\because \\text{SSE bounded from below}\\\\\n",
    "\\therefore \\text{K means converges within finite steps}\n",
    "$"
   ]
  },
  {
   "cell_type": "markdown",
   "metadata": {},
   "source": [
    "$\n",
    "\\textbf{Simple Linear Regression}\\text{ is a}\\\\\n",
    "\\text{statistical method that allows}\\\\\n",
    "\\text{us to summarize and study relationships}\\\\\n",
    "\\text{between two continuouos variables}\\\\\n",
    "\\ \\\\\n",
    "\\text{Linear regression assumes:}\\\\\n",
    "\\text{-Relationship between $X$ and $Y$ is linear}\\\\\n",
    "\\text{-$Y$ is distributed normally at each $X$}\\\\\n",
    "\\text{-No or little multicollinearity}\\\\\n",
    "\\text{-No auto-correlation}\\\\\n",
    "\\text{-Homoscedasticity (same variance)}\\\\\n",
    "\\ \\\\\n",
    "\\hat{y}=\\alpha + \\beta x\\\\\n",
    "SSR=\\sum_i (\\hat{y_i}-\\bar{y})^2,\\ SSE=\\sum_i (y_i-\\hat{y_i})^2\\\\\n",
    "SST=\\sum_i (y_i-\\bar{y})^2,\\ r^2 = \\frac{SSR}{SST} = 1-\\frac{SSE}{SST}\\\\\n",
    "\\ \\\\\n",
    "\\hat{\\beta}=\\frac{Cov(x,y)}{Var(x)}=\\frac{N(\\sum xy)-(\\sum x)(\\sum y)}{N(\\sum x^2)-(\\sum x)^2}\\\\\n",
    "\\hat{\\alpha}=\\bar{y}-\\hat{\\beta}\\bar{x}=\\frac{(\\sum y)(\\sum x^2)-(\\sum x)(\\sum xy)}{N(\\sum x^2)-(\\sum x)^2}\\\\\n",
    "\\ \\\\\n",
    "r^2 \\uparrow \\Rightarrow \\text{regression accuracy} \\uparrow\\\\\n",
    "\\text{$r^2$: }\\textbf{proportion of total variation explained by}\\\\\n",
    "\\textbf{the regression}\\text{ or }\\textbf{coefficient of determination}\\\\\n",
    "\\ \\\\ \n",
    "\\textbf{correlation coefficient $r$:}\\ r=\\pm \\sqrt{r^2},\\ \\hat{r}=\\hat{\\beta}\\frac{\\sigma_x}{\\sigma_y}\\\\\n",
    "\\ \\\\\n",
    "\\textbf{Multiple LR}\\Rightarrow (X_1,X_2,...)\\rightarrow Y\\\\\n",
    "\\textbf{Multivariate LR}\\Rightarrow X\\rightarrow (Y_1,Y_2,...)\\\\\n",
    "\\textbf{Multivariate Multiple LR}\\\\\n",
    "\\Rightarrow (X_1,X_2,...)\\rightarrow (Y_1,Y_2,...)\\\\\n",
    "$"
   ]
  },
  {
   "cell_type": "markdown",
   "metadata": {},
   "source": [
    "$\n",
    "\\textbf{GLMs: gerneralized linear models}\\\\\n",
    "\\textbf{-Random Component:}\\ \\text{prob. dist. for $Y$}\\\\\n",
    "\\textbf{Systematic Component:}\\ \\text{linear predictor}\\\\\n",
    "\\eta=\\beta_0 + \\beta_1X_1+...+\\beta_nX_n\\\\\n",
    "\\textbf{Link Function:}\\ g(\\mu)=\\eta\\\\\n",
    "g^{-1}\\ \\text{is the activation function}\\\\\n",
    "\\ \\\\\n",
    "\\text{Logistic regression is a GLM used to}\\\\\n",
    "\\text{model a binary categorical variable using}\\\\\n",
    "\\text{numerical and categorical predictors}\\\\\n",
    "\\ \\\\\n",
    "\\textbf{logit function}\\\\\n",
    "\\eta=\\text{logit}(p)=\\text{ln}(\\frac{p}{1-p}),\\ \\text{for}\\ 0<p<1\\\\\n",
    "\\textbf{activation/sigmoid function}\\\\\n",
    "\\mu=f(\\eta)=g^{-1}(\\eta)=\\frac{e^{\\eta}}{1+e^{\\eta}}=\\frac{1}{1+e^{-\\eta}}\\\\\n",
    "$"
   ]
  }
 ],
 "metadata": {
  "kernelspec": {
   "display_name": "Python 3",
   "language": "python",
   "name": "python3"
  },
  "language_info": {
   "codemirror_mode": {
    "name": "ipython",
    "version": 3
   },
   "file_extension": ".py",
   "mimetype": "text/x-python",
   "name": "python",
   "nbconvert_exporter": "python",
   "pygments_lexer": "ipython3",
   "version": "3.7.4"
  }
 },
 "nbformat": 4,
 "nbformat_minor": 2
}
