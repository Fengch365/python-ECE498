{
 "cells": [
  {
   "cell_type": "markdown",
   "metadata": {},
   "source": [
    "$\n",
    "\\text{Margin distance} = \\frac{\\vec{w}^{T} \\vec{x} + b + \\vec{1} - (\\vec{w}^{T} \\vec{x} + b - \\vec{1})}{||\\vec{w}||} = \\frac{2}{||\\vec{w}||}\n",
    "$"
   ]
  },
  {
   "cell_type": "markdown",
   "metadata": {},
   "source": [
    "$\n",
    "\\text{max} \\frac{2}{||\\vec{w}||}\\Rightarrow \\text{min} ||\\vec{w}|| \\Rightarrow \\text{min} \\frac{||\\vec{w}||^2}{2}\\\\\n",
    "\\Rightarrow \\text{argmin}_{\\vec{w}} \\frac{1}{2} ||\\vec{w}||^2\\ \\text{such that}\\\n",
    "1\\le y_i (\\vec{w}^{T} \\vec{x_i} + b)\\ \\forall i\\in \\{1,...,N\\}\n",
    "$"
   ]
  },
  {
   "cell_type": "code",
   "execution_count": 1,
   "metadata": {},
   "outputs": [],
   "source": [
    "import numpy as np"
   ]
  },
  {
   "cell_type": "code",
   "execution_count": 9,
   "metadata": {},
   "outputs": [
    {
     "name": "stdout",
     "output_type": "stream",
     "text": [
      "A.\n",
      "For y1: 1.1\n",
      "For y2: 1.6\n",
      "For y3: 1.1\n",
      "B.\n",
      "For y1: 1.0\n",
      "For y2: 1.2000000000000002\n",
      "For y3: 1.0\n",
      "C.\n",
      "For y1: 0.9000000000000002\n",
      "For y2: 0.8000000000000002\n",
      "For y3: 0.9\n",
      "D.\n",
      "For y1: 0.6\n",
      "For y2: 1.6\n",
      "For y3: 1.0\n",
      "\n",
      "Compare the objective for A and B\n",
      "A: 0.125\n",
      "B: 0.10000000000000002\n"
     ]
    }
   ],
   "source": [
    "x1 = np.array([1,2,3])\n",
    "x2 = np.array([4,1,2])\n",
    "x3 = np.array([-1,2,-1])\n",
    "\n",
    "y1 = 1\n",
    "y2 = 1\n",
    "y3 = -1\n",
    "\n",
    "# A\n",
    "print('A.')\n",
    "wa = np.array([.3, 0, .4])\n",
    "b = -.4\n",
    "\n",
    "print('For y1:', y1*(np.dot(wa, x1)+b))\n",
    "print('For y2:', y2*(np.dot(wa, x2)+b))\n",
    "print('For y3:', y3*(np.dot(wa, x3)+b))\n",
    "\n",
    "# B\n",
    "print('B.')\n",
    "wb = np.array([.2, 0, .4])\n",
    "b = -.4\n",
    "\n",
    "print('For y1:', y1*(np.dot(wb, x1)+b))\n",
    "print('For y2:', y2*(np.dot(wb, x2)+b))\n",
    "print('For y3:', y3*(np.dot(wb, x3)+b))\n",
    "\n",
    "# C\n",
    "print('C.')\n",
    "wc = np.array([.1, 0, .4])\n",
    "b = -.4\n",
    "\n",
    "print('For y1:', y1*(np.dot(wc, x1)+b))\n",
    "print('For y2:', y2*(np.dot(wc, x2)+b))\n",
    "print('For y3:', y3*(np.dot(wc, x3)+b))\n",
    "\n",
    "# D\n",
    "print('D.')\n",
    "wd = np.array([.4, 0, .2])\n",
    "b = -.4\n",
    "\n",
    "print('For y1:', y1*(np.dot(wd, x1)+b))\n",
    "print('For y2:', y2*(np.dot(wd, x2)+b))\n",
    "print('For y3:', y3*(np.dot(wd, x3)+b))\n",
    "\n",
    "# compare A and B\n",
    "print('\\nCompare the objective for A and B')\n",
    "print('A:', (np.linalg.norm(wa)**2)/2)\n",
    "print('B:', (np.linalg.norm(wb)**2)/2)"
   ]
  },
  {
   "cell_type": "markdown",
   "metadata": {},
   "source": [
    "$\n",
    "\\frac{dg(z)}{dz} = \\begin{cases}\n",
    "1 & z > 0\\\\\n",
    "0 & z < 0\\\\\n",
    "\\text{undefined} & z = 0\n",
    "\\end{cases}\n",
    "$"
   ]
  },
  {
   "cell_type": "markdown",
   "metadata": {},
   "source": [
    "$\n",
    "\\because z_i = -1\\\\\n",
    "\\therefore h_1'(z_i) = 0,\\ \\text{according to problem 4.(c) in SVM}\\\\\n",
    "\\therefore \\text{any weight derivative including $\\frac{dh_1(z_i)}{z_i}$ should be $0$}\\\\\n",
    "\\because \\text{based on the network, $\\frac{\\partial C}{\\partial w_2}$ and $\\frac{\\partial C}{\\partial w_3}$ includes $\\frac{dh_1(z_i)}{z_i}$}\\\\\n",
    "\\therefore \\text{$\\frac{\\partial C}{\\partial w_2}$ and $\\frac{\\partial C}{\\partial w_3}$ are gauranteed to be $0$ while the value of $\\frac{\\partial C}{\\partial w_1}$ is not sure}\n",
    "$"
   ]
  },
  {
   "cell_type": "code",
   "execution_count": 4,
   "metadata": {},
   "outputs": [
    {
     "name": "stdout",
     "output_type": "stream",
     "text": [
      "h1\n",
      " 0.9866130821723351\n",
      "o1\n",
      " 0.9995694429186754\n"
     ]
    }
   ],
   "source": [
    "def sigmoid(x):\n",
    "    return 1/(1 + np.exp(-x))\n",
    "\n",
    "x = np.array([1,4,5])\n",
    "w_h = np.array([[.1,.2],\n",
    "                [.3,.4],\n",
    "                [.5,.6]])\n",
    "w_o = np.array([[.7,.9],\n",
    "                [.8,.1]])\n",
    "b_1 = np.array([.5,.5])\n",
    "b_2 = np.array([.5,.5])\n",
    "\n",
    "zh = np.dot(x, w_h) + b_1\n",
    "zo = np.dot(zh, w_o) + b_2\n",
    "\n",
    "print('h1\\n', sigmoid(zh[0]))\n",
    "print('o1\\n', sigmoid(zo[0]))"
   ]
  },
  {
   "cell_type": "markdown",
   "metadata": {},
   "source": [
    "$\n",
    "\\frac{\\partial E}{\\partial w_7} = \\frac{\\partial E}{\\partial o_1}\\frac{\\partial o_1}{\\partial zo_1}\\frac{\\partial zo_1}{\\partial w_7}\\\\\n",
    "\\ \\\\\n",
    "\\frac{\\partial E}{\\partial b_2} = \\frac{\\partial E}{\\partial o_1}\\frac{\\partial o_1}{\\partial zo_1}\\frac{\\partial zo_1}{\\partial b_2} +\n",
    "\\frac{\\partial E}{\\partial o_2}\\frac{\\partial o_2}{\\partial zo_2}\\frac{\\partial zo_2}{\\partial b_2}\\\\\n",
    "\\ \\\\\n",
    "\\frac{\\partial E}{\\partial w_1} = \\frac{\\partial E}{\\partial o_1}\\frac{\\partial o_1}{\\partial zo_1}\\frac{\\partial zo_1}{\\partial h_1} \n",
    "\\frac{\\partial h_1}{\\partial zh_1}\\frac{\\partial zh_1}{\\partial w_1}\n",
    "+\n",
    "\\frac{\\partial E}{\\partial o_2}\\frac{\\partial o_2}{\\partial zo_2}\\frac{\\partial zo_2}{\\partial h_1} \n",
    "\\frac{\\partial h_1}{\\partial zh_1}\\frac{\\partial zh_1}{\\partial w_1}\n",
    "$"
   ]
  },
  {
   "cell_type": "code",
   "execution_count": 14,
   "metadata": {},
   "outputs": [
    {
     "data": {
      "text/plain": [
       "0.0999872848"
      ]
     },
     "execution_count": 14,
     "metadata": {},
     "output_type": "execute_result"
    }
   ],
   "source": [
    ".1 - .01*0.00127152"
   ]
  },
  {
   "cell_type": "markdown",
   "metadata": {},
   "source": [
    "$\n",
    "\\because \\frac{\\partial E}{\\partial o_1} = o_1 - t_1 = 0.89956944,\\\n",
    "\\frac{\\partial E}{\\partial o_2} = o_2 - t_2 = 0.75\\\\\n",
    "\\because \\frac{\\partial o_1}{\\partial zo_1} = o_1(1-o_1) = 0.00043037,\\\n",
    "\\frac{\\partial o_2}{\\partial zo_2} = o_2(1-o_2) = 0.16\\\\\n",
    "\\because \\frac{\\partial zo_1}{\\partial w_7} = h_1 = 0.98661308,\\\n",
    "\\frac{\\partial zo_1}{\\partial b_2} = 1,\\\n",
    "\\frac{\\partial zo_2}{\\partial b_2} = 1\\\\\n",
    "\\because \\frac{\\partial zo_1}{\\partial h_1} = w_7 = 0.7,\\\n",
    "\\frac{\\partial zo_2}{\\partial h_1} = w_8 = 0.8\\\\\n",
    "\\because \\frac{\\partial h_1}{\\partial zh_1} = h_1(1-h_1) = 0.013207710,\\\n",
    "\\frac{\\partial zh_1}{\\partial w_1} = x_1 = 1\\\\\n",
    "\\therefore \\frac{\\partial E}{\\partial w_7} = 0.00038196,\\\n",
    "\\frac{\\partial E}{\\partial b_2} = 0.12038715,\\\n",
    "\\frac{\\partial E}{\\partial w_1} = 0.00127152\\\\\n",
    "\\therefore w_7^+ = w_7 - \\alpha \\times \\frac{\\partial E}{\\partial w_7} = 0.69999618\\\\\n",
    "\\therefore b_2^+ = b_2 - \\alpha \\times \\frac{\\partial E}{\\partial b_2} = 0.49879613\\\\\n",
    "\\therefore w_1^+ = w_1 - \\alpha \\times \\frac{\\partial E}{\\partial w_1} = 0.09998728\\\\\n",
    "$"
   ]
  },
  {
   "cell_type": "code",
   "execution_count": 18,
   "metadata": {},
   "outputs": [
    {
     "data": {
      "text/plain": [
       "1.6568542494923806"
      ]
     },
     "execution_count": 18,
     "metadata": {},
     "output_type": "execute_result"
    }
   ],
   "source": [
    "1 - (-1)*np.dot([2,2]-np.linalg.norm([2,2]), [-1,-1])-1"
   ]
  },
  {
   "cell_type": "markdown",
   "metadata": {},
   "source": [
    "$\n",
    "\\Rightarrow C \\vec{w} + \\sum_{i=1}^{M} -y_i \\vec{x_i},\\ \\text{where}\\ x_i\\in \\{x_1,\\ x_2,\\ ...,\\ x_M\\}\\ \\text{satisfy}\\ 1-y_i(\\vec{w}^T \\vec{x}_i +b) > 0\n",
    "$"
   ]
  },
  {
   "cell_type": "markdown",
   "metadata": {},
   "source": [
    "$\n",
    "\\because 1-y_1(\\vec{w}^T \\vec{x_1} +b) = -2 < 0\\\\\n",
    "\\therefore \\nabla \\vec{w} = \\begin{bmatrix}\n",
    "2\\\\ 2\n",
    "\\end{bmatrix}\\\\\n",
    "\\therefore \\vec{w}_1 = \\vec{w} - 1\\times \\nabla \\vec{w} = \\begin{bmatrix}\n",
    "0\\\\ 0\n",
    "\\end{bmatrix}\\\\\n",
    "\\because 1-y_2(\\vec{w}^T \\vec{x_2} +b) = 0 \\\\\n",
    "\\therefore \\nabla \\vec{w} = \\begin{bmatrix}\n",
    "0\\\\ 0\n",
    "\\end{bmatrix} +\n",
    "\\vec{x_2}\\\\\n",
    "\\therefore \\vec{w}_2 = \\vec{w_1} - 1\\times \\nabla \\vec{w} = \\begin{bmatrix}\n",
    "1\\\\ 1\n",
    "\\end{bmatrix}\n",
    "$"
   ]
  }
 ],
 "metadata": {
  "kernelspec": {
   "display_name": "Python 3",
   "language": "python",
   "name": "python3"
  },
  "language_info": {
   "codemirror_mode": {
    "name": "ipython",
    "version": 3
   },
   "file_extension": ".py",
   "mimetype": "text/x-python",
   "name": "python",
   "nbconvert_exporter": "python",
   "pygments_lexer": "ipython3",
   "version": "3.7.4"
  }
 },
 "nbformat": 4,
 "nbformat_minor": 2
}
