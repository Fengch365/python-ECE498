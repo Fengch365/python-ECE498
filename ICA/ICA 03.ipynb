{
 "cells": [
  {
   "cell_type": "code",
   "execution_count": 3,
   "metadata": {},
   "outputs": [],
   "source": [
    "import numpy as np"
   ]
  },
  {
   "cell_type": "code",
   "execution_count": 7,
   "metadata": {},
   "outputs": [
    {
     "name": "stdout",
     "output_type": "stream",
     "text": [
      "cov_matrix\n",
      " [[ 73.9865782  -40.21595603  23.99233881]\n",
      " [-40.21595603 543.93681368 -85.41264806]\n",
      " [ 23.99233881 -85.41264806  47.06444247]]\n",
      "cor_matrix\n",
      " [[ 1.         -0.20046922  0.40658341]\n",
      " [-0.20046922  1.         -0.53382819]\n",
      " [ 0.40658341 -0.53382819  1.        ]]\n"
     ]
    }
   ],
   "source": [
    "cov_matrix = [[73.9865782, -40.21595603, 23.99233881],\n",
    "              [-40.21595603, 543.93681368, -85.41264806],\n",
    "              [23.99233881, -85.41264806, 47.06444247]]\n",
    "\n",
    "cor_matrix = [[1., cov_matrix[0][1] / np.sqrt(cov_matrix[0][0]*cov_matrix[1][1]), 0.40658341],\n",
    "              [cov_matrix[1][0] / np.sqrt(cov_matrix[0][0]*cov_matrix[1][1]), cov_matrix[1][1] / np.sqrt(cov_matrix[1][1]*cov_matrix[1][1]), -0.53382819],\n",
    "              [0.40658341, -0.53382819, 1.]]\n",
    "\n",
    "print('cov_matrix\\n', np.array(cov_matrix))\n",
    "print('cor_matrix\\n', np.array(cor_matrix))"
   ]
  },
  {
   "cell_type": "code",
   "execution_count": 8,
   "metadata": {},
   "outputs": [
    {
     "data": {
      "text/plain": [
       "664.9878343500001"
      ]
     },
     "execution_count": 8,
     "metadata": {},
     "output_type": "execute_result"
    }
   ],
   "source": [
    "trace = np.trace(cov_matrix)\n",
    "trace"
   ]
  }
 ],
 "metadata": {
  "kernelspec": {
   "display_name": "Python 3",
   "language": "python",
   "name": "python3"
  },
  "language_info": {
   "codemirror_mode": {
    "name": "ipython",
    "version": 3
   },
   "file_extension": ".py",
   "mimetype": "text/x-python",
   "name": "python",
   "nbconvert_exporter": "python",
   "pygments_lexer": "ipython3",
   "version": "3.7.3"
  }
 },
 "nbformat": 4,
 "nbformat_minor": 2
}
