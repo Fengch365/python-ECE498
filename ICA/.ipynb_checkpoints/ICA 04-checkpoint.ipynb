{
 "cells": [
  {
   "cell_type": "markdown",
   "metadata": {},
   "source": [
    "$\n",
    "\\frac{\\alpha_2(BS)}{\\alpha_2(BS)+\\alpha_2(CS)}\\\\\n",
    "= \\frac{0.096}{0.096 + 0.231} = 0.294\\\\\n",
    "\\frac{\\alpha_2(CS)}{\\alpha_2(BS)+\\alpha_2(CS)}\\\\\n",
    "= \\frac{0.231}{0.096 + 0.231} = 0.706\\\\\n",
    "\\ \\\\\n",
    "(0.947\\times 0.4 + 0.053\\times 0.8)\\times 0.4 = 0.16848\\\\\n",
    "\\ \\\\\n",
    "[\\alpha_1(BS)\\times P(S_2=CS|S_1=BS)\\\\\n",
    "+\\alpha_1(CS)\\times P(S_2=CS|S_1=CS)]\\times P(E_2=PS|S_2=CS)\\\\\n",
    "=(0.947\\times 0.6 + 0.053\\times 0.2)\\times 0.7 = 0.231\n",
    "$"
   ]
  },
  {
   "cell_type": "markdown",
   "metadata": {},
   "source": [
    "$\n",
    "\\alpha_1(BS) = \\frac{0.9\\times 0.1}{0.9\\times 0.1+0.1\\times 0.1} = 0.9\\\\\n",
    "\\alpha_1(CS) = \\frac{0.1\\times 0.1}{0.9\\times 0.1+0.1\\times 0.1} = 0.1\\\\\n",
    "\\ \\\\\n",
    "\\alpha_2(BS) = \\frac{(0.9\\times 0.4 + 0.1\\times 0.8)\\times 0.4}\n",
    "{(0.9\\times 0.4 + 0.1\\times 0.8)\\times 0.4 + (0.9\\times 0.6 + 0.1\\times 0.2)\\times 0.7} = 0.310\\\\\n",
    "\\alpha_2(CS) = \\frac{(0.9\\times 0.6 + 0.1\\times 0.2)\\times 0.7}\n",
    "{(0.9\\times 0.4 + 0.1\\times 0.8)\\times 0.4 + (0.9\\times 0.6 + 0.1\\times 0.2)\\times 0.7} = 0.690\\\\\n",
    "\\ \\\\\n",
    "\\beta_2(BS) = 0.4\\times 0.1\\times 1 + 0.6\\times 0.1\\times 1 = 0.1\\\\\n",
    "\\beta_2(CS) = 0.8\\times 0.1\\times 1 + 0.2\\times 0.1\\times 1 = 0.1\\\\\n",
    "\\ \\\\\n",
    "\\gamma_2(BS) = \\frac{\\beta_2(BS)\\times \\alpha_2(BS)}\n",
    "{\\beta_2(BS)\\times \\alpha_2(BS)+\\beta_2(CS)\\times \\alpha_2(CS)} = 0.31\\\\\n",
    "\\gamma_2(CS) = \\frac{\\beta_2(CS)\\times \\alpha_2(CS)}\n",
    "{\\beta_2(BS)\\times \\alpha_2(BS)+\\beta_2(CS)\\times \\alpha_2(CS)} = 0.69\\\\\n",
    "\\ \\\\\n",
    "\\therefore S_2^* = CS\n",
    "$"
   ]
  }
 ],
 "metadata": {
  "kernelspec": {
   "display_name": "Python 3",
   "language": "python",
   "name": "python3"
  },
  "language_info": {
   "codemirror_mode": {
    "name": "ipython",
    "version": 3
   },
   "file_extension": ".py",
   "mimetype": "text/x-python",
   "name": "python",
   "nbconvert_exporter": "python",
   "pygments_lexer": "ipython3",
   "version": "3.7.4"
  }
 },
 "nbformat": 4,
 "nbformat_minor": 2
}
